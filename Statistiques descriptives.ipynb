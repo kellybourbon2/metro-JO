# Statistiques descriptives

## Liens vers les codes précédents sur GitHub

- [Code 1](lien_vers_le_code_1)
- [Code 2](lien_vers_le_code_2)
- [Code 3](lien_vers_le_code_3)

## Votre code personnel

```python
# Votre code personnel commence ici
# Ajoutez vos cellules de code, analyses, visualisations, etc.

