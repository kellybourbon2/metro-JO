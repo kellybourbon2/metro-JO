{
 "cells": [
  {
   "cell_type": "markdown",
   "metadata": {},
   "source": [
    "# Statistiques descriptives\n",
    "\n",
    "## Données chargées des fichiers précédents du GitHub sur la fréquentation du métro sans les JO\n",
    "\n",
    "- [Ligne 1](https://github.com/saraht2000/metro-JO/blob/87cf9f87d205226b7b50d02d962b002c0cd15c61/ligne_numero_1.csv)\n",
    "- [Ligne 2 : à voir plus tard](lien_vers_le_code_2)\n",
    "- [Ligne 3 : à voir plus tard](lien_vers_le_code_3)\n"
   ]
  },
  {
   "cell_type": "code",
   "execution_count": 1,
   "metadata": {},
   "outputs": [],
   "source": [
    "import pandas as pd\n",
    "\n",
    "# URL de base des fichiers CSV\n",
    "base_url = 'https://raw.githubusercontent.com/saraht2000/metro-JO/9e7d2de60e320be0ef2eea2b804a620f45611083/'\n",
    "\n",
    "# Liste des noms de fichiers\n",
    "noms_fichiers = [f'ligne_numero_{i}.csv' for i in range(1, 15)]\n",
    "\n",
    "# Boucle pour afficher les premières lignes de chaque fichier CSV\n",
    "for nom_fichier in noms_fichiers:\n",
    "    url = base_url + nom_fichier\n",
    "    df = pd.read_csv(url)\n",
    "    print(f\"Contenu de '{nom_fichier}':\")\n",
    "    print(df.head())\n",
    "    print('\\n')"
   ]
  },
  {
   "cell_type": "code",
   "execution_count": 1,
   "metadata": {},
   "outputs": [],
   "source": [
    "import pandas as pd",
    "\n",
    "import matplotlib.pyplot as plt",
    "\n",
    "# URL raw du fichier CSV sur GitHub\n",
    "url = 'https://raw.githubusercontent.com/saraht2000/metro-JO/main/ligne_numero_1.csv?token=GHSAT0AAAAAACKXSQ6ZHKNIXQDOLFECENKWZMLKY7A'\n",
    "\n",
    "# Charger le fichier CSV dans un DataFrame pandas\n",
    "df = pd.read_csv(url)",
    "\n",
   ]
  }
 ],
 "metadata": {
  "kernelspec": {
   "display_name": "Python 3",
   "language": "python",
   "name": "python3"
  },
  "language_info": {
   "codemirror_mode": {
    "name": "ipython",
    "version": 3
   },
   "file_extension": ".py",
   "mimetype": "text/x-python",
   "name": "python",
   "nbconvert_exporter": "python",
   "pygments_lexer": "ipython3",
   "version": "3.8.5"
  }
 },
 "nbformat": 4,
 "nbformat_minor": 5
}
