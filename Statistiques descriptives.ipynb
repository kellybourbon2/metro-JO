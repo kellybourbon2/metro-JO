{
 "cells": [
  {
   "cell_type": "markdown",
   "metadata": {},
   "source": [
    "# Statistiques descriptives\n",
    "\n",
    "## Données chargées des fichiers précédents du GitHub\n",
    "\n",
    "- [Fréquentation métro sans les JO](https://github.com/saraht2000/metro-JO/blob/189d7d5e90a98604481b4b0afb0c46a8e00c14b4/Fr%C3%A9quentation_metro_en_ne_prenant_pas_en_compte_jo.ipynb)\n",
    "- [Code 2 : à voir plus tard](lien_vers_le_code_2)\n",
    "- [Code 3 : à voir plus tard](lien_vers_le_code_3)\n"
   ]
  },
  {
   "cell_type": "markdown",
   "metadata": {},
   "source": [
    "## Code jupyter python\n",
    "```python\n",
    "# jupyter python\n",
    "# Ajoutez les cellules de code, analyses, visualisations, etc.\n",
    "```"
   ]
  },
  {
   "cell_type": "code",
   "execution_count": null,
   "metadata": {},
   "outputs": [],
   "source": []
  }
 ],
 "metadata": {
  "kernelspec": {
   "display_name": "Python 3",
   "language": "python",
   "name": "python3"
  },
  "language_info": {
   "codemirror_mode": {
    "name": "ipython",
    "version": 3
   },
   "file_extension": ".py",
   "mimetype": "text/x-python",
   "name": "python",
   "nbconvert_exporter": "python",
   "pygments_lexer": "ipython3",
   "version": "3.8.5"
  }
 },
 "nbformat": 4,
 "nbformat_minor": 5
}

# Téléchargement des fichiers CSV depuis GitHub

Ce code télécharge les 14 ou 15 fichiers CSV à partir de GitHub et les stocke dans un dictionnaire Python.

```python
import pandas as pd

# URL de base des fichiers CSV
base_url = 'https://raw.githubusercontent.com/saraht2000/metro-JO/9e7d2de60e320be0ef2eea2b804a620f45611083/'

# Liste des noms de fichiers
noms_fichiers = [f'ligne_numero_{i}.csv' for i in range(1, 15)]

# Boucle pour télécharger les fichiers CSV et les stocker dans un dictionnaire
donnees = {}
for nom_fichier in noms_fichiers:
    url = base_url + nom_fichier
    donnees[nom_fichier] = pd.read_csv(url)

# Afficher les premières lignes de chaque fichier CSV téléchargé
for nom_fichier, df in donnees.items():
    print(f"Contenu de '{nom_fichier}':")
    print(df.head())
    print("\n")

