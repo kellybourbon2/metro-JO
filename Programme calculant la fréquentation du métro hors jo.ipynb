{
 "cells": [
  {
   "cell_type": "code",
   "execution_count": 12,
   "metadata": {},
   "outputs": [],
   "source": [
    "from IPython.utils import io"
   ]
  },
  {
   "cell_type": "code",
   "execution_count": 13,
   "metadata": {},
   "outputs": [],
   "source": [
    "try:\n",
    "    with io.capture_output():\n",
    "        %run -i \"Fréquentation_metro_en_ne_prenant_pas_en_compte_jo.ipynb\"\n",
    "except Exception as e:\n",
    "    display(e)"
   ]
  },
  {
   "cell_type": "code",
   "execution_count": 14,
   "metadata": {},
   "outputs": [
    {
     "name": "stdout",
     "output_type": "stream",
     "text": [
      "Affluence à la station bastille, sur la ligne 1 à 10:35: 14\n",
      "Affluence sur la ligne 1 à 10:35: 434\n"
     ]
    }
   ],
   "source": [
    "def affluence_hors_jo(horaire, station, ligne):\n",
    "    # Obtenir le tableau correspondant à la ligne\n",
    "    line_table = tableaux[f'ligne numéro[{ligne}]']\n",
    "\n",
    "    # Extraire l'heure de l'horaire entré par l'utilisateur\n",
    "    hour, minute = map(int, horaire.split(':'))\n",
    "\n",
    "    # Construire la chaîne de plage horaire correspondante\n",
    "    plage_horaire = f\"{hour:02d}:00-{(hour + 1) % 24:02d}:00\"\n",
    "\n",
    "    # Vérifier si la plage horaire se trouve dans les colonnes du tableau\n",
    "    if plage_horaire not in line_table.columns:\n",
    "        raise ValueError(f\"Plage horaire non trouvée dans le tableau: {plage_horaire}\")\n",
    "\n",
    "    # Récupérer le nombre à la station et à la plage horaire donnée\n",
    "    affluence_horaire = line_table[line_table['Station'] == station][plage_horaire].iloc[0]\n",
    "\n",
    "\n",
    "    # Récupérer la moyenne_NB_VALD_hebdo_période_jo_2022_par_ligne_par_direction à la station\n",
    "    moyenne_ligne = line_table[line_table['Station'] == station]['moyenne_NB_VALD_hebdo_période_jo_2022_par_ligne_par_direction'].iloc[0]\n",
    "\n",
    "    return round(affluence_horaire), round(moyenne_ligne)\n",
    "\n",
    "# Exemple d'utilisation\n",
    "horaire_info = \"10:35\"\n",
    "station_info = \"bastille\"\n",
    "ligne_info = \"1\"\n",
    "\n",
    "try:\n",
    "    affluence_horaire, affluence_ligne = affluence_hors_jo(horaire_info, station_info, ligne_info)\n",
    "    print(f\"Affluence à la station {station_info}, sur la ligne {ligne_info} à {horaire_info}: {affluence_horaire}\")\n",
    "    print(f\"Affluence sur la ligne {ligne_info} à {horaire_info}: {affluence_ligne}\")\n",
    "except ValueError as e:\n",
    "    print(e)"
   ]
  }
 ],
 "metadata": {
  "kernelspec": {
   "display_name": "Python 3 (ipykernel)",
   "language": "python",
   "name": "python3"
  },
  "language_info": {
   "codemirror_mode": {
    "name": "ipython",
    "version": 3
   },
   "file_extension": ".py",
   "mimetype": "text/x-python",
   "name": "python",
   "nbconvert_exporter": "python",
   "pygments_lexer": "ipython3",
   "version": "3.10.13"
  }
 },
 "nbformat": 4,
 "nbformat_minor": 2
}
