{
 "cells": [
  {
   "cell_type": "code",
   "execution_count": 9,
   "metadata": {},
   "outputs": [],
   "source": [
    "from IPython.utils import io"
   ]
  },
  {
   "cell_type": "code",
   "execution_count": 10,
   "metadata": {},
   "outputs": [
    {
     "ename": "KeyError",
     "evalue": "'Moyenne de la fréquentation hebdomadaire de chaque correspondance de la station en 2022, sur la période des JO'",
     "output_type": "error",
     "traceback": [
      "\u001b[0;31m---------------------------------------------------------------------------\u001b[0m",
      "\u001b[0;31mKeyError\u001b[0m                                  Traceback (most recent call last)",
      "File \u001b[0;32m~/.local/lib/python3.10/site-packages/pandas/core/indexes/base.py:3790\u001b[0m, in \u001b[0;36mIndex.get_loc\u001b[0;34m(self, key)\u001b[0m\n\u001b[1;32m   3789\u001b[0m \u001b[38;5;28;01mtry\u001b[39;00m:\n\u001b[0;32m-> 3790\u001b[0m     \u001b[38;5;28;01mreturn\u001b[39;00m \u001b[38;5;28;43mself\u001b[39;49m\u001b[38;5;241;43m.\u001b[39;49m\u001b[43m_engine\u001b[49m\u001b[38;5;241;43m.\u001b[39;49m\u001b[43mget_loc\u001b[49m\u001b[43m(\u001b[49m\u001b[43mcasted_key\u001b[49m\u001b[43m)\u001b[49m\n\u001b[1;32m   3791\u001b[0m \u001b[38;5;28;01mexcept\u001b[39;00m \u001b[38;5;167;01mKeyError\u001b[39;00m \u001b[38;5;28;01mas\u001b[39;00m err:\n",
      "File \u001b[0;32mindex.pyx:152\u001b[0m, in \u001b[0;36mpandas._libs.index.IndexEngine.get_loc\u001b[0;34m()\u001b[0m\n",
      "File \u001b[0;32mindex.pyx:181\u001b[0m, in \u001b[0;36mpandas._libs.index.IndexEngine.get_loc\u001b[0;34m()\u001b[0m\n",
      "File \u001b[0;32mpandas/_libs/hashtable_class_helper.pxi:7080\u001b[0m, in \u001b[0;36mpandas._libs.hashtable.PyObjectHashTable.get_item\u001b[0;34m()\u001b[0m\n",
      "File \u001b[0;32mpandas/_libs/hashtable_class_helper.pxi:7088\u001b[0m, in \u001b[0;36mpandas._libs.hashtable.PyObjectHashTable.get_item\u001b[0;34m()\u001b[0m\n",
      "\u001b[0;31mKeyError\u001b[0m: 'Moyenne de la fréquentation hebdomadaire de chaque correspondance de la station en 2022, sur la période des JO'",
      "\nThe above exception was the direct cause of the following exception:\n",
      "\u001b[0;31mKeyError\u001b[0m                                  Traceback (most recent call last)",
      "File \u001b[0;32m/tmp/ipykernel_2932/1066124768.py:39\u001b[0m\n\u001b[1;32m     36\u001b[0m ligne_info \u001b[38;5;241m=\u001b[39m \u001b[38;5;124m\"\u001b[39m\u001b[38;5;124m1\u001b[39m\u001b[38;5;124m\"\u001b[39m\n\u001b[1;32m     38\u001b[0m \u001b[38;5;28;01mtry\u001b[39;00m:\n\u001b[0;32m---> 39\u001b[0m     affluence_horaire, affluence_suivante, affluence_ligne \u001b[38;5;241m=\u001b[39m \u001b[43maffluence_hors_jo\u001b[49m\u001b[43m(\u001b[49m\u001b[43mhoraire_info\u001b[49m\u001b[43m,\u001b[49m\u001b[43m \u001b[49m\u001b[43mstation_info\u001b[49m\u001b[43m,\u001b[49m\u001b[43m \u001b[49m\u001b[43mligne_info\u001b[49m\u001b[43m)\u001b[49m\n\u001b[1;32m     40\u001b[0m     \u001b[38;5;28mprint\u001b[39m(\u001b[38;5;124mf\u001b[39m\u001b[38;5;124m\"\u001b[39m\u001b[38;5;124mAffluence à \u001b[39m\u001b[38;5;132;01m{\u001b[39;00mhoraire_info\u001b[38;5;132;01m}\u001b[39;00m\u001b[38;5;124m à la station \u001b[39m\u001b[38;5;132;01m{\u001b[39;00mstation_info\u001b[38;5;132;01m}\u001b[39;00m\u001b[38;5;124m, sur la ligne numéro \u001b[39m\u001b[38;5;132;01m{\u001b[39;00mligne_info\u001b[38;5;132;01m}\u001b[39;00m\u001b[38;5;124m : \u001b[39m\u001b[38;5;132;01m{\u001b[39;00maffluence_horaire\u001b[38;5;132;01m}\u001b[39;00m\u001b[38;5;124m\"\u001b[39m)\n\u001b[1;32m     41\u001b[0m     \u001b[38;5;28mprint\u001b[39m(\u001b[38;5;124mf\u001b[39m\u001b[38;5;124m\"\u001b[39m\u001b[38;5;124mAffluence à la plage horaire suivante à la station \u001b[39m\u001b[38;5;132;01m{\u001b[39;00mstation_info\u001b[38;5;132;01m}\u001b[39;00m\u001b[38;5;124m, sur la ligne numéro \u001b[39m\u001b[38;5;132;01m{\u001b[39;00mligne_info\u001b[38;5;132;01m}\u001b[39;00m\u001b[38;5;124m : \u001b[39m\u001b[38;5;132;01m{\u001b[39;00maffluence_suivante\u001b[38;5;132;01m}\u001b[39;00m\u001b[38;5;124m\"\u001b[39m)\n",
      "File \u001b[0;32m/tmp/ipykernel_2932/1066124768.py:29\u001b[0m, in \u001b[0;36maffluence_hors_jo\u001b[0;34m(horaire, station, ligne)\u001b[0m\n\u001b[1;32m     26\u001b[0m affluence_suivante \u001b[38;5;241m=\u001b[39m line_table[line_table[\u001b[38;5;124m'\u001b[39m\u001b[38;5;124mStation\u001b[39m\u001b[38;5;124m'\u001b[39m] \u001b[38;5;241m==\u001b[39m station][plage_horaire_suivante]\u001b[38;5;241m.\u001b[39miloc[\u001b[38;5;241m0\u001b[39m]\n\u001b[1;32m     28\u001b[0m \u001b[38;5;66;03m# Récupérer la moyenne_NB_VALD_hebdo_période_jo_2022_par_ligne_par_direction à la station\u001b[39;00m\n\u001b[0;32m---> 29\u001b[0m moyenne_ligne \u001b[38;5;241m=\u001b[39m \u001b[43mline_table\u001b[49m\u001b[43m[\u001b[49m\u001b[43mline_table\u001b[49m\u001b[43m[\u001b[49m\u001b[38;5;124;43m'\u001b[39;49m\u001b[38;5;124;43mStation\u001b[39;49m\u001b[38;5;124;43m'\u001b[39;49m\u001b[43m]\u001b[49m\u001b[43m \u001b[49m\u001b[38;5;241;43m==\u001b[39;49m\u001b[43m \u001b[49m\u001b[43mstation\u001b[49m\u001b[43m]\u001b[49m\u001b[43m[\u001b[49m\u001b[38;5;124;43m'\u001b[39;49m\u001b[38;5;124;43mMoyenne de la fréquentation hebdomadaire de chaque correspondance de la station en 2022, sur la période des JO\u001b[39;49m\u001b[38;5;124;43m'\u001b[39;49m\u001b[43m]\u001b[49m\u001b[38;5;241m.\u001b[39miloc[\u001b[38;5;241m0\u001b[39m]\n\u001b[1;32m     31\u001b[0m \u001b[38;5;28;01mreturn\u001b[39;00m \u001b[38;5;28mround\u001b[39m(affluence_horaire), \u001b[38;5;28mround\u001b[39m(affluence_suivante), \u001b[38;5;28mround\u001b[39m(moyenne_ligne)\n",
      "File \u001b[0;32m~/.local/lib/python3.10/site-packages/pandas/core/frame.py:3893\u001b[0m, in \u001b[0;36mDataFrame.__getitem__\u001b[0;34m(self, key)\u001b[0m\n\u001b[1;32m   3891\u001b[0m \u001b[38;5;28;01mif\u001b[39;00m \u001b[38;5;28mself\u001b[39m\u001b[38;5;241m.\u001b[39mcolumns\u001b[38;5;241m.\u001b[39mnlevels \u001b[38;5;241m>\u001b[39m \u001b[38;5;241m1\u001b[39m:\n\u001b[1;32m   3892\u001b[0m     \u001b[38;5;28;01mreturn\u001b[39;00m \u001b[38;5;28mself\u001b[39m\u001b[38;5;241m.\u001b[39m_getitem_multilevel(key)\n\u001b[0;32m-> 3893\u001b[0m indexer \u001b[38;5;241m=\u001b[39m \u001b[38;5;28;43mself\u001b[39;49m\u001b[38;5;241;43m.\u001b[39;49m\u001b[43mcolumns\u001b[49m\u001b[38;5;241;43m.\u001b[39;49m\u001b[43mget_loc\u001b[49m\u001b[43m(\u001b[49m\u001b[43mkey\u001b[49m\u001b[43m)\u001b[49m\n\u001b[1;32m   3894\u001b[0m \u001b[38;5;28;01mif\u001b[39;00m is_integer(indexer):\n\u001b[1;32m   3895\u001b[0m     indexer \u001b[38;5;241m=\u001b[39m [indexer]\n",
      "File \u001b[0;32m~/.local/lib/python3.10/site-packages/pandas/core/indexes/base.py:3797\u001b[0m, in \u001b[0;36mIndex.get_loc\u001b[0;34m(self, key)\u001b[0m\n\u001b[1;32m   3792\u001b[0m     \u001b[38;5;28;01mif\u001b[39;00m \u001b[38;5;28misinstance\u001b[39m(casted_key, \u001b[38;5;28mslice\u001b[39m) \u001b[38;5;129;01mor\u001b[39;00m (\n\u001b[1;32m   3793\u001b[0m         \u001b[38;5;28misinstance\u001b[39m(casted_key, abc\u001b[38;5;241m.\u001b[39mIterable)\n\u001b[1;32m   3794\u001b[0m         \u001b[38;5;129;01mand\u001b[39;00m \u001b[38;5;28many\u001b[39m(\u001b[38;5;28misinstance\u001b[39m(x, \u001b[38;5;28mslice\u001b[39m) \u001b[38;5;28;01mfor\u001b[39;00m x \u001b[38;5;129;01min\u001b[39;00m casted_key)\n\u001b[1;32m   3795\u001b[0m     ):\n\u001b[1;32m   3796\u001b[0m         \u001b[38;5;28;01mraise\u001b[39;00m InvalidIndexError(key)\n\u001b[0;32m-> 3797\u001b[0m     \u001b[38;5;28;01mraise\u001b[39;00m \u001b[38;5;167;01mKeyError\u001b[39;00m(key) \u001b[38;5;28;01mfrom\u001b[39;00m \u001b[38;5;21;01merr\u001b[39;00m\n\u001b[1;32m   3798\u001b[0m \u001b[38;5;28;01mexcept\u001b[39;00m \u001b[38;5;167;01mTypeError\u001b[39;00m:\n\u001b[1;32m   3799\u001b[0m     \u001b[38;5;66;03m# If we have a listlike key, _check_indexing_error will raise\u001b[39;00m\n\u001b[1;32m   3800\u001b[0m     \u001b[38;5;66;03m#  InvalidIndexError. Otherwise we fall through and re-raise\u001b[39;00m\n\u001b[1;32m   3801\u001b[0m     \u001b[38;5;66;03m#  the TypeError.\u001b[39;00m\n\u001b[1;32m   3802\u001b[0m     \u001b[38;5;28mself\u001b[39m\u001b[38;5;241m.\u001b[39m_check_indexing_error(key)\n",
      "\u001b[0;31mKeyError\u001b[0m: 'Moyenne de la fréquentation hebdomadaire de chaque correspondance de la station en 2022, sur la période des JO'"
     ]
    },
    {
     "data": {
      "text/plain": [
       "KeyError('Moyenne de la fréquentation hebdomadaire de chaque correspondance de la station en 2022, sur la période des JO')"
      ]
     },
     "metadata": {},
     "output_type": "display_data"
    }
   ],
   "source": [
    "try:\n",
    "    with io.capture_output():\n",
    "        %run -i \"Fréquentation_metro_en_ne_prenant_pas_en_compte_jo.ipynb\"\n",
    "except Exception as e:\n",
    "    display(e)"
   ]
  },
  {
   "cell_type": "code",
   "execution_count": null,
   "metadata": {},
   "outputs": [],
   "source": [
    "for k in numéro:\n",
    "    k_str = str(k)\n",
    "    # Accéder à chaque tableau spécifique\n",
    "    current_table = tableaux[f'ligne numéro[{k_str}]']\n",
    "\n",
    "    # Supprimer les colonnes spécifiées\n",
    "    columns_to_drop = ['Rang', 'Trafic', 'nb_correspondance', 'fréquentation_totale_ligne', \n",
    "                       'Part du trafic de la station par rapport à toute la ligne',\n",
    "                       'moyenne_NB_VALD_hebdo_période_jo_2022_dans_toute_la_station']\n",
    "\n",
    "    # Créer un nouveau tableau sans les colonnes spécifiées\n",
    "    new_table = current_table.drop(columns=columns_to_drop)\n",
    "\n",
    "    # Ajouter le nouveau tableau dans le dictionnaire\n",
    "    tableaux[f'ligne numéro[{k_str}]'] = new_table\n",
    "\n",
    "    # Afficher le tableau mis à jour\n",
    "    print(f\"Tableau 'ligne numéro[{k_str}]' sans les colonnes spécifiées :\")\n",
    "    display(tableaux[f'ligne numéro[{k_str}]'])\n"
   ]
  },
  {
   "cell_type": "code",
   "execution_count": null,
   "metadata": {},
   "outputs": [],
   "source": [
    "for k in numéro:\n",
    "    k_str = str(k)\n",
    "    tableaux[f'ligne numéro[{k_str}]'].to_csv(f'ligne_numero_{k_str}.csv', index=False) "
   ]
  },
  {
   "cell_type": "code",
   "execution_count": null,
   "metadata": {},
   "outputs": [
    {
     "name": "stdout",
     "output_type": "stream",
     "text": [
      "Affluence à 01:35 à la station bastille, sur la ligne numéro 1 : 8\n",
      "Affluence à la plage horaire suivante à la station bastille, sur la ligne numéro 1 : 0\n",
      "Affluence sur la ligne 1 : 29    434.0\n",
      "Name: moyenne_NB_VALD_hebdo_période_jo_2022_par_ligne_par_direction, dtype: float64\n"
     ]
    }
   ],
   "source": [
    "def affluence_hors_jo(horaire, station, ligne):\n",
    "    # Obtenir le tableau correspondant à la ligne\n",
    "    line_table = tableaux[f'ligne numéro[{ligne}]']\n",
    "\n",
    "    # Extraire l'heure de l'horaire entré par l'utilisateur\n",
    "    hour, minute = map(int, horaire.split(':'))\n",
    "\n",
    "    # Construire la chaîne de plage horaire correspondante\n",
    "    plage_horaire = f\"{hour:02d}:00-{(hour + 1) % 24:02d}:00\"\n",
    "\n",
    "    # Vérifier si la plage horaire se trouve dans les colonnes du tableau\n",
    "    if plage_horaire not in line_table.columns:\n",
    "        raise ValueError(f\"Plage horaire non trouvée dans le tableau: {plage_horaire}\")\n",
    "\n",
    "    # Récupérer le nombre à la station et à la plage horaire donnée\n",
    "    affluence_horaire = line_table[line_table['Station'] == station][plage_horaire].iloc[0]\n",
    "\n",
    "    # Récupérer l'indice de la plage horaire suivante\n",
    "    next_time_range_index = line_table.columns.get_loc(plage_horaire) + 1\n",
    "    next_time_range_index = next_time_range_index % len(line_table.columns)  # Assurer la circularité\n",
    "\n",
    "    # Récupérer la plage horaire suivante\n",
    "    plage_horaire_suivante = line_table.columns[next_time_range_index]\n",
    "\n",
    "    # Récupérer le nombre à la plage horaire suivante\n",
    "    affluence_suivante = line_table[line_table['Station'] == station][plage_horaire_suivante].iloc[0]\n",
    "\n",
    "    # Récupérer la moyenne_NB_VALD_hebdo_période_jo_2022_par_ligne_par_direction à la station\n",
    "    moyenne_ligne = line_table[line_table['Station'] == station]['moyenne_NB_VALD_hebdo_période_jo_2022_par_ligne_par_direction']\n",
    "    return round(affluence_horaire), round(affluence_suivante), round(moyenne_ligne)\n",
    "\n",
    "# Exemple d'utilisation\n",
    "horaire_info = \"01:35\"\n",
    "station_info = \"bastille\"\n",
    "ligne_info = \"1\"\n",
    "\n",
    "try:\n",
    "    affluence_horaire, affluence_suivante, affluence_ligne = affluence_hors_jo(horaire_info, station_info, ligne_info)\n",
    "    print(f\"Affluence à {horaire_info} à la station {station_info}, sur la ligne numéro {ligne_info} : {affluence_horaire}\")\n",
    "    print(f\"Affluence à la plage horaire suivante à la station {station_info}, sur la ligne numéro {ligne_info} : {affluence_suivante}\")\n",
    "    print(f\"Affluence sur la ligne {ligne_info} : {affluence_ligne}\")\n",
    "except ValueError as e:\n",
    "    print(e)\n"
   ]
  }
 ],
 "metadata": {
  "kernelspec": {
   "display_name": "Python 3 (ipykernel)",
   "language": "python",
   "name": "python3"
  },
  "language_info": {
   "codemirror_mode": {
    "name": "ipython",
    "version": 3
   },
   "file_extension": ".py",
   "mimetype": "text/x-python",
   "name": "python",
   "nbconvert_exporter": "python",
   "pygments_lexer": "ipython3",
   "version": "3.10.13"
  }
 },
 "nbformat": 4,
 "nbformat_minor": 2
}
