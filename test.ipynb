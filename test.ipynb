{
 "cells": [
  {
   "cell_type": "code",
   "execution_count": 4,
   "metadata": {},
   "outputs": [
    {
     "ename": "SyntaxError",
     "evalue": "invalid syntax (<string>, line 4)",
     "output_type": "error",
     "traceback": [
      "Traceback \u001b[0;36m(most recent call last)\u001b[0m:\n",
      "\u001b[0m  File \u001b[1;32m~/.local/lib/python3.10/site-packages/IPython/core/interactiveshell.py:3550\u001b[0m in \u001b[1;35mrun_code\u001b[0m\n    exec(code_obj, self.user_global_ns, self.user_ns)\u001b[0m\n",
      "\u001b[0;36m  Cell \u001b[0;32mIn[4], line 21\u001b[0;36m\n\u001b[0;31m    exec(donnees_sum_code)\u001b[0;36m\n",
      "\u001b[0;36m  File \u001b[0;32m<string>:4\u001b[0;36m\u001b[0m\n\u001b[0;31m    %config NotebookApp.iopub_data_rate_limit=100000000000.0\u001b[0m\n\u001b[0m    ^\u001b[0m\n\u001b[0;31mSyntaxError\u001b[0m\u001b[0;31m:\u001b[0m invalid syntax\n"
     ]
    }
   ],
   "source": [
    "import nbformat\n",
    "from nbconvert.preprocessors import ExecutePreprocessor\n",
    "import pandas as pd\n",
    "\n",
    "# Chemin vers votre fichier notebook\n",
    "file_path = '/workspaces/metro-JO/Nettoyage données affluence par jour + nombre de validation par jour par station.ipynb'\n",
    "\n",
    "# Lire le fichier notebook\n",
    "with open(file_path, 'r') as file:\n",
    "    notebook = nbformat.read(file, as_version=4)\n",
    "\n",
    "# Rechercher la cellule qui définit \"donnees_sum\"\n",
    "donnees_sum_code = None\n",
    "for cell in notebook['cells']:\n",
    "    if cell['cell_type'] == 'code' and 'donnees_sum' in cell['source']:\n",
    "        donnees_sum_code = cell['source']\n",
    "        break\n",
    "\n",
    "# Exécuter le code pour obtenir le DataFrame \"donnees_sum\"\n",
    "if donnees_sum_code:\n",
    "    exec(donnees_sum_code)\n",
    "    print(donnees_sum)  # Afficher le DataFrame \"donnees_sum\" obtenu\n",
    "else:\n",
    "    print(\"La définition de 'donnees_sum' n'a pas été trouvée dans le notebook.\")\n"
   ]
  }
 ],
 "metadata": {
  "kernelspec": {
   "display_name": "Python 3",
   "language": "python",
   "name": "python3"
  },
  "language_info": {
   "codemirror_mode": {
    "name": "ipython",
    "version": 3
   },
   "file_extension": ".py",
   "mimetype": "text/x-python",
   "name": "python",
   "nbconvert_exporter": "python",
   "pygments_lexer": "ipython3",
   "version": "3.10.13"
  }
 },
 "nbformat": 4,
 "nbformat_minor": 2
}
