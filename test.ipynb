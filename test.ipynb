{
 "cells": [
  {
   "cell_type": "code",
   "execution_count": 1,
   "metadata": {},
   "outputs": [],
   "source": [
    "from IPython.utils import io\n",
    "\n",
    "try:\n",
    "    with io.capture_output():\n",
    "        %run -i \"Infos sur les lieux des compétitions.ipynb\"\n",
    "except Exception as e:\n",
    "    display(e)"
   ]
  },
  {
   "cell_type": "code",
   "execution_count": 2,
   "metadata": {},
   "outputs": [],
   "source": [
    "from IPython.utils import io\n",
    "\n",
    "try:\n",
    "    with io.capture_output():\n",
    "        %run -i \"Nettoyage données affluence par jour + nombre de validation par jour par station.ipynb\"\n",
    "except Exception as e:\n",
    "    display(e)"
   ]
  },
  {
   "cell_type": "code",
   "execution_count": 3,
   "metadata": {},
   "outputs": [],
   "source": [
    "from IPython.utils import io\n",
    "\n",
    "try:\n",
    "    with io.capture_output():\n",
    "        %run -i \"Calendrier.ipynb\"\n",
    "except Exception as e:\n",
    "    display(e)"
   ]
  },
  {
   "cell_type": "code",
   "execution_count": 6,
   "metadata": {},
   "outputs": [],
   "source": [
    "def calculer_personnes_supplementaires(date_horaire_entree, numero_ligne, station):\n",
    "\n",
    "    tableau_debut = pd.DataFrame()  # Initialisation du DataFrame vide\n",
    "    tableau_fin = pd.DataFrame()    # Initialisation du DataFrame vide\n",
    "\n",
    "    cle_tableau = f'ligne numéro[{numero_ligne}]'\n",
    "\n",
    "    # Extraire l'horaire de l'entrée utilisateur\n",
    "    heure_entree = date_horaire_entree[-5:]\n",
    "\n",
    "    # Déterminer la plage horaire à laquelle appartient l'horaire d'entrée\n",
    "    plage_horaire_entree = f\"{heure_entree.split(':')[0]}:00:00 - {(int(heure_entree.split(':')[0])+1)%24:02d}:00:00\"\n",
    "\n",
    "    # Construire la chaîne de date avec la plage horaire\n",
    "    date_plage_horaire = f\"{date_horaire_entree[:10]} {plage_horaire_entree}\"\n",
    "\n",
    "    # Vérifier si la chaîne date_plage_horaire se trouve dans new_horaires_début_df\n",
    "    if (date_plage_horaire in new_horaires_début_df.values) or (date_plage_horaire in new_horaires_fin_df.values): \n",
    "        # Afficher les éléments de la colonne \"Lieu\" correspondants à la condition dans new_horaires_début_df\n",
    "        lieux_correspondants_debut = new_horaires_début_df.loc[new_horaires_début_df.eq(date_plage_horaire).any(axis=1), 'Lieu']\n",
    "        # Afficher les éléments de la colonne \"Lieu\" correspondants à la condition dans new_horaires_fin_df\n",
    "        lieux_correspondants_fin = new_horaires_fin_df.loc[new_horaires_fin_df.eq(date_plage_horaire).any(axis=1), 'Lieu']\n",
    "        \n",
    "        lignes_correspondantes = []\n",
    "        \n",
    "        \n",
    "        # Renvoyer les vecteurs de la colonne Ligne pour chaque élément de lieux_correspondants_debut\n",
    "        for lieu in lieux_correspondants_debut:\n",
    "            ligne_lieu = df[df['Lieu'] == lieu]  # Trouver la ligne correspondant au lieu\n",
    "            tableau_debut=pd.concat([tableau_debut, ligne_lieu], ignore_index=True)\n",
    "            lignes_lieu = ligne_lieu['Lignes']\n",
    "            lignes_correspondantes.extend(lignes_lieu.values)\n",
    "            \n",
    "\n",
    "        # Renvoyer les vecteurs de la colonne Ligne pour chaque élément de lieux_correspondants_fin\n",
    "        for lieu in lieux_correspondants_fin:\n",
    "            ligne_lieu = df[df['Lieu'] == lieu]  # Trouver la ligne correspondant au lieu\n",
    "            tableau_fin=pd.concat([tableau_fin, ligne_lieu], ignore_index=True)\n",
    "            lignes_lieu = ligne_lieu['Lignes']\n",
    "            lignes_correspondantes.extend(lignes_lieu.values)\n",
    "\n",
    "        numero_trouve = False\n",
    "\n",
    "        for sous_liste in lignes_correspondantes:\n",
    "            if numero_ligne in sous_liste:\n",
    "                numero_trouve = True\n",
    "                break  # Arrête la boucle une fois que le numéro est trouvé\n",
    "\n",
    "            # Vérifier si le numéro de ligne entré est présent dans les vecteurs des lignes correspondantes\n",
    "        if numero_trouve:\n",
    "            resultat_debut=0\n",
    "            resultat_fin=0\n",
    "            if not tableau_debut.empty :\n",
    "                tableau_debut = tableau_debut[tableau_debut['Lignes'].apply(lambda x: numero_ligne in x)]\n",
    "                resultat_debut = tableau_debut['Nombre de personnes par ligne'].sum()\n",
    "            if not tableau_fin.empty :\n",
    "                    tableau_fin = tableau_fin[tableau_fin['Lignes'].apply(lambda x: numero_ligne in x)]\n",
    "                    resultat_fin = tableau_fin['Nombre de personnes par ligne'].sum()\n",
    "            resultat=resultat_debut+resultat_fin\n",
    "            nb_ligne=round(resultat)\n",
    "            print(f\"Le nombre de personnes supplémentaires sur la plage horaire de l'horaire entré  sur la ligne en raison des JO  est {nb_ligne}.\")\n",
    "\n",
    "            resultat_debut_2=0\n",
    "            resultat_fin_2=0\n",
    "\n",
    "            if not tableau_debut.empty:\n",
    "                tableau_provisoire =tableaux[cle_tableau]\n",
    "                ligne_provisoire = tableau_provisoire[tableau_provisoire['Station'].str.contains(station)]\n",
    "                valeur = ligne_provisoire['Part du trafic de la station par rapport à toute la ligne'].values[0]\n",
    "                tableau_debut['Pourcentage fréquentation'] = valeur\n",
    "                resultat_debut_2=valeur*resultat_debut\n",
    "            \n",
    "            if not tableau_fin.empty:\n",
    "                tableau_provisoire =tableaux[cle_tableau]\n",
    "                ligne_provisoire = tableau_provisoire[tableau_provisoire['Station'].str.contains(station)]\n",
    "                valeur = ligne_provisoire['Part du trafic de la station par rapport à toute la ligne'].values[0]\n",
    "                tableau_fin['Pourcentage fréquentation'] = valeur\n",
    "                resultat_fin_2=valeur*resultat_debut\n",
    "            \n",
    "            resultat2=resultat_debut_2+resultat_fin_2\n",
    "            nb_station=round(resultat2)\n",
    "            print(f\"Le nombre de personnes supplémentaires sur la plage horaire de l'horaire entré à la station en raison des JO  est {nb_station}.\")\n",
    "\n",
    "        else:\n",
    "            print(0)\n",
    "    else:\n",
    "        print(0)"
   ]
  },
  {
   "cell_type": "code",
   "execution_count": 7,
   "metadata": {},
   "outputs": [
    {
     "ename": "KeyError",
     "evalue": "'Lieu'",
     "output_type": "error",
     "traceback": [
      "\u001b[0;31m---------------------------------------------------------------------------\u001b[0m",
      "\u001b[0;31mKeyError\u001b[0m                                  Traceback (most recent call last)",
      "File \u001b[0;32m~/.local/lib/python3.10/site-packages/pandas/core/indexes/base.py:3790\u001b[0m, in \u001b[0;36mIndex.get_loc\u001b[0;34m(self, key)\u001b[0m\n\u001b[1;32m   3789\u001b[0m \u001b[38;5;28;01mtry\u001b[39;00m:\n\u001b[0;32m-> 3790\u001b[0m     \u001b[38;5;28;01mreturn\u001b[39;00m \u001b[38;5;28;43mself\u001b[39;49m\u001b[38;5;241;43m.\u001b[39;49m\u001b[43m_engine\u001b[49m\u001b[38;5;241;43m.\u001b[39;49m\u001b[43mget_loc\u001b[49m\u001b[43m(\u001b[49m\u001b[43mcasted_key\u001b[49m\u001b[43m)\u001b[49m\n\u001b[1;32m   3791\u001b[0m \u001b[38;5;28;01mexcept\u001b[39;00m \u001b[38;5;167;01mKeyError\u001b[39;00m \u001b[38;5;28;01mas\u001b[39;00m err:\n",
      "File \u001b[0;32mindex.pyx:152\u001b[0m, in \u001b[0;36mpandas._libs.index.IndexEngine.get_loc\u001b[0;34m()\u001b[0m\n",
      "File \u001b[0;32mindex.pyx:181\u001b[0m, in \u001b[0;36mpandas._libs.index.IndexEngine.get_loc\u001b[0;34m()\u001b[0m\n",
      "File \u001b[0;32mpandas/_libs/hashtable_class_helper.pxi:7080\u001b[0m, in \u001b[0;36mpandas._libs.hashtable.PyObjectHashTable.get_item\u001b[0;34m()\u001b[0m\n",
      "File \u001b[0;32mpandas/_libs/hashtable_class_helper.pxi:7088\u001b[0m, in \u001b[0;36mpandas._libs.hashtable.PyObjectHashTable.get_item\u001b[0;34m()\u001b[0m\n",
      "\u001b[0;31mKeyError\u001b[0m: 'Lieu'",
      "\nThe above exception was the direct cause of the following exception:\n",
      "\u001b[0;31mKeyError\u001b[0m                                  Traceback (most recent call last)",
      "Cell \u001b[0;32mIn[7], line 1\u001b[0m\n\u001b[0;32m----> 1\u001b[0m \u001b[43mcalculer_personnes_supplementaires\u001b[49m\u001b[43m(\u001b[49m\u001b[38;5;124;43m'\u001b[39;49m\u001b[38;5;124;43m2024-07-28 09:20\u001b[39;49m\u001b[38;5;124;43m'\u001b[39;49m\u001b[43m,\u001b[49m\u001b[43m \u001b[49m\u001b[38;5;124;43m'\u001b[39;49m\u001b[38;5;124;43m1\u001b[39;49m\u001b[38;5;124;43m'\u001b[39;49m\u001b[43m,\u001b[49m\u001b[43m \u001b[49m\u001b[38;5;124;43m'\u001b[39;49m\u001b[38;5;124;43mbastille\u001b[39;49m\u001b[38;5;124;43m'\u001b[39;49m\u001b[43m)\u001b[49m\n",
      "Cell \u001b[0;32mIn[6], line 29\u001b[0m, in \u001b[0;36mcalculer_personnes_supplementaires\u001b[0;34m(date_horaire_entree, numero_ligne, station)\u001b[0m\n\u001b[1;32m     27\u001b[0m \u001b[38;5;66;03m# Renvoyer les vecteurs de la colonne Ligne pour chaque élément de lieux_correspondants_debut\u001b[39;00m\n\u001b[1;32m     28\u001b[0m \u001b[38;5;28;01mfor\u001b[39;00m lieu \u001b[38;5;129;01min\u001b[39;00m lieux_correspondants_debut:\n\u001b[0;32m---> 29\u001b[0m     ligne_lieu \u001b[38;5;241m=\u001b[39m df[\u001b[43mdf\u001b[49m\u001b[43m[\u001b[49m\u001b[38;5;124;43m'\u001b[39;49m\u001b[38;5;124;43mLieu\u001b[39;49m\u001b[38;5;124;43m'\u001b[39;49m\u001b[43m]\u001b[49m \u001b[38;5;241m==\u001b[39m lieu]  \u001b[38;5;66;03m# Trouver la ligne correspondant au lieu\u001b[39;00m\n\u001b[1;32m     30\u001b[0m     tableau_debut\u001b[38;5;241m=\u001b[39mpd\u001b[38;5;241m.\u001b[39mconcat([tableau_debut, ligne_lieu], ignore_index\u001b[38;5;241m=\u001b[39m\u001b[38;5;28;01mTrue\u001b[39;00m)\n\u001b[1;32m     31\u001b[0m     lignes_lieu \u001b[38;5;241m=\u001b[39m ligne_lieu[\u001b[38;5;124m'\u001b[39m\u001b[38;5;124mLignes\u001b[39m\u001b[38;5;124m'\u001b[39m]\n",
      "File \u001b[0;32m~/.local/lib/python3.10/site-packages/pandas/core/frame.py:3893\u001b[0m, in \u001b[0;36mDataFrame.__getitem__\u001b[0;34m(self, key)\u001b[0m\n\u001b[1;32m   3891\u001b[0m \u001b[38;5;28;01mif\u001b[39;00m \u001b[38;5;28mself\u001b[39m\u001b[38;5;241m.\u001b[39mcolumns\u001b[38;5;241m.\u001b[39mnlevels \u001b[38;5;241m>\u001b[39m \u001b[38;5;241m1\u001b[39m:\n\u001b[1;32m   3892\u001b[0m     \u001b[38;5;28;01mreturn\u001b[39;00m \u001b[38;5;28mself\u001b[39m\u001b[38;5;241m.\u001b[39m_getitem_multilevel(key)\n\u001b[0;32m-> 3893\u001b[0m indexer \u001b[38;5;241m=\u001b[39m \u001b[38;5;28;43mself\u001b[39;49m\u001b[38;5;241;43m.\u001b[39;49m\u001b[43mcolumns\u001b[49m\u001b[38;5;241;43m.\u001b[39;49m\u001b[43mget_loc\u001b[49m\u001b[43m(\u001b[49m\u001b[43mkey\u001b[49m\u001b[43m)\u001b[49m\n\u001b[1;32m   3894\u001b[0m \u001b[38;5;28;01mif\u001b[39;00m is_integer(indexer):\n\u001b[1;32m   3895\u001b[0m     indexer \u001b[38;5;241m=\u001b[39m [indexer]\n",
      "File \u001b[0;32m~/.local/lib/python3.10/site-packages/pandas/core/indexes/base.py:3797\u001b[0m, in \u001b[0;36mIndex.get_loc\u001b[0;34m(self, key)\u001b[0m\n\u001b[1;32m   3792\u001b[0m     \u001b[38;5;28;01mif\u001b[39;00m \u001b[38;5;28misinstance\u001b[39m(casted_key, \u001b[38;5;28mslice\u001b[39m) \u001b[38;5;129;01mor\u001b[39;00m (\n\u001b[1;32m   3793\u001b[0m         \u001b[38;5;28misinstance\u001b[39m(casted_key, abc\u001b[38;5;241m.\u001b[39mIterable)\n\u001b[1;32m   3794\u001b[0m         \u001b[38;5;129;01mand\u001b[39;00m \u001b[38;5;28many\u001b[39m(\u001b[38;5;28misinstance\u001b[39m(x, \u001b[38;5;28mslice\u001b[39m) \u001b[38;5;28;01mfor\u001b[39;00m x \u001b[38;5;129;01min\u001b[39;00m casted_key)\n\u001b[1;32m   3795\u001b[0m     ):\n\u001b[1;32m   3796\u001b[0m         \u001b[38;5;28;01mraise\u001b[39;00m InvalidIndexError(key)\n\u001b[0;32m-> 3797\u001b[0m     \u001b[38;5;28;01mraise\u001b[39;00m \u001b[38;5;167;01mKeyError\u001b[39;00m(key) \u001b[38;5;28;01mfrom\u001b[39;00m \u001b[38;5;21;01merr\u001b[39;00m\n\u001b[1;32m   3798\u001b[0m \u001b[38;5;28;01mexcept\u001b[39;00m \u001b[38;5;167;01mTypeError\u001b[39;00m:\n\u001b[1;32m   3799\u001b[0m     \u001b[38;5;66;03m# If we have a listlike key, _check_indexing_error will raise\u001b[39;00m\n\u001b[1;32m   3800\u001b[0m     \u001b[38;5;66;03m#  InvalidIndexError. Otherwise we fall through and re-raise\u001b[39;00m\n\u001b[1;32m   3801\u001b[0m     \u001b[38;5;66;03m#  the TypeError.\u001b[39;00m\n\u001b[1;32m   3802\u001b[0m     \u001b[38;5;28mself\u001b[39m\u001b[38;5;241m.\u001b[39m_check_indexing_error(key)\n",
      "\u001b[0;31mKeyError\u001b[0m: 'Lieu'"
     ]
    }
   ],
   "source": [
    "calculer_personnes_supplementaires('2024-07-28 09:20', '1', 'bastille')"
   ]
  }
 ],
 "metadata": {
  "kernelspec": {
   "display_name": "Python 3",
   "language": "python",
   "name": "python3"
  },
  "language_info": {
   "codemirror_mode": {
    "name": "ipython",
    "version": 3
   },
   "file_extension": ".py",
   "mimetype": "text/x-python",
   "name": "python",
   "nbconvert_exporter": "python",
   "pygments_lexer": "ipython3",
   "version": "3.10.13"
  }
 },
 "nbformat": 4,
 "nbformat_minor": 2
}
