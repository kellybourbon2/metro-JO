{
 "cells": [
  {
   "cell_type": "code",
   "execution_count": 18,
   "metadata": {},
   "outputs": [
    {
     "name": "stdout",
     "output_type": "stream",
     "text": [
      "Requirement already satisfied: tabula-py in /usr/local/python/3.10.13/lib/python3.10/site-packages (2.9.0)\n",
      "Requirement already satisfied: pandas>=0.25.3 in /home/codespace/.local/lib/python3.10/site-packages (from tabula-py) (2.1.3)\n",
      "Requirement already satisfied: numpy in /home/codespace/.local/lib/python3.10/site-packages (from tabula-py) (1.26.2)\n",
      "Requirement already satisfied: distro in /usr/local/python/3.10.13/lib/python3.10/site-packages (from tabula-py) (1.9.0)\n",
      "Requirement already satisfied: python-dateutil>=2.8.2 in /home/codespace/.local/lib/python3.10/site-packages (from pandas>=0.25.3->tabula-py) (2.8.2)\n",
      "Requirement already satisfied: pytz>=2020.1 in /home/codespace/.local/lib/python3.10/site-packages (from pandas>=0.25.3->tabula-py) (2023.3.post1)\n",
      "Requirement already satisfied: tzdata>=2022.1 in /home/codespace/.local/lib/python3.10/site-packages (from pandas>=0.25.3->tabula-py) (2023.3)\n",
      "Requirement already satisfied: six>=1.5 in /home/codespace/.local/lib/python3.10/site-packages (from python-dateutil>=2.8.2->pandas>=0.25.3->tabula-py) (1.16.0)\n",
      "\n",
      "\u001b[1m[\u001b[0m\u001b[34;49mnotice\u001b[0m\u001b[1;39;49m]\u001b[0m\u001b[39;49m A new release of pip is available: \u001b[0m\u001b[31;49m23.3.1\u001b[0m\u001b[39;49m -> \u001b[0m\u001b[32;49m23.3.2\u001b[0m\n",
      "\u001b[1m[\u001b[0m\u001b[34;49mnotice\u001b[0m\u001b[1;39;49m]\u001b[0m\u001b[39;49m To update, run: \u001b[0m\u001b[32;49mpython3 -m pip install --upgrade pip\u001b[0m\n",
      "Note: you may need to restart the kernel to use updated packages.\n"
     ]
    }
   ],
   "source": [
    "%pip install tabula-py\n",
    "import pandas as pd\n",
    "import tabula\n",
    "import numpy as np\n",
    "from IPython.utils import io"
   ]
  },
  {
   "cell_type": "markdown",
   "metadata": {},
   "source": [
    "Importation du notebook Calendrier"
   ]
  },
  {
   "cell_type": "code",
   "execution_count": 19,
   "metadata": {},
   "outputs": [
    {
     "name": "stdout",
     "output_type": "stream",
     "text": [
      "Requirement already satisfied: tabula-py in /usr/local/python/3.10.13/lib/python3.10/site-packages (2.9.0)\n",
      "Requirement already satisfied: pandas>=0.25.3 in /home/codespace/.local/lib/python3.10/site-packages (from tabula-py) (2.1.3)\n",
      "Requirement already satisfied: numpy in /home/codespace/.local/lib/python3.10/site-packages (from tabula-py) (1.26.2)\n",
      "Requirement already satisfied: distro in /usr/local/python/3.10.13/lib/python3.10/site-packages (from tabula-py) (1.9.0)\n",
      "Requirement already satisfied: python-dateutil>=2.8.2 in /home/codespace/.local/lib/python3.10/site-packages (from pandas>=0.25.3->tabula-py) (2.8.2)\n",
      "Requirement already satisfied: pytz>=2020.1 in /home/codespace/.local/lib/python3.10/site-packages (from pandas>=0.25.3->tabula-py) (2023.3.post1)\n",
      "Requirement already satisfied: tzdata>=2022.1 in /home/codespace/.local/lib/python3.10/site-packages (from pandas>=0.25.3->tabula-py) (2023.3)\n",
      "Requirement already satisfied: six>=1.5 in /home/codespace/.local/lib/python3.10/site-packages (from python-dateutil>=2.8.2->pandas>=0.25.3->tabula-py) (1.16.0)\n",
      "\n",
      "\u001b[1m[\u001b[0m\u001b[34;49mnotice\u001b[0m\u001b[1;39;49m]\u001b[0m\u001b[39;49m A new release of pip is available: \u001b[0m\u001b[31;49m23.3.1\u001b[0m\u001b[39;49m -> \u001b[0m\u001b[32;49m23.3.2\u001b[0m\n",
      "\u001b[1m[\u001b[0m\u001b[34;49mnotice\u001b[0m\u001b[1;39;49m]\u001b[0m\u001b[39;49m To update, run: \u001b[0m\u001b[32;49mpython3 -m pip install --upgrade pip\u001b[0m\n",
      "Note: you may need to restart the kernel to use updated packages.\n"
     ]
    },
    {
     "ename": "NameError",
     "evalue": "name 'df' is not defined",
     "output_type": "error",
     "traceback": [
      "\u001b[0;31m---------------------------------------------------------------------------\u001b[0m",
      "\u001b[0;31mNameError\u001b[0m                                 Traceback (most recent call last)",
      "File \u001b[0;32m/tmp/ipykernel_1408/3881654620.py:14\u001b[0m\n\u001b[1;32m     11\u001b[0m         \u001b[38;5;28;01mreturn\u001b[39;00m cell\n\u001b[1;32m     13\u001b[0m \u001b[38;5;66;03m# Appliquer la fonction à chaque cellule du DataFrame\u001b[39;00m\n\u001b[0;32m---> 14\u001b[0m \u001b[38;5;28;01mfor\u001b[39;00m column \u001b[38;5;129;01min\u001b[39;00m \u001b[43mdf\u001b[49m\u001b[38;5;241m.\u001b[39mcolumns:\n\u001b[1;32m     15\u001b[0m     df[column] \u001b[38;5;241m=\u001b[39m df\u001b[38;5;241m.\u001b[39mapply(\u001b[38;5;28;01mlambda\u001b[39;00m x: format_date_horaire(x[column], column), axis\u001b[38;5;241m=\u001b[39m\u001b[38;5;241m1\u001b[39m)\n\u001b[1;32m     17\u001b[0m \u001b[38;5;66;03m# Afficher le DataFrame mis à jour\u001b[39;00m\n",
      "\u001b[0;31mNameError\u001b[0m: name 'df' is not defined"
     ]
    },
    {
     "data": {
      "text/plain": [
       "NameError(\"name 'df' is not defined\")"
      ]
     },
     "metadata": {},
     "output_type": "display_data"
    }
   ],
   "source": [
    "%pip install tabula-py\n",
    "try:\n",
    "    with io.capture_output():\n",
    "        %run -i \"Calendrier.ipynb\"\n",
    "except Exception as e:\n",
    "    display(e)"
   ]
  },
  {
   "cell_type": "markdown",
   "metadata": {},
   "source": [
    "Importation du notebook Informations lieux des compétitions"
   ]
  },
  {
   "cell_type": "code",
   "execution_count": null,
   "metadata": {},
   "outputs": [
    {
     "data": {
      "text/plain": [
       "Exception(\"File `'Informations lieux des compétitions.ipynb'` not found.\")"
      ]
     },
     "metadata": {},
     "output_type": "display_data"
    }
   ],
   "source": [
    "try:\n",
    "    with io.capture_output():\n",
    "        %run -i \"Informations lieux des compétitions.ipynb\"\n",
    "except Exception as e:\n",
    "    display(e)"
   ]
  },
  {
   "cell_type": "markdown",
   "metadata": {},
   "source": [
    "Importation du notebook Informations lignes métro"
   ]
  },
  {
   "cell_type": "code",
   "execution_count": null,
   "metadata": {},
   "outputs": [
    {
     "data": {
      "text/plain": [
       "Exception(\"File `'Informations lignes métro.ipynb'` not found.\")"
      ]
     },
     "metadata": {},
     "output_type": "display_data"
    }
   ],
   "source": [
    "try:\n",
    "    with io.capture_output():\n",
    "        %run -i \"Informations lignes métro.ipynb\"\n",
    "except Exception as e:\n",
    "    display(e)"
   ]
  },
  {
   "cell_type": "markdown",
   "metadata": {},
   "source": [
    "Programme calculant le nombre de personnes sans les JO"
   ]
  },
  {
   "cell_type": "code",
   "execution_count": null,
   "metadata": {},
   "outputs": [
    {
     "ename": "NameError",
     "evalue": "name 'tableaux' is not defined",
     "output_type": "error",
     "traceback": [
      "\u001b[0;31m---------------------------------------------------------------------------\u001b[0m",
      "\u001b[0;31mNameError\u001b[0m                                 Traceback (most recent call last)",
      "Cell \u001b[0;32mIn[8], line 39\u001b[0m\n\u001b[1;32m     36\u001b[0m ligne_info \u001b[38;5;241m=\u001b[39m \u001b[38;5;124m\"\u001b[39m\u001b[38;5;124m1\u001b[39m\u001b[38;5;124m\"\u001b[39m\n\u001b[1;32m     38\u001b[0m \u001b[38;5;28;01mtry\u001b[39;00m:\n\u001b[0;32m---> 39\u001b[0m     affluence_horaire, affluence_suivante, affluence_ligne \u001b[38;5;241m=\u001b[39m \u001b[43maffluence_hors_jo\u001b[49m\u001b[43m(\u001b[49m\u001b[43mhoraire_info\u001b[49m\u001b[43m,\u001b[49m\u001b[43m \u001b[49m\u001b[43mstation_info\u001b[49m\u001b[43m,\u001b[49m\u001b[43m \u001b[49m\u001b[43mligne_info\u001b[49m\u001b[43m)\u001b[49m\n\u001b[1;32m     40\u001b[0m     \u001b[38;5;28mprint\u001b[39m(\u001b[38;5;124mf\u001b[39m\u001b[38;5;124m\"\u001b[39m\u001b[38;5;124mAffluence à \u001b[39m\u001b[38;5;132;01m{\u001b[39;00mhoraire_info\u001b[38;5;132;01m}\u001b[39;00m\u001b[38;5;124m à la station \u001b[39m\u001b[38;5;132;01m{\u001b[39;00mstation_info\u001b[38;5;132;01m}\u001b[39;00m\u001b[38;5;124m, sur la ligne numéro \u001b[39m\u001b[38;5;132;01m{\u001b[39;00mligne_info\u001b[38;5;132;01m}\u001b[39;00m\u001b[38;5;124m : \u001b[39m\u001b[38;5;132;01m{\u001b[39;00maffluence_horaire\u001b[38;5;132;01m}\u001b[39;00m\u001b[38;5;124m\"\u001b[39m)\n\u001b[1;32m     41\u001b[0m     \u001b[38;5;28mprint\u001b[39m(\u001b[38;5;124mf\u001b[39m\u001b[38;5;124m\"\u001b[39m\u001b[38;5;124mAffluence à la plage horaire suivante à la station \u001b[39m\u001b[38;5;132;01m{\u001b[39;00mstation_info\u001b[38;5;132;01m}\u001b[39;00m\u001b[38;5;124m, sur la ligne numéro \u001b[39m\u001b[38;5;132;01m{\u001b[39;00mligne_info\u001b[38;5;132;01m}\u001b[39;00m\u001b[38;5;124m : \u001b[39m\u001b[38;5;132;01m{\u001b[39;00maffluence_suivante\u001b[38;5;132;01m}\u001b[39;00m\u001b[38;5;124m\"\u001b[39m)\n",
      "Cell \u001b[0;32mIn[8], line 3\u001b[0m, in \u001b[0;36maffluence_hors_jo\u001b[0;34m(horaire, station, ligne)\u001b[0m\n\u001b[1;32m      1\u001b[0m \u001b[38;5;28;01mdef\u001b[39;00m \u001b[38;5;21maffluence_hors_jo\u001b[39m(horaire, station, ligne):\n\u001b[1;32m      2\u001b[0m     \u001b[38;5;66;03m# Obtenir le tableau correspondant à la ligne\u001b[39;00m\n\u001b[0;32m----> 3\u001b[0m     line_table \u001b[38;5;241m=\u001b[39m \u001b[43mtableaux\u001b[49m[\u001b[38;5;124mf\u001b[39m\u001b[38;5;124m'\u001b[39m\u001b[38;5;124mligne numéro[\u001b[39m\u001b[38;5;132;01m{\u001b[39;00mligne\u001b[38;5;132;01m}\u001b[39;00m\u001b[38;5;124m]\u001b[39m\u001b[38;5;124m'\u001b[39m]\n\u001b[1;32m      5\u001b[0m     \u001b[38;5;66;03m# Extraire l'heure de l'horaire entré par l'utilisateur\u001b[39;00m\n\u001b[1;32m      6\u001b[0m     hour, minute \u001b[38;5;241m=\u001b[39m \u001b[38;5;28mmap\u001b[39m(\u001b[38;5;28mint\u001b[39m, horaire\u001b[38;5;241m.\u001b[39msplit(\u001b[38;5;124m'\u001b[39m\u001b[38;5;124m:\u001b[39m\u001b[38;5;124m'\u001b[39m))\n",
      "\u001b[0;31mNameError\u001b[0m: name 'tableaux' is not defined"
     ]
    }
   ],
   "source": [
    "def affluence_hors_jo(horaire, station, ligne):\n",
    "    # Obtenir le tableau correspondant à la ligne\n",
    "    line_table = tableaux[f'ligne numéro[{ligne}]']\n",
    "\n",
    "    # Extraire l'heure de l'horaire entré par l'utilisateur\n",
    "    hour, minute = map(int, horaire.split(':'))\n",
    "\n",
    "    # Construire la chaîne de plage horaire correspondante\n",
    "    plage_horaire = f\"{hour:02d}:00-{(hour + 1) % 24:02d}:00\"\n",
    "\n",
    "    # Vérifier si la plage horaire se trouve dans les colonnes du tableau\n",
    "    if plage_horaire not in line_table.columns:\n",
    "        raise ValueError(f\"Plage horaire non trouvée dans le tableau: {plage_horaire}\")\n",
    "\n",
    "    # Récupérer le nombre à la station et à la plage horaire donnée\n",
    "    affluence_horaire = line_table[line_table['Station'] == station][plage_horaire].iloc[0]\n",
    "\n",
    "    # Récupérer l'indice de la plage horaire suivante\n",
    "    next_time_range_index = line_table.columns.get_loc(plage_horaire) + 1\n",
    "    next_time_range_index = next_time_range_index % len(line_table.columns)  # Assurer la circularité\n",
    "\n",
    "    # Récupérer la plage horaire suivante\n",
    "    plage_horaire_suivante = line_table.columns[next_time_range_index]\n",
    "\n",
    "    # Récupérer le nombre à la plage horaire suivante\n",
    "    affluence_suivante = line_table[line_table['Station'] == station][plage_horaire_suivante].iloc[0]\n",
    "\n",
    "    # Récupérer la moyenne_NB_VALD_hebdo_période_jo_2022_par_ligne_par_direction à la station\n",
    "    moyenne_ligne = line_table[line_table['Station'] == station]['moyenne_NB_VALD_hebdo_période_jo_2022_par_ligne_par_direction'].iloc[0]\n",
    "\n",
    "    return round(affluence_horaire), round(affluence_suivante), round(moyenne_ligne)\n",
    "\n",
    "# Exemple d'utilisation\n",
    "horaire_info = \"07:35\"\n",
    "station_info = \"hotel de ville\"\n",
    "ligne_info = \"1\"\n",
    "\n",
    "try:\n",
    "    affluence_horaire, affluence_suivante, affluence_ligne = affluence_hors_jo(horaire_info, station_info, ligne_info)\n",
    "    print(f\"Affluence à {horaire_info} à la station {station_info}, sur la ligne numéro {ligne_info} : {affluence_horaire}\")\n",
    "    print(f\"Affluence à la plage horaire suivante à la station {station_info}, sur la ligne numéro {ligne_info} : {affluence_suivante}\")\n",
    "    print(f\"Affluence sur la ligne {ligne_info} : {affluence_ligne}\")\n",
    "except ValueError as e:\n",
    "    print(e)\n"
   ]
  },
  {
   "cell_type": "markdown",
   "metadata": {},
   "source": [
    "Programme calculant le nombre de personnes supplémentaires avec les JO"
   ]
  },
  {
   "cell_type": "code",
   "execution_count": null,
   "metadata": {},
   "outputs": [
    {
     "ename": "NameError",
     "evalue": "name 'new_horaires_début_df' is not defined",
     "output_type": "error",
     "traceback": [
      "\u001b[0;31m---------------------------------------------------------------------------\u001b[0m",
      "\u001b[0;31mNameError\u001b[0m                                 Traceback (most recent call last)",
      "Cell \u001b[0;32mIn[9], line 98\u001b[0m\n\u001b[1;32m     95\u001b[0m numero_ligne \u001b[38;5;241m=\u001b[39m \u001b[38;5;124m'\u001b[39m\u001b[38;5;124m1\u001b[39m\u001b[38;5;124m'\u001b[39m\n\u001b[1;32m     96\u001b[0m station \u001b[38;5;241m=\u001b[39m \u001b[38;5;124m'\u001b[39m\u001b[38;5;124mbastille\u001b[39m\u001b[38;5;124m'\u001b[39m\n\u001b[0;32m---> 98\u001b[0m nb_ligne, nb_station \u001b[38;5;241m=\u001b[39m \u001b[43mcalculer_personnes_supplementaires\u001b[49m\u001b[43m(\u001b[49m\u001b[43mdate_horaire_entree\u001b[49m\u001b[43m,\u001b[49m\u001b[43m \u001b[49m\u001b[43mnumero_ligne\u001b[49m\u001b[43m,\u001b[49m\u001b[43m \u001b[49m\u001b[43mstation\u001b[49m\u001b[43m)\u001b[49m\n\u001b[1;32m    100\u001b[0m phrase_station \u001b[38;5;241m=\u001b[39m \u001b[38;5;124mf\u001b[39m\u001b[38;5;124m\"\u001b[39m\u001b[38;5;124mLe nombre de personnes supplémentaires à la station \u001b[39m\u001b[38;5;132;01m{\u001b[39;00mstation\u001b[38;5;132;01m}\u001b[39;00m\u001b[38;5;124m en raison des JO est \u001b[39m\u001b[38;5;132;01m{\u001b[39;00mnb_station\u001b[38;5;132;01m}\u001b[39;00m\u001b[38;5;124m.\u001b[39m\u001b[38;5;124m\"\u001b[39m\n\u001b[1;32m    101\u001b[0m phrase_ligne \u001b[38;5;241m=\u001b[39m \u001b[38;5;124mf\u001b[39m\u001b[38;5;124m\"\u001b[39m\u001b[38;5;124mLe nombre de personnes supplémentaires sur la ligne \u001b[39m\u001b[38;5;132;01m{\u001b[39;00mnumero_ligne\u001b[38;5;132;01m}\u001b[39;00m\u001b[38;5;124m en raison des JO est \u001b[39m\u001b[38;5;132;01m{\u001b[39;00mnb_ligne\u001b[38;5;132;01m}\u001b[39;00m\u001b[38;5;124m.\u001b[39m\u001b[38;5;124m\"\u001b[39m\n",
      "Cell \u001b[0;32mIn[9], line 21\u001b[0m, in \u001b[0;36mcalculer_personnes_supplementaires\u001b[0;34m(date_horaire_entree, numero_ligne, station)\u001b[0m\n\u001b[1;32m     18\u001b[0m date_plage_horaire \u001b[38;5;241m=\u001b[39m \u001b[38;5;124mf\u001b[39m\u001b[38;5;124m\"\u001b[39m\u001b[38;5;132;01m{\u001b[39;00mdate_horaire_entree[:\u001b[38;5;241m10\u001b[39m]\u001b[38;5;132;01m}\u001b[39;00m\u001b[38;5;124m \u001b[39m\u001b[38;5;132;01m{\u001b[39;00mplage_horaire_entree\u001b[38;5;132;01m}\u001b[39;00m\u001b[38;5;124m\"\u001b[39m\n\u001b[1;32m     20\u001b[0m \u001b[38;5;66;03m# Vérifier si la chaîne date_plage_horaire se trouve dans new_horaires_début_df\u001b[39;00m\n\u001b[0;32m---> 21\u001b[0m \u001b[38;5;28;01mif\u001b[39;00m (date_plage_horaire \u001b[38;5;129;01min\u001b[39;00m \u001b[43mnew_horaires_début_df\u001b[49m\u001b[38;5;241m.\u001b[39mvalues) \u001b[38;5;129;01mor\u001b[39;00m (date_plage_horaire \u001b[38;5;129;01min\u001b[39;00m new_horaires_fin_df\u001b[38;5;241m.\u001b[39mvalues): \n\u001b[1;32m     22\u001b[0m     \u001b[38;5;66;03m# Afficher les éléments de la colonne \"Lieu\" correspondants à la condition dans new_horaires_début_df\u001b[39;00m\n\u001b[1;32m     23\u001b[0m     lieux_correspondants_debut \u001b[38;5;241m=\u001b[39m new_horaires_début_df\u001b[38;5;241m.\u001b[39mloc[new_horaires_début_df\u001b[38;5;241m.\u001b[39meq(date_plage_horaire)\u001b[38;5;241m.\u001b[39many(axis\u001b[38;5;241m=\u001b[39m\u001b[38;5;241m1\u001b[39m), \u001b[38;5;124m'\u001b[39m\u001b[38;5;124mLieu\u001b[39m\u001b[38;5;124m'\u001b[39m]\n\u001b[1;32m     24\u001b[0m     \u001b[38;5;66;03m# Afficher les éléments de la colonne \"Lieu\" correspondants à la condition dans new_horaires_fin_df\u001b[39;00m\n",
      "\u001b[0;31mNameError\u001b[0m: name 'new_horaires_début_df' is not defined"
     ]
    }
   ],
   "source": [
    "def calculer_personnes_supplementaires(date_horaire_entree, numero_ligne, station):\n",
    "\n",
    "    tableau_debut = pd.DataFrame()  # Initialisation du DataFrame vide\n",
    "    tableau_fin = pd.DataFrame()    # Initialisation du DataFrame vide\n",
    "\n",
    "    nb_station = 0 \n",
    "    nb_ligne = 0 \n",
    "\n",
    "    cle_tableau = f'ligne numéro[{numero_ligne}]'\n",
    "\n",
    "    # Extraire l'horaire de l'entrée utilisateur\n",
    "    heure_entree = date_horaire_entree[-5:]\n",
    "\n",
    "    # Déterminer la plage horaire à laquelle appartient l'horaire d'entrée\n",
    "    plage_horaire_entree = f\"{heure_entree.split(':')[0]}:00:00 - {(int(heure_entree.split(':')[0])+1)%24:02d}:00:00\"\n",
    "\n",
    "    # Construire la chaîne de date avec la plage horaire\n",
    "    date_plage_horaire = f\"{date_horaire_entree[:10]} {plage_horaire_entree}\"\n",
    "\n",
    "    # Vérifier si la chaîne date_plage_horaire se trouve dans new_horaires_début_df\n",
    "    if (date_plage_horaire in new_horaires_début_df.values) or (date_plage_horaire in new_horaires_fin_df.values): \n",
    "        # Afficher les éléments de la colonne \"Lieu\" correspondants à la condition dans new_horaires_début_df\n",
    "        lieux_correspondants_debut = new_horaires_début_df.loc[new_horaires_début_df.eq(date_plage_horaire).any(axis=1), 'Lieu']\n",
    "        # Afficher les éléments de la colonne \"Lieu\" correspondants à la condition dans new_horaires_fin_df\n",
    "        lieux_correspondants_fin = new_horaires_fin_df.loc[new_horaires_fin_df.eq(date_plage_horaire).any(axis=1), 'Lieu']\n",
    "        \n",
    "        lignes_correspondantes = []\n",
    "        \n",
    "        \n",
    "        # Renvoyer les vecteurs de la colonne Ligne pour chaque élément de lieux_correspondants_debut\n",
    "        for lieu in lieux_correspondants_debut:\n",
    "            ligne_lieu = df[df['Lieu'] == lieu]  # Trouver la ligne correspondant au lieu\n",
    "            tableau_debut=pd.concat([tableau_debut, ligne_lieu], ignore_index=True)\n",
    "            lignes_lieu = ligne_lieu['Lignes']\n",
    "            lignes_correspondantes.extend(lignes_lieu.values)\n",
    "            \n",
    "\n",
    "        # Renvoyer les vecteurs de la colonne Ligne pour chaque élément de lieux_correspondants_fin\n",
    "        for lieu in lieux_correspondants_fin:\n",
    "            ligne_lieu = df[df['Lieu'] == lieu]  # Trouver la ligne correspondant au lieu\n",
    "            tableau_fin=pd.concat([tableau_fin, ligne_lieu], ignore_index=True)\n",
    "            lignes_lieu = ligne_lieu['Lignes']\n",
    "            lignes_correspondantes.extend(lignes_lieu.values)\n",
    "\n",
    "        numero_trouve = False\n",
    "\n",
    "        for sous_liste in lignes_correspondantes:\n",
    "            if numero_ligne in sous_liste:\n",
    "                numero_trouve = True\n",
    "                break  # Arrête la boucle une fois que le numéro est trouvé\n",
    "\n",
    "            # Vérifier si le numéro de ligne entré est présent dans les vecteurs des lignes correspondantes\n",
    "        if numero_trouve:\n",
    "            resultat_debut=0\n",
    "            resultat_fin=0\n",
    "            if not tableau_debut.empty :\n",
    "                tableau_debut = tableau_debut[tableau_debut['Lignes'].apply(lambda x: numero_ligne in x)]\n",
    "                resultat_debut = tableau_debut['Nombre de personnes par ligne'].sum()\n",
    "            if not tableau_fin.empty :\n",
    "                    tableau_fin = tableau_fin[tableau_fin['Lignes'].apply(lambda x: numero_ligne in x)]\n",
    "                    resultat_fin = tableau_fin['Nombre de personnes par ligne'].sum()\n",
    "            resultat=resultat_debut+resultat_fin\n",
    "            nb_ligne=round(resultat)\n",
    "\n",
    "            resultat_debut_2=0\n",
    "            resultat_fin_2=0\n",
    "\n",
    "            if not tableau_debut.empty:\n",
    "                tableau_provisoire =tableaux[cle_tableau]\n",
    "                ligne_provisoire = tableau_provisoire[tableau_provisoire['Station'].str.contains(station)]\n",
    "                valeur = ligne_provisoire['Part du trafic de la station par rapport à toute la ligne'].values[0]\n",
    "                tableau_debut['Pourcentage fréquentation'] = valeur\n",
    "                resultat_debut_2=valeur*resultat_debut\n",
    "            \n",
    "            if not tableau_fin.empty:\n",
    "                tableau_provisoire =tableaux[cle_tableau]\n",
    "                ligne_provisoire = tableau_provisoire[tableau_provisoire['Station'].str.contains(station)]\n",
    "                valeur = ligne_provisoire['Part de la station dans le trafic annuel de la ligne'].values[0]\n",
    "                tableau_fin['Pourcentage fréquentation'] = valeur\n",
    "                resultat_fin_2=valeur*resultat_debut\n",
    "            \n",
    "            resultat2=resultat_debut_2+resultat_fin_2\n",
    "            nb_station=round(resultat2)\n",
    "            return nb_ligne, nb_station\n",
    "\n",
    "        else:\n",
    "            print(0)\n",
    "    else:\n",
    "        print(0)\n",
    "    \n",
    "    return nb_ligne, nb_station\n",
    "\n",
    "#exemple d'utilisation \n",
    "date_horaire_entree = '2024-07-28 09:20'\n",
    "numero_ligne = '1'\n",
    "station = 'bastille'\n",
    "\n",
    "nb_ligne, nb_station = calculer_personnes_supplementaires(date_horaire_entree, numero_ligne, station)\n",
    "\n",
    "phrase_station = f\"Le nombre de personnes supplémentaires à la station {station} en raison des JO est {nb_station}.\"\n",
    "phrase_ligne = f\"Le nombre de personnes supplémentaires sur la ligne {numero_ligne} en raison des JO est {nb_ligne}.\"\n",
    "\n",
    "print(phrase_station)\n",
    "print(phrase_ligne)"
   ]
  },
  {
   "cell_type": "markdown",
   "metadata": {},
   "source": [
    "Programme calculant le nombre total de personnes "
   ]
  },
  {
   "cell_type": "code",
   "execution_count": null,
   "metadata": {},
   "outputs": [
    {
     "ename": "NameError",
     "evalue": "name 'new_horaires_début_df' is not defined",
     "output_type": "error",
     "traceback": [
      "\u001b[0;31m---------------------------------------------------------------------------\u001b[0m",
      "\u001b[0;31mNameError\u001b[0m                                 Traceback (most recent call last)",
      "Cell \u001b[0;32mIn[11], line 25\u001b[0m\n\u001b[1;32m     22\u001b[0m ligne_info \u001b[38;5;241m=\u001b[39m \u001b[38;5;124m\"\u001b[39m\u001b[38;5;124m1\u001b[39m\u001b[38;5;124m\"\u001b[39m\n\u001b[1;32m     23\u001b[0m date_info \u001b[38;5;241m=\u001b[39m \u001b[38;5;124m\"\u001b[39m\u001b[38;5;124m2024-07-28\u001b[39m\u001b[38;5;124m\"\u001b[39m\n\u001b[0;32m---> 25\u001b[0m result_station, result_ligne \u001b[38;5;241m=\u001b[39m \u001b[43minfo_trafic\u001b[49m\u001b[43m(\u001b[49m\u001b[43mdate_info\u001b[49m\u001b[43m,\u001b[49m\u001b[43m \u001b[49m\u001b[43mhoraire_info\u001b[49m\u001b[43m,\u001b[49m\u001b[43m \u001b[49m\u001b[43mstation_info\u001b[49m\u001b[43m,\u001b[49m\u001b[43m \u001b[49m\u001b[43mligne_info\u001b[49m\u001b[43m)\u001b[49m\n\u001b[1;32m     26\u001b[0m \u001b[38;5;28;01mif\u001b[39;00m result_station \u001b[38;5;129;01mis\u001b[39;00m \u001b[38;5;129;01mnot\u001b[39;00m \u001b[38;5;28;01mNone\u001b[39;00m \u001b[38;5;129;01mand\u001b[39;00m result_ligne \u001b[38;5;129;01mis\u001b[39;00m \u001b[38;5;129;01mnot\u001b[39;00m \u001b[38;5;28;01mNone\u001b[39;00m:\n\u001b[1;32m     27\u001b[0m     \u001b[38;5;28mprint\u001b[39m(\u001b[38;5;124mf\u001b[39m\u001b[38;5;124m\"\u001b[39m\u001b[38;5;124mNombre de personnes totales à la station \u001b[39m\u001b[38;5;132;01m{\u001b[39;00mstation_info\u001b[38;5;132;01m}\u001b[39;00m\u001b[38;5;124m sur la ligne \u001b[39m\u001b[38;5;132;01m{\u001b[39;00mligne_info\u001b[38;5;132;01m}\u001b[39;00m\u001b[38;5;124m: \u001b[39m\u001b[38;5;132;01m{\u001b[39;00mresult_station\u001b[38;5;132;01m}\u001b[39;00m\u001b[38;5;124m\"\u001b[39m)\n",
      "Cell \u001b[0;32mIn[11], line 4\u001b[0m, in \u001b[0;36minfo_trafic\u001b[0;34m(date, heure, station, ligne)\u001b[0m\n\u001b[1;32m      1\u001b[0m \u001b[38;5;28;01mdef\u001b[39;00m \u001b[38;5;21minfo_trafic\u001b[39m(date, heure, station, ligne):\n\u001b[1;32m      2\u001b[0m     \u001b[38;5;28;01mtry\u001b[39;00m:\n\u001b[1;32m      3\u001b[0m         \u001b[38;5;66;03m# Calculate nb_station and affluence_horaire\u001b[39;00m\n\u001b[0;32m----> 4\u001b[0m         nb_station, nb_ligne \u001b[38;5;241m=\u001b[39m \u001b[43mcalculer_personnes_supplementaires\u001b[49m\u001b[43m(\u001b[49m\u001b[38;5;124;43mf\u001b[39;49m\u001b[38;5;124;43m\"\u001b[39;49m\u001b[38;5;132;43;01m{\u001b[39;49;00m\u001b[43mdate\u001b[49m\u001b[38;5;132;43;01m}\u001b[39;49;00m\u001b[38;5;124;43m \u001b[39;49m\u001b[38;5;132;43;01m{\u001b[39;49;00m\u001b[43mheure\u001b[49m\u001b[38;5;132;43;01m}\u001b[39;49;00m\u001b[38;5;124;43m\"\u001b[39;49m\u001b[43m,\u001b[49m\u001b[43m \u001b[49m\u001b[43mligne\u001b[49m\u001b[43m,\u001b[49m\u001b[43m \u001b[49m\u001b[43mstation\u001b[49m\u001b[43m)\u001b[49m\n\u001b[1;32m      5\u001b[0m         affluence_horaire, _, affluence_ligne \u001b[38;5;241m=\u001b[39m affluence_hors_jo(heure, station, ligne)\n\u001b[1;32m      7\u001b[0m         \u001b[38;5;66;03m# Calculate the total number of people at the station and on the line\u001b[39;00m\n",
      "Cell \u001b[0;32mIn[9], line 21\u001b[0m, in \u001b[0;36mcalculer_personnes_supplementaires\u001b[0;34m(date_horaire_entree, numero_ligne, station)\u001b[0m\n\u001b[1;32m     18\u001b[0m date_plage_horaire \u001b[38;5;241m=\u001b[39m \u001b[38;5;124mf\u001b[39m\u001b[38;5;124m\"\u001b[39m\u001b[38;5;132;01m{\u001b[39;00mdate_horaire_entree[:\u001b[38;5;241m10\u001b[39m]\u001b[38;5;132;01m}\u001b[39;00m\u001b[38;5;124m \u001b[39m\u001b[38;5;132;01m{\u001b[39;00mplage_horaire_entree\u001b[38;5;132;01m}\u001b[39;00m\u001b[38;5;124m\"\u001b[39m\n\u001b[1;32m     20\u001b[0m \u001b[38;5;66;03m# Vérifier si la chaîne date_plage_horaire se trouve dans new_horaires_début_df\u001b[39;00m\n\u001b[0;32m---> 21\u001b[0m \u001b[38;5;28;01mif\u001b[39;00m (date_plage_horaire \u001b[38;5;129;01min\u001b[39;00m \u001b[43mnew_horaires_début_df\u001b[49m\u001b[38;5;241m.\u001b[39mvalues) \u001b[38;5;129;01mor\u001b[39;00m (date_plage_horaire \u001b[38;5;129;01min\u001b[39;00m new_horaires_fin_df\u001b[38;5;241m.\u001b[39mvalues): \n\u001b[1;32m     22\u001b[0m     \u001b[38;5;66;03m# Afficher les éléments de la colonne \"Lieu\" correspondants à la condition dans new_horaires_début_df\u001b[39;00m\n\u001b[1;32m     23\u001b[0m     lieux_correspondants_debut \u001b[38;5;241m=\u001b[39m new_horaires_début_df\u001b[38;5;241m.\u001b[39mloc[new_horaires_début_df\u001b[38;5;241m.\u001b[39meq(date_plage_horaire)\u001b[38;5;241m.\u001b[39many(axis\u001b[38;5;241m=\u001b[39m\u001b[38;5;241m1\u001b[39m), \u001b[38;5;124m'\u001b[39m\u001b[38;5;124mLieu\u001b[39m\u001b[38;5;124m'\u001b[39m]\n\u001b[1;32m     24\u001b[0m     \u001b[38;5;66;03m# Afficher les éléments de la colonne \"Lieu\" correspondants à la condition dans new_horaires_fin_df\u001b[39;00m\n",
      "\u001b[0;31mNameError\u001b[0m: name 'new_horaires_début_df' is not defined"
     ]
    }
   ],
   "source": [
    "def info_trafic(date, heure, station, ligne):\n",
    "    try:\n",
    "        # Calculate nb_station and affluence_horaire\n",
    "        nb_station, nb_ligne = calculer_personnes_supplementaires(f\"{date} {heure}\", ligne, station)\n",
    "        affluence_horaire, _, affluence_ligne = affluence_hors_jo(heure, station, ligne)\n",
    "\n",
    "        # Calculate the total number of people at the station and on the line\n",
    "        total_station = nb_station + affluence_horaire\n",
    "\n",
    "        # Calculate the total number of people on the line\n",
    "        total_ligne = nb_ligne + affluence_ligne\n",
    "\n",
    "        return total_station, total_ligne\n",
    "\n",
    "    except ValueError as e:\n",
    "        print(e)\n",
    "        return None, None  # Handle the error as needed\n",
    "\n",
    "# Example usage of info_trafic function\n",
    "horaire_info = \"09:35\"\n",
    "station_info = \"bastille\"\n",
    "ligne_info = \"1\"\n",
    "date_info = \"2024-07-28\"\n",
    "\n",
    "result_station, result_ligne = info_trafic(date_info, horaire_info, station_info, ligne_info)\n",
    "if result_station is not None and result_ligne is not None:\n",
    "    print(f\"Nombre de personnes totales à la station {station_info} sur la ligne {ligne_info}: {result_station}\")\n",
    "    print(f\"Nombre de personnes totales sur la ligne {ligne_info}: {result_ligne}\")"
   ]
  },
  {
   "cell_type": "code",
   "execution_count": null,
   "metadata": {},
   "outputs": [],
   "source": []
  }
 ],
 "metadata": {
  "kernelspec": {
   "display_name": "Python 3 (ipykernel)",
   "language": "python",
   "name": "python3"
  },
  "language_info": {
   "codemirror_mode": {
    "name": "ipython",
    "version": 3
   },
   "file_extension": ".py",
   "mimetype": "text/x-python",
   "name": "python",
   "nbconvert_exporter": "python",
   "pygments_lexer": "ipython3",
   "version": "3.10.13"
  }
 },
 "nbformat": 4,
 "nbformat_minor": 2
}
