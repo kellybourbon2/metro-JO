{
 "cells": [
  {
   "cell_type": "code",
   "execution_count": 124,
   "id": "76abe6a9",
   "metadata": {
    "scrolled": true
   },
   "outputs": [
    {
     "name": "stdout",
     "output_type": "stream",
     "text": [
      "TRNC_HORR_60    LIBELLE_ARRET   0H-1H  10H-11H  11H-12H  12H-13H  13H-14H  \\\n",
      "0                    ABBESSES  1.9100    3.792    4.776    5.672    6.022   \n",
      "1                       ABLON  0.0375    5.314    5.110    5.018    4.816   \n",
      "2               ACHERES GRAND  0.1200    4.506    5.692    5.470    6.676   \n",
      "3               ACHERES VILLE  0.2100    5.934    6.148    6.384    6.170   \n",
      "4               AEROPORT CDG1  0.1260    4.102    4.486    5.208    6.560   \n",
      "..                        ...     ...      ...      ...      ...      ...   \n",
      "742                    VOSVES     NaN    4.360    4.218    9.368    4.512   \n",
      "743           VULAINES SUR SE     NaN    7.312    4.808    5.806    6.052   \n",
      "744                    WAGRAM  0.7640    5.088    5.930    6.988    6.962   \n",
      "745                    YERRES  0.1200    6.058    6.192    5.880    5.788   \n",
      "746            YVRIS NOISY GD  0.0000    4.936    5.674    5.322    5.284   \n",
      "\n",
      "TRNC_HORR_60  14H-15H  15H-16H  16H-17H  17H-18H  ...    23H-0H     2H-3H  \\\n",
      "0               7.018    8.128    9.012    9.604  ...  3.280000  0.005000   \n",
      "1               4.896    4.850    6.234    6.656  ...  0.360000  0.000000   \n",
      "2               7.096    9.496   10.200    9.838  ...  1.225000       NaN   \n",
      "3               6.146    5.774    6.372    6.670  ...  0.592000  0.016000   \n",
      "4               8.606    8.378    8.096    8.756  ...  1.542000  0.003333   \n",
      "..                ...      ...      ...      ...  ...       ...       ...   \n",
      "742             5.124    5.424    9.010    8.854  ...  0.070000       NaN   \n",
      "743             7.268    5.654    9.360    8.160  ...  0.153333       NaN   \n",
      "744             6.812    7.222    7.812    9.094  ...  1.600000  0.018000   \n",
      "745             5.694    5.250    5.334    5.790  ...  0.368000  0.000000   \n",
      "746             5.684    4.952    5.908    7.168  ...  0.312000       NaN   \n",
      "\n",
      "TRNC_HORR_60   3H-4H   4H-5H  5H-6H   6H-7H   7H-8H   8H-9H  9H-10H   ND  \n",
      "0             0.0000  0.0000  0.236   0.752   1.884   4.742   4.678  NaN  \n",
      "1             0.0050  0.0820  3.608   7.566  12.040  11.468   7.762  NaN  \n",
      "2                NaN  0.0700  2.234   2.946   5.974   8.830   4.352  NaN  \n",
      "3             0.0260  0.6820  2.354   4.486   9.108  11.440   6.504  0.0  \n",
      "4             0.0025  0.6840  1.584   2.096   3.052   3.516   3.760  NaN  \n",
      "..               ...     ...    ...     ...     ...     ...     ...  ...  \n",
      "742              NaN     NaN  0.930  12.980  18.340   7.424   4.938  NaN  \n",
      "743              NaN     NaN  1.072   3.702   9.026   8.248   5.704  NaN  \n",
      "744           0.0000  0.0025  0.378   0.888   2.342   5.396   5.734  NaN  \n",
      "745           0.0050  0.2400  2.704   6.316  12.012  12.978   6.786  NaN  \n",
      "746              NaN  0.0725  1.832   6.114  12.798  15.318   7.222  NaN  \n",
      "\n",
      "[747 rows x 26 columns]\n"
     ]
    }
   ],
   "source": [
    "#Nettoyage de données pour les validations par station et horaires: pour chaque station, on a le pourcentage d'affluence à chaque horaire sur une journée type\n",
    "import pandas as pd\n",
    "%config NotebookApp.iopub_data_rate_limit=100000000000.0\n",
    "d = 'validations-reseau-ferre-profils-horaires-par-jour-type-1er-semestre (1).csv'\n",
    "données_validation= pd.read_csv(d)\n",
    "données_validation = pd.read_csv(d, delimiter=';')\n",
    "données_validation_station_horaire = données_validation[['LIBELLE_ARRET', 'TRNC_HORR_60','pourc_validations']]\n",
    "donnees_organisees = données_validation_station_horaire.pivot_table(index='LIBELLE_ARRET', columns='TRNC_HORR_60', values='pourc_validations', aggfunc='mean').reset_index()\n",
    "print(donnees_organisees)"
   ]
  },
  {
   "cell_type": "code",
   "execution_count": 134,
   "id": "578f678e",
   "metadata": {},
   "outputs": [
    {
     "name": "stdout",
     "output_type": "stream",
     "text": [
      "               JOUR  CODE_STIF_TRNS CODE_STIF_RES CODE_STIF_ARRET  \\\n",
      "0        2023-06-26             800           853             568   \n",
      "1        2023-06-26             800           853             568   \n",
      "2        2023-06-26             800           853             595   \n",
      "3        2023-06-26             800           853              63   \n",
      "4        2023-06-26             800           853             637   \n",
      "...             ...             ...           ...             ...   \n",
      "1096204  2023-06-27             100           110             601   \n",
      "1096205  2023-06-27             100           110             601   \n",
      "1096206  2023-06-27             100           110             601   \n",
      "1096207  2023-06-27             100           110             602   \n",
      "1096208  2023-06-27             100           110             604   \n",
      "\n",
      "           LIBELLE_ARRET    lda CATEGORIE_TITRE  NB_VALD  \n",
      "0              MONTSOULT  67000          NAVIGO      938  \n",
      "1              MONTSOULT  67000      NON DEFINI       71  \n",
      "2          NOINTEL MOURS  67227     NAVIGO JOUR        5  \n",
      "3           BELLOY ST MA  67126               ?        5  \n",
      "4        PERSAN BEAUMONT  67292               ?      147  \n",
      "...                  ...    ...             ...      ...  \n",
      "1096204   N.D.DES-CHAMPS  71138       IMAGINE R     1763  \n",
      "1096205   N.D.DES-CHAMPS  71138          NAVIGO     2200  \n",
      "1096206   N.D.DES-CHAMPS  71138             TST       92  \n",
      "1096207        OBERKAMPF  71803          NAVIGO     6582  \n",
      "1096208            ODEON  73618               ?      111  \n",
      "\n",
      "[1096209 rows x 8 columns]\n",
      "       LIBELLE_ARRET     NB_VALD\n",
      "0           ABBESSES  433.007168\n",
      "1              ABLON  173.517787\n",
      "2      ACHERES GRAND    9.732558\n",
      "3      ACHERES VILLE  494.401606\n",
      "4      AEROPORT CDG1  713.648649\n",
      "..               ...         ...\n",
      "740           VOSVES    8.179245\n",
      "741  VULAINES SUR SE   11.187050\n",
      "742           WAGRAM  542.430108\n",
      "743           YERRES  450.856574\n",
      "744   YVRIS NOISY GD   59.044444\n",
      "\n",
      "[745 rows x 2 columns]\n"
     ]
    }
   ],
   "source": [
    "#Nettoyage de données sur le nombre de validations: on obtient le nombre de validation moyen par jour sur 1 mois précis\n",
    "\n",
    "import pandas as pd\n",
    "%config NotebookApp.iopub_data_rate_limit=100000000000.0\n",
    "d2 = 'validations-reseau-ferre-nombre-validations-par-jour-1er-semestre.csv'\n",
    "données_validation2= pd.read_csv(d2)\n",
    "données_validation2 = pd.read_csv(d2, delimiter=';')\n",
    "print(données_validation2)\n",
    "\n",
    "#On extrait les données que pour le mois de mai, à défaut d'avoir \n",
    "données_validation2['JOUR'] = pd.to_datetime(données_validation2['JOUR'])\n",
    "donnees_mai = données_validation2.loc[(données_validation2['JOUR'].dt.month == 5)]\n",
    "donnees_sum = donnees_mai.groupby('LIBELLE_ARRET')['NB_VALD'].mean().reset_index()\n",
    "print(donnees_sum)"
   ]
  },
  {
   "cell_type": "code",
   "execution_count": null,
   "id": "06b119b7",
   "metadata": {},
   "outputs": [],
   "source": []
  }
 ],
 "metadata": {
  "kernelspec": {
   "display_name": "Python 3 (ipykernel)",
   "language": "python",
   "name": "python3"
  },
  "language_info": {
   "codemirror_mode": {
    "name": "ipython",
    "version": 3
   },
   "file_extension": ".py",
   "mimetype": "text/x-python",
   "name": "python",
   "nbconvert_exporter": "python",
   "pygments_lexer": "ipython3",
   "version": "3.9.13"
  }
 },
 "nbformat": 4,
 "nbformat_minor": 5
}
