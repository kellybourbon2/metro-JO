{
 "cells": [
  {
   "cell_type": "code",
   "execution_count": 2,
   "id": "5ddf45ba",
   "metadata": {},
   "outputs": [],
   "source": [
    "import pandas as pd\n",
    "\n",
    "#On s'occupe d'abord de nettoyer les données sur le nombre de validation par jour \n",
    "%config NotebookApp.iopub_data_rate_limit=100000000000.0\n",
    "url2 = 'https://www.data.gouv.fr/fr/datasets/r/63e11ecc-9d0f-40d0-bbae-5a3a403831c0'\n",
    "données_validation2= pd.read_csv(url2)\n",
    "données_validation2 = pd.read_csv(url2, delimiter=';')\n",
    "\n",
    "#On extrait les données que pour le mois de mai, à défaut d'avoir celles du mois de juillet et on fait la moyenne sur 1 jour\n",
    "données_validation2['JOUR'] = pd.to_datetime(données_validation2['JOUR'])\n",
    "somme_par_station = données_validation2.groupby('LIBELLE_ARRET')['NB_VALD'].sum()\n",
    "resultat_final = pd.DataFrame({'Station': somme_par_station.index, 'Nombre de validations': somme_par_station.values})\n",
    "resultat_final['Nombre de validations'] = resultat_final['Nombre de validations'].div(120)\n",
    "\n",
    "\n",
    "#On s'occupe ensuite de nettoyer les données sur la répartition de l'affluence sur une journée\n",
    "%config NotebookApp.iopub_data_rate_limit=100000000000.0\n",
    "url = 'validations-reseau-ferre-profils-horaires-par-jour-type-1er-semestre (1).csv'\n",
    "données_validation= pd.read_csv(url)\n",
    "données_validation = pd.read_csv(url, delimiter=';')\n",
    "données_validation_station_horaire = données_validation[['LIBELLE_ARRET', 'TRNC_HORR_60','pourc_validations']]\n",
    "donnees_organisees = données_validation_station_horaire.pivot_table(index='LIBELLE_ARRET', columns='TRNC_HORR_60', values='pourc_validations', aggfunc='mean').reset_index()\n",
    "\n",
    "#On fusionne les données des deux tableaux pour avoir le nombre de validation sur chaque plage horaire\n",
    "merged_df = pd.merge(resultat_final, donnees_organisees, left_on='Station', right_on='LIBELLE_ARRET')\n",
    "columns_to_multiply = donnees_organisees.columns[1:]\n",
    "resultat = merged_df.copy()\n",
    "resultat[columns_to_multiply] = resultat[columns_to_multiply].multiply(resultat['Nombre de validations'], axis=0)\n",
    "resultat[columns_to_multiply] = resultat[columns_to_multiply].div(100)\n",
    "resultat = resultat.iloc[:, 2:]\n",
    "print(resultat)"
   ]
  }
 ],
 "metadata": {
  "kernelspec": {
   "display_name": "Python 3 (ipykernel)",
   "language": "python",
   "name": "python3"
  },
  "language_info": {
   "codemirror_mode": {
    "name": "ipython",
    "version": 3
   },
   "file_extension": ".py",
   "mimetype": "text/x-python",
   "name": "python",
   "nbconvert_exporter": "python",
   "pygments_lexer": "ipython3",
   "version": "3.10.13"
  }
 },
 "nbformat": 4,
 "nbformat_minor": 5
}
