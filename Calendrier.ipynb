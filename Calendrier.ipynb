{
 "cells": [
  {
   "cell_type": "code",
   "execution_count": 1,
   "metadata": {},
   "outputs": [
    {
     "name": "stdout",
     "output_type": "stream",
     "text": [
      "Une erreur s'est produite : No JVM shared library file (libjli.dylib) found. Try setting up the JAVA_HOME environment variable properly.\n"
     ]
    }
   ],
   "source": [
    "import pandas as pd\n",
    "import tabula\n",
    "\n",
    "lieux = ['Stade Tour Eiffel','Arena Champ-de-Mars', 'Grand Palais', 'Invalides', 'Pont Alexandre III', 'Trocadéro', 'La Concorde', 'Stade Roland-Garros', 'Arena Paris Sud', 'Arena Bercy', 'Arena Porte de la Chapelle', 'Paris la Défense Arena', 'Centre aquatique', 'Stade de France', 'Site escalade du Bourget', 'Arena Paris Nord']\n",
    "\n",
    "vecteur = ['Stade Tour Eiffel' if i < 4 else\n",
    "           'Arena Champ-de-Mars' if i < 8 else\n",
    "           'Grand Palais' if i < 13 else\n",
    "           'Invalides' if i < 16 else\n",
    "           'Pont Alexandre III' if i < 18 else\n",
    "           'Trocadéro' if i < 20 else\n",
    "           'La Concorde' if i < 31 else\n",
    "           'Stade Roland-Garros' if i < 38 else\n",
    "           'Arena Paris Sud' if i < 51 else\n",
    "           'Arena Bercy' if i < 61 else\n",
    "           'Arena Porte de la Chapelle' if i < 66 else\n",
    "           'Paris la Défense Arena' if i < 71 else\n",
    "           'Centre aquatique' if i < 77 else\n",
    "           'Stade de France' if i < 82 else\n",
    "           'Site escalade du Bourget' if i < 84 else\n",
    "           'Arena Paris Nord' if i < 88 else\n",
    "           'Valeur par défaut' for i in range(88)]\n",
    "\n",
    "\n",
    "# Lien vers le PDF contenant le tableau\n",
    "lien_pdf = \"https://medias.paris2024.org/uploads/2022/07/Calendrier-par-epreuves-des-Jeux-Olympiques-de-Paris-2024.pdf\"\n",
    "\n",
    "try : \n",
    "    # Utilisation de tabula pour extraire le tableau du PDF\n",
    "    # Utilisation de l'option 'pages' pour spécifier la page ou les pages contenant le tableau\n",
    "    df_list = tabula.read_pdf(lien_pdf, pages=[1, 2], stream=True)  # Adapter les options selon vos besoins\n",
    "\n",
    "    # Concaténer les DataFrames obtenus des différentes pages en un seul DataFrame\n",
    "    df = pd.concat(df_list)\n",
    "\n",
    "    # Supprimer les 28 dernières lignes\n",
    "    df = df.iloc[:-32]\n",
    "\n",
    "    # Supprimer la première ligne du DataFrame\n",
    "    df = df.drop(df.index[[0, 2]])  # Suppression de la première ligne\n",
    "    df = df.drop(df.columns[[0]], axis=1)\n",
    "\n",
    "    # Supprimer les lignes contenant uniquement des NaN\n",
    "    df = df.dropna(how='all')\n",
    "\n",
    "    df.index = vecteur\n",
    "    \n",
    "    # Affichage du DataFrame obtenu\n",
    "    display(df)\n",
    "\n",
    "except Exception as e:\n",
    "        print(\"Une erreur s'est produite :\", str(e))\n"
   ]
  }
 ],
 "metadata": {
  "kernelspec": {
   "display_name": "base",
   "language": "python",
   "name": "python3"
  },
  "language_info": {
   "codemirror_mode": {
    "name": "ipython",
    "version": 3
   },
   "file_extension": ".py",
   "mimetype": "text/x-python",
   "name": "python",
   "nbconvert_exporter": "python",
   "pygments_lexer": "ipython3",
   "version": "3.11.5"
  }
 },
 "nbformat": 4,
 "nbformat_minor": 2
}
