{
 "cells": [
  {
   "cell_type": "code",
   "execution_count": 8,
   "metadata": {},
   "outputs": [],
   "source": [
    "from IPython.utils import io\n",
    "\n",
    "try:\n",
    "    with io.capture_output():\n",
    "        %run -i \"Fréquentation_metro_en_ne_prenant_pas_en_compte_jo.ipynb\"\n",
    "except Exception as e:\n",
    "    display(e)"
   ]
  },
  {
   "cell_type": "code",
   "execution_count": 9,
   "metadata": {},
   "outputs": [],
   "source": [
    "from IPython.utils import io\n",
    "\n",
    "try:\n",
    "    with io.capture_output():\n",
    "        %run -i \"Programme calculant le nombre de personnes supplémentaires avec JO.ipynb\"\n",
    "except Exception as e:\n",
    "    display(e)"
   ]
  },
  {
   "cell_type": "code",
   "execution_count": 11,
   "metadata": {},
   "outputs": [
    {
     "name": "stdout",
     "output_type": "stream",
     "text": [
      "0\n"
     ]
    },
    {
     "ename": "NameError",
     "evalue": "name 'nb_station' is not defined",
     "output_type": "error",
     "traceback": [
      "\u001b[0;31m---------------------------------------------------------------------------\u001b[0m",
      "\u001b[0;31mNameError\u001b[0m                                 Traceback (most recent call last)",
      "Cell \u001b[0;32mIn[11], line 30\u001b[0m\n\u001b[1;32m     27\u001b[0m station_info \u001b[38;5;241m=\u001b[39m \u001b[38;5;124m\"\u001b[39m\u001b[38;5;124mbastille\u001b[39m\u001b[38;5;124m\"\u001b[39m\n\u001b[1;32m     28\u001b[0m ligne_info \u001b[38;5;241m=\u001b[39m \u001b[38;5;124m\"\u001b[39m\u001b[38;5;124m1\u001b[39m\u001b[38;5;124m\"\u001b[39m\n\u001b[0;32m---> 30\u001b[0m \u001b[43minfo_trafic\u001b[49m\u001b[43m(\u001b[49m\u001b[43mdate_info\u001b[49m\u001b[43m,\u001b[49m\u001b[43m \u001b[49m\u001b[43mheure_info\u001b[49m\u001b[43m,\u001b[49m\u001b[43m \u001b[49m\u001b[43mstation_info\u001b[49m\u001b[43m,\u001b[49m\u001b[43m \u001b[49m\u001b[43mligne_info\u001b[49m\u001b[43m)\u001b[49m\n",
      "Cell \u001b[0;32mIn[11], line 9\u001b[0m, in \u001b[0;36minfo_trafic\u001b[0;34m(date, heure, station, ligne)\u001b[0m\n\u001b[1;32m      7\u001b[0m \u001b[38;5;66;03m# Appeler la fonction calculer_personnes_supplementaires pour obtenir le nombre de personnes supplémentaires\u001b[39;00m\n\u001b[1;32m      8\u001b[0m calculer_personnes_supplementaires(\u001b[38;5;124mf\u001b[39m\u001b[38;5;124m\"\u001b[39m\u001b[38;5;132;01m{\u001b[39;00mdate\u001b[38;5;132;01m}\u001b[39;00m\u001b[38;5;124m \u001b[39m\u001b[38;5;132;01m{\u001b[39;00mheure\u001b[38;5;132;01m}\u001b[39;00m\u001b[38;5;124m\"\u001b[39m, ligne, station)\n\u001b[0;32m----> 9\u001b[0m personnes_supplementaires \u001b[38;5;241m=\u001b[39m \u001b[43mnb_station\u001b[49m\n\u001b[1;32m     11\u001b[0m \u001b[38;5;66;03m# Additionner les deux valeurs obtenues\u001b[39;00m\n\u001b[1;32m     12\u001b[0m total_personnes \u001b[38;5;241m=\u001b[39m affluence_heure \u001b[38;5;241m+\u001b[39m personnes_supplementaires\n",
      "\u001b[0;31mNameError\u001b[0m: name 'nb_station' is not defined"
     ]
    }
   ],
   "source": [
    "def info_trafic(date, heure, station, ligne):\n",
    "    try:\n",
    "        # Appeler la fonction affluence_par_heure pour obtenir l'affluence à la station\n",
    "        affluence_hors_jo(heure, station, ligne)\n",
    "        affluence_heure=affluence_horaire\n",
    "        \n",
    "        # Appeler la fonction calculer_personnes_supplementaires pour obtenir le nombre de personnes supplémentaires\n",
    "        calculer_personnes_supplementaires(f\"{date} {heure}\", ligne, station)\n",
    "        personnes_supplementaires = nb_station\n",
    "\n",
    "        # Additionner les deux valeurs obtenues\n",
    "        total_personnes = affluence_heure + personnes_supplementaires\n",
    "        \n",
    "        # Afficher le résultat\n",
    "        print(f\"Le trafic dans la station {station}, sur la ligne numéro {ligne}, à {date} {heure} est de : {total_personnes} personnes\")\n",
    "        \n",
    "        # Retourner le résultat au cas où vous voulez utiliser la variable ailleurs dans votre code\n",
    "        return total_personnes\n",
    "\n",
    "    except ValueError as e:\n",
    "        print(e)\n",
    "        return None  # Ou tout autre valeur que vous préférez en cas d'erreur\n",
    "\n",
    "# Exemple d'utilisation\n",
    "date_info = \"01/01/2023\"\n",
    "heure_info = \"9:00\"\n",
    "station_info = \"bastille\"\n",
    "ligne_info = \"1\"\n",
    "\n",
    "info_trafic(date_info, heure_info, station_info, ligne_info)\n",
    "\n",
    "    "
   ]
  }
 ],
 "metadata": {
  "kernelspec": {
   "display_name": "Python 3 (ipykernel)",
   "language": "python",
   "name": "python3"
  },
  "language_info": {
   "codemirror_mode": {
    "name": "ipython",
    "version": 3
   },
   "file_extension": ".py",
   "mimetype": "text/x-python",
   "name": "python",
   "nbconvert_exporter": "python",
   "pygments_lexer": "ipython3",
   "version": "3.10.13"
  }
 },
 "nbformat": 4,
 "nbformat_minor": 2
}
