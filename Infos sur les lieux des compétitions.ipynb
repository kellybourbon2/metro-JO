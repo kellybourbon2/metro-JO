{
 "cells": [
  {
   "cell_type": "markdown",
   "metadata": {},
   "source": [
    "# Webscraping pour obtenir des informations sur les lieux des compétitions (Nombre de personnes allant à l'événement, Arrêts de métro à proximité, Lignes de métro)"
   ]
  },
  {
   "cell_type": "code",
   "execution_count": 27,
   "metadata": {},
   "outputs": [],
   "source": [
    "import pandas as pd\n",
    "import requests\n",
    "from bs4 import BeautifulSoup\n",
    "import re"
   ]
  },
  {
   "cell_type": "markdown",
   "metadata": {},
   "source": [
    "Données disponibles sur le site https://www.paris2024.org"
   ]
  },
  {
   "cell_type": "code",
   "execution_count": 28,
   "metadata": {},
   "outputs": [],
   "source": [
    "\n",
    "lieux = [\n",
    "'stade-tour-eiffel',\n",
    "'arena-champ-de-mars',\n",
    "'grand-palais',\n",
    "'invalides',\n",
    "'pont-alexandre-iii',\n",
    "'trocadero', \n",
    "'concorde',\n",
    "'stade-roland-garros',\n",
    "'arena-paris-sud', \n",
    "'arena-bercy', \n",
    "'arena-la-chapelle', \n",
    "'paris-la-defense-arena', \n",
    "'centre-aquatique', \n",
    "'stade-de-france',\n",
    "'site-escalade-bourget',\n",
    "'arena-paris-nord'\n",
    "]\n",
    "\n",
    "urls = [\n",
    "    f\"https://www.paris2024.org/fr/site/{lieu.replace(' ', '-').lower()}/\" for lieu in lieux\n",
    "]"
   ]
  },
  {
   "cell_type": "markdown",
   "metadata": {},
   "source": [
    "Extraction des informations sur les lieux des compétitions : capacité, stations de métro à proximité et lignes de métro pour y aller"
   ]
  },
  {
   "cell_type": "code",
   "execution_count": 29,
   "metadata": {},
   "outputs": [
    {
     "data": {
      "text/html": [
       "<div>\n",
       "<style scoped>\n",
       "    .dataframe tbody tr th:only-of-type {\n",
       "        vertical-align: middle;\n",
       "    }\n",
       "\n",
       "    .dataframe tbody tr th {\n",
       "        vertical-align: top;\n",
       "    }\n",
       "\n",
       "    .dataframe thead th {\n",
       "        text-align: right;\n",
       "    }\n",
       "</style>\n",
       "<table border=\"1\" class=\"dataframe\">\n",
       "  <thead>\n",
       "    <tr style=\"text-align: right;\">\n",
       "      <th></th>\n",
       "      <th>Lieu</th>\n",
       "      <th>Capacité</th>\n",
       "      <th>Stations</th>\n",
       "    </tr>\n",
       "  </thead>\n",
       "  <tbody>\n",
       "    <tr>\n",
       "      <th>0</th>\n",
       "      <td>stade-tour-eiffel</td>\n",
       "      <td>[Capacité : 12 860 spectateurs]</td>\n",
       "      <td>[Le Stade Tour Eiffel sera desservi par les ga...</td>\n",
       "    </tr>\n",
       "    <tr>\n",
       "      <th>1</th>\n",
       "      <td>arena-champ-de-mars</td>\n",
       "      <td>[Capacité : 8 356 places]</td>\n",
       "      <td>[L’Arena Champ de Mars sera desservie par la g...</td>\n",
       "    </tr>\n",
       "    <tr>\n",
       "      <th>2</th>\n",
       "      <td>grand-palais</td>\n",
       "      <td>[Capacité : 8 000 personnes pendant les Jeux O...</td>\n",
       "      <td>[Le Grand Palais sera desservi par la station ...</td>\n",
       "    </tr>\n",
       "    <tr>\n",
       "      <th>3</th>\n",
       "      <td>invalides</td>\n",
       "      <td>[Capacité : 8 000 places]</td>\n",
       "      <td>[Le site des Invalides sera desservi par la ga...</td>\n",
       "    </tr>\n",
       "    <tr>\n",
       "      <th>4</th>\n",
       "      <td>pont-alexandre-iii</td>\n",
       "      <td>[Capacité : 1 000 personnes]</td>\n",
       "      <td>[Le site du Pont Alexandre III sera desservi p...</td>\n",
       "    </tr>\n",
       "    <tr>\n",
       "      <th>5</th>\n",
       "      <td>trocadero</td>\n",
       "      <td>[Capacité : 3 349 places]</td>\n",
       "      <td>[Le site du Trocadéro sera desservi par la sta...</td>\n",
       "    </tr>\n",
       "    <tr>\n",
       "      <th>6</th>\n",
       "      <td>concorde</td>\n",
       "      <td>[]</td>\n",
       "      <td>[Le site de La Concorde sera desservi par les ...</td>\n",
       "    </tr>\n",
       "    <tr>\n",
       "      <th>7</th>\n",
       "      <td>stade-roland-garros</td>\n",
       "      <td>[Capacité court Philippe-Chatrier : 14 962 pla...</td>\n",
       "      <td>[Le Stade Roland Garros sera desservi par les ...</td>\n",
       "    </tr>\n",
       "    <tr>\n",
       "      <th>8</th>\n",
       "      <td>arena-paris-sud</td>\n",
       "      <td>[]</td>\n",
       "      <td>[L’Arena Paris Sud sera desservie par les stat...</td>\n",
       "    </tr>\n",
       "    <tr>\n",
       "      <th>9</th>\n",
       "      <td>arena-bercy</td>\n",
       "      <td>[Capacité : 15 000 spectateurs.]</td>\n",
       "      <td>[L’Arena Bercy sera desservie par la station «...</td>\n",
       "    </tr>\n",
       "    <tr>\n",
       "      <th>10</th>\n",
       "      <td>arena-la-chapelle</td>\n",
       "      <td>[Capacité : pour les épreuves de badminton et ...</td>\n",
       "      <td>[L’Arena Porte de la Chapelle sera desservie p...</td>\n",
       "    </tr>\n",
       "    <tr>\n",
       "      <th>11</th>\n",
       "      <td>paris-la-defense-arena</td>\n",
       "      <td>[Capacité : 17 000 places]</td>\n",
       "      <td>[La Paris La Défense Arena à Nanterre sera des...</td>\n",
       "    </tr>\n",
       "    <tr>\n",
       "      <th>12</th>\n",
       "      <td>centre-aquatique</td>\n",
       "      <td>[Capacité : 5 000 places]</td>\n",
       "      <td>[Le Centre Aquatique sera desservi par la gare...</td>\n",
       "    </tr>\n",
       "    <tr>\n",
       "      <th>13</th>\n",
       "      <td>stade-de-france</td>\n",
       "      <td>[Capacité : 77 083 spectateurs.]</td>\n",
       "      <td>[Le Stade de France sera desservi par les gare...</td>\n",
       "    </tr>\n",
       "    <tr>\n",
       "      <th>14</th>\n",
       "      <td>site-escalade-bourget</td>\n",
       "      <td>[Capacité : 6 000 places, 3 000 assises, 3 000...</td>\n",
       "      <td>[Le site d’escalade du Bourget sera desservi p...</td>\n",
       "    </tr>\n",
       "    <tr>\n",
       "      <th>15</th>\n",
       "      <td>arena-paris-nord</td>\n",
       "      <td>[Capacité : 6 000 spectateurs.]</td>\n",
       "      <td>[L’Arena Paris Nord sera desservie par la gare...</td>\n",
       "    </tr>\n",
       "  </tbody>\n",
       "</table>\n",
       "</div>"
      ],
      "text/plain": [
       "                      Lieu                                           Capacité  \\\n",
       "0        stade-tour-eiffel                    [Capacité : 12 860 spectateurs]   \n",
       "1      arena-champ-de-mars                          [Capacité : 8 356 places]   \n",
       "2             grand-palais  [Capacité : 8 000 personnes pendant les Jeux O...   \n",
       "3                invalides                          [Capacité : 8 000 places]   \n",
       "4       pont-alexandre-iii                       [Capacité : 1 000 personnes]   \n",
       "5                trocadero                          [Capacité : 3 349 places]   \n",
       "6                 concorde                                                 []   \n",
       "7      stade-roland-garros  [Capacité court Philippe-Chatrier : 14 962 pla...   \n",
       "8          arena-paris-sud                                                 []   \n",
       "9              arena-bercy                   [Capacité : 15 000 spectateurs.]   \n",
       "10       arena-la-chapelle  [Capacité : pour les épreuves de badminton et ...   \n",
       "11  paris-la-defense-arena                         [Capacité : 17 000 places]   \n",
       "12        centre-aquatique                          [Capacité : 5 000 places]   \n",
       "13         stade-de-france                   [Capacité : 77 083 spectateurs.]   \n",
       "14   site-escalade-bourget  [Capacité : 6 000 places, 3 000 assises, 3 000...   \n",
       "15        arena-paris-nord                    [Capacité : 6 000 spectateurs.]   \n",
       "\n",
       "                                             Stations  \n",
       "0   [Le Stade Tour Eiffel sera desservi par les ga...  \n",
       "1   [L’Arena Champ de Mars sera desservie par la g...  \n",
       "2   [Le Grand Palais sera desservi par la station ...  \n",
       "3   [Le site des Invalides sera desservi par la ga...  \n",
       "4   [Le site du Pont Alexandre III sera desservi p...  \n",
       "5   [Le site du Trocadéro sera desservi par la sta...  \n",
       "6   [Le site de La Concorde sera desservi par les ...  \n",
       "7   [Le Stade Roland Garros sera desservi par les ...  \n",
       "8   [L’Arena Paris Sud sera desservie par les stat...  \n",
       "9   [L’Arena Bercy sera desservie par la station «...  \n",
       "10  [L’Arena Porte de la Chapelle sera desservie p...  \n",
       "11  [La Paris La Défense Arena à Nanterre sera des...  \n",
       "12  [Le Centre Aquatique sera desservi par la gare...  \n",
       "13  [Le Stade de France sera desservi par les gare...  \n",
       "14  [Le site d’escalade du Bourget sera desservi p...  \n",
       "15  [L’Arena Paris Nord sera desservie par la gare...  "
      ]
     },
     "metadata": {},
     "output_type": "display_data"
    }
   ],
   "source": [
    "def get_specific_lines(url):\n",
    "    response = requests.get(url)\n",
    "    if response.status_code == 200:\n",
    "        soup = BeautifulSoup(response.content, 'html.parser')\n",
    "        specific_lines = {\n",
    "            'Capacité': [],\n",
    "            'Stations': []  # Création d'une liste pour stocker les stations\n",
    "        }\n",
    "        for paragraph in soup.find_all('p'):\n",
    "            # Recherche des lignes contenant les Capacité spécifiques\n",
    "            if ('Capacité' in paragraph.text or \n",
    "                'Capacité court Philippe-Chatrier' in paragraph.text or \n",
    "                'Volleyball' in paragraph.text or \n",
    "                'Pour la gymnastique rythmique' in paragraph.text):\n",
    "                specific_lines['Capacité'].append(paragraph.text.strip())\n",
    "                \n",
    "            # Extraction des phrases après \"desservie\" ou \"desservi\"\n",
    "            if 'desservie' in paragraph.text or 'desservi' in paragraph.text:\n",
    "                sentences = paragraph.text.split('.')  # Séparation en phrases\n",
    "                for sentence in sentences:\n",
    "                    if 'desservie' in sentence or 'desservi' in sentence:\n",
    "                        specific_lines['Stations'].append(sentence.strip())\n",
    "        \n",
    "        return specific_lines\n",
    "    return None\n",
    "\n",
    "\n",
    "# Création d'un dictionnaire pour stocker les résultats\n",
    "results = {lieu: get_specific_lines(url) for lieu, url in zip(lieux, urls)}\n",
    "# Création d'un DataFrame à partir du dictionnaire\n",
    "df = pd.DataFrame(results.items(), columns=['Lieu', 'Infos'])\n",
    "# Expansion du dictionnaire pour créer les colonnes 'Capacité' et 'Stations'\n",
    "df = pd.concat([df.drop(['Infos'], axis=1), df['Infos'].apply(pd.Series)], axis=1)\n",
    "\n",
    "display(df)"
   ]
  },
  {
   "cell_type": "markdown",
   "metadata": {},
   "source": [
    "Compléter pour les données manquantes : Concorde (données disponibles sur le site : https://sportetsociete.org/2022/10/20/paris-2024-un-cadre-majestueux-pour-louverture-des-jeux-paralympiques)"
   ]
  },
  {
   "cell_type": "code",
   "execution_count": 30,
   "metadata": {},
   "outputs": [
    {
     "name": "stderr",
     "output_type": "stream",
     "text": [
      "/tmp/ipykernel_49518/1771775837.py:11: DeprecationWarning: The 'text' argument to find()-type methods is deprecated. Use 'string' instead.\n",
      "  texte_places = soup.find(text=lambda text: text and \"places\" in text)\n"
     ]
    }
   ],
   "source": [
    "# Faites une requête GET pour récupérer le contenu HTML de la page\n",
    "url = 'https://sportetsociete.org/2022/10/20/paris-2024-un-cadre-majestueux-pour-louverture-des-jeux-paralympiques'\n",
    "response = requests.get(url)\n",
    "\n",
    "# Vérifiez si la requête a réussi\n",
    "if response.status_code == 200:\n",
    "    # Utilisation de BeautifulSoup pour analyser le contenu HTML\n",
    "    soup = BeautifulSoup(response.content, 'html.parser')\n",
    "    \n",
    "    # Recherchez le texte contenant \"places\"\n",
    "    texte_places = soup.find(text=lambda text: text and \"places\" in text)\n",
    "\n",
    "    if texte_places:\n",
    "        # Imprimez le texte trouvé\n",
    "        df.iloc[6, 1]=texte_places.strip()"
   ]
  },
  {
   "cell_type": "markdown",
   "metadata": {},
   "source": [
    "Compléter pour les données manquantes : Arena Paris Sud (données disponible sur le site : https://fr.wikipedia.org/wiki/Arena_Porte_de_la_Chapelle)"
   ]
  },
  {
   "cell_type": "code",
   "execution_count": 31,
   "metadata": {},
   "outputs": [
    {
     "name": "stderr",
     "output_type": "stream",
     "text": [
      "/tmp/ipykernel_49518/260701026.py:12: DeprecationWarning: The 'text' argument to find()-type methods is deprecated. Use 'string' instead.\n",
      "  capacity_text = soup.find(\"th\", text=\"Capacité\").find_next(\"td\").get_text(strip=True)\n"
     ]
    },
    {
     "data": {
      "text/html": [
       "<div>\n",
       "<style scoped>\n",
       "    .dataframe tbody tr th:only-of-type {\n",
       "        vertical-align: middle;\n",
       "    }\n",
       "\n",
       "    .dataframe tbody tr th {\n",
       "        vertical-align: top;\n",
       "    }\n",
       "\n",
       "    .dataframe thead th {\n",
       "        text-align: right;\n",
       "    }\n",
       "</style>\n",
       "<table border=\"1\" class=\"dataframe\">\n",
       "  <thead>\n",
       "    <tr style=\"text-align: right;\">\n",
       "      <th></th>\n",
       "      <th>Lieu</th>\n",
       "      <th>Capacité</th>\n",
       "      <th>Stations</th>\n",
       "    </tr>\n",
       "  </thead>\n",
       "  <tbody>\n",
       "    <tr>\n",
       "      <th>0</th>\n",
       "      <td>stade-tour-eiffel</td>\n",
       "      <td>[Capacité : 12 860 spectateurs]</td>\n",
       "      <td>[Le Stade Tour Eiffel sera desservi par les ga...</td>\n",
       "    </tr>\n",
       "    <tr>\n",
       "      <th>1</th>\n",
       "      <td>arena-champ-de-mars</td>\n",
       "      <td>[Capacité : 8 356 places]</td>\n",
       "      <td>[L’Arena Champ de Mars sera desservie par la g...</td>\n",
       "    </tr>\n",
       "    <tr>\n",
       "      <th>2</th>\n",
       "      <td>grand-palais</td>\n",
       "      <td>[Capacité : 8 000 personnes pendant les Jeux O...</td>\n",
       "      <td>[Le Grand Palais sera desservi par la station ...</td>\n",
       "    </tr>\n",
       "    <tr>\n",
       "      <th>3</th>\n",
       "      <td>invalides</td>\n",
       "      <td>[Capacité : 8 000 places]</td>\n",
       "      <td>[Le site des Invalides sera desservi par la ga...</td>\n",
       "    </tr>\n",
       "    <tr>\n",
       "      <th>4</th>\n",
       "      <td>pont-alexandre-iii</td>\n",
       "      <td>[Capacité : 1 000 personnes]</td>\n",
       "      <td>[Le site du Pont Alexandre III sera desservi p...</td>\n",
       "    </tr>\n",
       "    <tr>\n",
       "      <th>5</th>\n",
       "      <td>trocadero</td>\n",
       "      <td>[Capacité : 3 349 places]</td>\n",
       "      <td>[Le site du Trocadéro sera desservi par la sta...</td>\n",
       "    </tr>\n",
       "    <tr>\n",
       "      <th>6</th>\n",
       "      <td>concorde</td>\n",
       "      <td>Des tribunes de 35 000 places seront alors age...</td>\n",
       "      <td>[Le site de La Concorde sera desservi par les ...</td>\n",
       "    </tr>\n",
       "    <tr>\n",
       "      <th>7</th>\n",
       "      <td>stade-roland-garros</td>\n",
       "      <td>[Capacité court Philippe-Chatrier : 14 962 pla...</td>\n",
       "      <td>[Le Stade Roland Garros sera desservi par les ...</td>\n",
       "    </tr>\n",
       "    <tr>\n",
       "      <th>8</th>\n",
       "      <td>arena-paris-sud</td>\n",
       "      <td>9 000 (maximum)</td>\n",
       "      <td>[L’Arena Paris Sud sera desservie par les stat...</td>\n",
       "    </tr>\n",
       "    <tr>\n",
       "      <th>9</th>\n",
       "      <td>arena-bercy</td>\n",
       "      <td>[Capacité : 15 000 spectateurs.]</td>\n",
       "      <td>[L’Arena Bercy sera desservie par la station «...</td>\n",
       "    </tr>\n",
       "    <tr>\n",
       "      <th>10</th>\n",
       "      <td>arena-la-chapelle</td>\n",
       "      <td>[Capacité : pour les épreuves de badminton et ...</td>\n",
       "      <td>[L’Arena Porte de la Chapelle sera desservie p...</td>\n",
       "    </tr>\n",
       "    <tr>\n",
       "      <th>11</th>\n",
       "      <td>paris-la-defense-arena</td>\n",
       "      <td>[Capacité : 17 000 places]</td>\n",
       "      <td>[La Paris La Défense Arena à Nanterre sera des...</td>\n",
       "    </tr>\n",
       "    <tr>\n",
       "      <th>12</th>\n",
       "      <td>centre-aquatique</td>\n",
       "      <td>[Capacité : 5 000 places]</td>\n",
       "      <td>[Le Centre Aquatique sera desservi par la gare...</td>\n",
       "    </tr>\n",
       "    <tr>\n",
       "      <th>13</th>\n",
       "      <td>stade-de-france</td>\n",
       "      <td>[Capacité : 77 083 spectateurs.]</td>\n",
       "      <td>[Le Stade de France sera desservi par les gare...</td>\n",
       "    </tr>\n",
       "    <tr>\n",
       "      <th>14</th>\n",
       "      <td>site-escalade-bourget</td>\n",
       "      <td>[Capacité : 6 000 places, 3 000 assises, 3 000...</td>\n",
       "      <td>[Le site d’escalade du Bourget sera desservi p...</td>\n",
       "    </tr>\n",
       "    <tr>\n",
       "      <th>15</th>\n",
       "      <td>arena-paris-nord</td>\n",
       "      <td>[Capacité : 6 000 spectateurs.]</td>\n",
       "      <td>[L’Arena Paris Nord sera desservie par la gare...</td>\n",
       "    </tr>\n",
       "  </tbody>\n",
       "</table>\n",
       "</div>"
      ],
      "text/plain": [
       "                      Lieu                                           Capacité  \\\n",
       "0        stade-tour-eiffel                    [Capacité : 12 860 spectateurs]   \n",
       "1      arena-champ-de-mars                          [Capacité : 8 356 places]   \n",
       "2             grand-palais  [Capacité : 8 000 personnes pendant les Jeux O...   \n",
       "3                invalides                          [Capacité : 8 000 places]   \n",
       "4       pont-alexandre-iii                       [Capacité : 1 000 personnes]   \n",
       "5                trocadero                          [Capacité : 3 349 places]   \n",
       "6                 concorde  Des tribunes de 35 000 places seront alors age...   \n",
       "7      stade-roland-garros  [Capacité court Philippe-Chatrier : 14 962 pla...   \n",
       "8          arena-paris-sud                                    9 000 (maximum)   \n",
       "9              arena-bercy                   [Capacité : 15 000 spectateurs.]   \n",
       "10       arena-la-chapelle  [Capacité : pour les épreuves de badminton et ...   \n",
       "11  paris-la-defense-arena                         [Capacité : 17 000 places]   \n",
       "12        centre-aquatique                          [Capacité : 5 000 places]   \n",
       "13         stade-de-france                   [Capacité : 77 083 spectateurs.]   \n",
       "14   site-escalade-bourget  [Capacité : 6 000 places, 3 000 assises, 3 000...   \n",
       "15        arena-paris-nord                    [Capacité : 6 000 spectateurs.]   \n",
       "\n",
       "                                             Stations  \n",
       "0   [Le Stade Tour Eiffel sera desservi par les ga...  \n",
       "1   [L’Arena Champ de Mars sera desservie par la g...  \n",
       "2   [Le Grand Palais sera desservi par la station ...  \n",
       "3   [Le site des Invalides sera desservi par la ga...  \n",
       "4   [Le site du Pont Alexandre III sera desservi p...  \n",
       "5   [Le site du Trocadéro sera desservi par la sta...  \n",
       "6   [Le site de La Concorde sera desservi par les ...  \n",
       "7   [Le Stade Roland Garros sera desservi par les ...  \n",
       "8   [L’Arena Paris Sud sera desservie par les stat...  \n",
       "9   [L’Arena Bercy sera desservie par la station «...  \n",
       "10  [L’Arena Porte de la Chapelle sera desservie p...  \n",
       "11  [La Paris La Défense Arena à Nanterre sera des...  \n",
       "12  [Le Centre Aquatique sera desservi par la gare...  \n",
       "13  [Le Stade de France sera desservi par les gare...  \n",
       "14  [Le site d’escalade du Bourget sera desservi p...  \n",
       "15  [L’Arena Paris Nord sera desservie par la gare...  "
      ]
     },
     "metadata": {},
     "output_type": "display_data"
    }
   ],
   "source": [
    "#Compléter pour les valeurs manquantes : arena-paris-sud\n",
    "url = \"https://fr.wikipedia.org/wiki/Arena_Porte_de_la_Chapelle\"\n",
    "\n",
    "# Obtenir le contenu de la page\n",
    "response = requests.get(url)\n",
    "\n",
    "if response.status_code == 200:\n",
    "    # Analyser le contenu HTML avec BeautifulSoup\n",
    "    soup = BeautifulSoup(response.content, \"html.parser\")\n",
    "\n",
    "    # Trouver le texte de la ligne commençant par \"Capacité\"\n",
    "    capacity_text = soup.find(\"th\", text=\"Capacité\").find_next(\"td\").get_text(strip=True)\n",
    "\n",
    "    # Mettre à jour la case correspondante dans le DataFrame df\n",
    "    df.iloc[8, 1] = capacity_text  # Ligne 8, colonne 2, indexées à partir de 0\n",
    "\n",
    "else:\n",
    "    print(\"La requête a échoué\")\n",
    "\n",
    "display(df)"
   ]
  },
  {
   "cell_type": "code",
   "execution_count": 32,
   "metadata": {},
   "outputs": [
    {
     "data": {
      "text/html": [
       "<div>\n",
       "<style scoped>\n",
       "    .dataframe tbody tr th:only-of-type {\n",
       "        vertical-align: middle;\n",
       "    }\n",
       "\n",
       "    .dataframe tbody tr th {\n",
       "        vertical-align: top;\n",
       "    }\n",
       "\n",
       "    .dataframe thead th {\n",
       "        text-align: right;\n",
       "    }\n",
       "</style>\n",
       "<table border=\"1\" class=\"dataframe\">\n",
       "  <thead>\n",
       "    <tr style=\"text-align: right;\">\n",
       "      <th></th>\n",
       "      <th>Lieu</th>\n",
       "      <th>Capacité</th>\n",
       "      <th>Stations</th>\n",
       "      <th>Nombre de personnes à l'événément</th>\n",
       "    </tr>\n",
       "  </thead>\n",
       "  <tbody>\n",
       "    <tr>\n",
       "      <th>0</th>\n",
       "      <td>stade-tour-eiffel</td>\n",
       "      <td>[Capacité : 12 860 spectateurs]</td>\n",
       "      <td>[Le Stade Tour Eiffel sera desservi par les ga...</td>\n",
       "      <td>12860</td>\n",
       "    </tr>\n",
       "    <tr>\n",
       "      <th>1</th>\n",
       "      <td>arena-champ-de-mars</td>\n",
       "      <td>[Capacité : 8 356 places]</td>\n",
       "      <td>[L’Arena Champ de Mars sera desservie par la g...</td>\n",
       "      <td>8356</td>\n",
       "    </tr>\n",
       "    <tr>\n",
       "      <th>2</th>\n",
       "      <td>grand-palais</td>\n",
       "      <td>[Capacité : 8 000 personnes pendant les Jeux O...</td>\n",
       "      <td>[Le Grand Palais sera desservi par la station ...</td>\n",
       "      <td>8000</td>\n",
       "    </tr>\n",
       "    <tr>\n",
       "      <th>3</th>\n",
       "      <td>invalides</td>\n",
       "      <td>[Capacité : 8 000 places]</td>\n",
       "      <td>[Le site des Invalides sera desservi par la ga...</td>\n",
       "      <td>8000</td>\n",
       "    </tr>\n",
       "    <tr>\n",
       "      <th>4</th>\n",
       "      <td>pont-alexandre-iii</td>\n",
       "      <td>[Capacité : 1 000 personnes]</td>\n",
       "      <td>[Le site du Pont Alexandre III sera desservi p...</td>\n",
       "      <td>1000</td>\n",
       "    </tr>\n",
       "    <tr>\n",
       "      <th>5</th>\n",
       "      <td>trocadero</td>\n",
       "      <td>[Capacité : 3 349 places]</td>\n",
       "      <td>[Le site du Trocadéro sera desservi par la sta...</td>\n",
       "      <td>3349</td>\n",
       "    </tr>\n",
       "    <tr>\n",
       "      <th>6</th>\n",
       "      <td>concorde</td>\n",
       "      <td>Des tribunes de 35 000 places seront alors age...</td>\n",
       "      <td>[Le site de La Concorde sera desservi par les ...</td>\n",
       "      <td>35000</td>\n",
       "    </tr>\n",
       "    <tr>\n",
       "      <th>7</th>\n",
       "      <td>stade-roland-garros</td>\n",
       "      <td>[Capacité court Philippe-Chatrier : 14 962 pla...</td>\n",
       "      <td>[Le Stade Roland Garros sera desservi par les ...</td>\n",
       "      <td>14962</td>\n",
       "    </tr>\n",
       "    <tr>\n",
       "      <th>8</th>\n",
       "      <td>arena-paris-sud</td>\n",
       "      <td>9 000 (maximum)</td>\n",
       "      <td>[L’Arena Paris Sud sera desservie par les stat...</td>\n",
       "      <td>9000</td>\n",
       "    </tr>\n",
       "    <tr>\n",
       "      <th>9</th>\n",
       "      <td>arena-bercy</td>\n",
       "      <td>[Capacité : 15 000 spectateurs.]</td>\n",
       "      <td>[L’Arena Bercy sera desservie par la station «...</td>\n",
       "      <td>15000</td>\n",
       "    </tr>\n",
       "    <tr>\n",
       "      <th>10</th>\n",
       "      <td>arena-la-chapelle</td>\n",
       "      <td>[Capacité : pour les épreuves de badminton et ...</td>\n",
       "      <td>[L’Arena Porte de la Chapelle sera desservie p...</td>\n",
       "      <td>6700</td>\n",
       "    </tr>\n",
       "    <tr>\n",
       "      <th>11</th>\n",
       "      <td>paris-la-defense-arena</td>\n",
       "      <td>[Capacité : 17 000 places]</td>\n",
       "      <td>[La Paris La Défense Arena à Nanterre sera des...</td>\n",
       "      <td>17000</td>\n",
       "    </tr>\n",
       "    <tr>\n",
       "      <th>12</th>\n",
       "      <td>centre-aquatique</td>\n",
       "      <td>[Capacité : 5 000 places]</td>\n",
       "      <td>[Le Centre Aquatique sera desservi par la gare...</td>\n",
       "      <td>5000</td>\n",
       "    </tr>\n",
       "    <tr>\n",
       "      <th>13</th>\n",
       "      <td>stade-de-france</td>\n",
       "      <td>[Capacité : 77 083 spectateurs.]</td>\n",
       "      <td>[Le Stade de France sera desservi par les gare...</td>\n",
       "      <td>77083</td>\n",
       "    </tr>\n",
       "    <tr>\n",
       "      <th>14</th>\n",
       "      <td>site-escalade-bourget</td>\n",
       "      <td>[Capacité : 6 000 places, 3 000 assises, 3 000...</td>\n",
       "      <td>[Le site d’escalade du Bourget sera desservi p...</td>\n",
       "      <td>6000</td>\n",
       "    </tr>\n",
       "    <tr>\n",
       "      <th>15</th>\n",
       "      <td>arena-paris-nord</td>\n",
       "      <td>[Capacité : 6 000 spectateurs.]</td>\n",
       "      <td>[L’Arena Paris Nord sera desservie par la gare...</td>\n",
       "      <td>6000</td>\n",
       "    </tr>\n",
       "  </tbody>\n",
       "</table>\n",
       "</div>"
      ],
      "text/plain": [
       "                      Lieu                                           Capacité  \\\n",
       "0        stade-tour-eiffel                    [Capacité : 12 860 spectateurs]   \n",
       "1      arena-champ-de-mars                          [Capacité : 8 356 places]   \n",
       "2             grand-palais  [Capacité : 8 000 personnes pendant les Jeux O...   \n",
       "3                invalides                          [Capacité : 8 000 places]   \n",
       "4       pont-alexandre-iii                       [Capacité : 1 000 personnes]   \n",
       "5                trocadero                          [Capacité : 3 349 places]   \n",
       "6                 concorde  Des tribunes de 35 000 places seront alors age...   \n",
       "7      stade-roland-garros  [Capacité court Philippe-Chatrier : 14 962 pla...   \n",
       "8          arena-paris-sud                                    9 000 (maximum)   \n",
       "9              arena-bercy                   [Capacité : 15 000 spectateurs.]   \n",
       "10       arena-la-chapelle  [Capacité : pour les épreuves de badminton et ...   \n",
       "11  paris-la-defense-arena                         [Capacité : 17 000 places]   \n",
       "12        centre-aquatique                          [Capacité : 5 000 places]   \n",
       "13         stade-de-france                   [Capacité : 77 083 spectateurs.]   \n",
       "14   site-escalade-bourget  [Capacité : 6 000 places, 3 000 assises, 3 000...   \n",
       "15        arena-paris-nord                    [Capacité : 6 000 spectateurs.]   \n",
       "\n",
       "                                             Stations  \\\n",
       "0   [Le Stade Tour Eiffel sera desservi par les ga...   \n",
       "1   [L’Arena Champ de Mars sera desservie par la g...   \n",
       "2   [Le Grand Palais sera desservi par la station ...   \n",
       "3   [Le site des Invalides sera desservi par la ga...   \n",
       "4   [Le site du Pont Alexandre III sera desservi p...   \n",
       "5   [Le site du Trocadéro sera desservi par la sta...   \n",
       "6   [Le site de La Concorde sera desservi par les ...   \n",
       "7   [Le Stade Roland Garros sera desservi par les ...   \n",
       "8   [L’Arena Paris Sud sera desservie par les stat...   \n",
       "9   [L’Arena Bercy sera desservie par la station «...   \n",
       "10  [L’Arena Porte de la Chapelle sera desservie p...   \n",
       "11  [La Paris La Défense Arena à Nanterre sera des...   \n",
       "12  [Le Centre Aquatique sera desservi par la gare...   \n",
       "13  [Le Stade de France sera desservi par les gare...   \n",
       "14  [Le site d’escalade du Bourget sera desservi p...   \n",
       "15  [L’Arena Paris Nord sera desservie par la gare...   \n",
       "\n",
       "   Nombre de personnes à l'événément  \n",
       "0                              12860  \n",
       "1                               8356  \n",
       "2                               8000  \n",
       "3                               8000  \n",
       "4                               1000  \n",
       "5                               3349  \n",
       "6                              35000  \n",
       "7                              14962  \n",
       "8                               9000  \n",
       "9                              15000  \n",
       "10                              6700  \n",
       "11                             17000  \n",
       "12                              5000  \n",
       "13                             77083  \n",
       "14                              6000  \n",
       "15                              6000  "
      ]
     },
     "metadata": {},
     "output_type": "display_data"
    }
   ],
   "source": [
    "def extraire_nombres(texte):\n",
    "    nombres = re.findall(r'[-+]?\\d*\\.\\d+|\\d+', str(texte))  # Expression régulière pour les nombres entiers ou décimaux\n",
    "    return ' '.join(nombres)  # Retourne les nombres extraits sous forme d'une chaîne séparée par des espaces\n",
    "\n",
    "# Appliquer la fonction sur la colonne 'Capacité'\n",
    "df['Nombre de personnes à l\\'événément'] = df['Capacité'].apply(extraire_nombres)\n",
    "\n",
    "# Supposons que 'df' est votre DataFrame contenant la colonne 'Nombres'\n",
    "\n",
    "# Remplacer \"202\" par une chaîne vide dans la colonne 'Nombre de personnes à l\\'événément'\n",
    "df['Nombre de personnes à l\\'événément'] = df['Nombre de personnes à l\\'événément'].str.replace('202', '')\n",
    "\n",
    "# Supprimer les espaces dans la colonne 'NNombre de personnes à l\\'événément'\n",
    "df['Nombre de personnes à l\\'événément'] = df['Nombre de personnes à l\\'événément'].str.replace(' ', '')\n",
    "\n",
    "# Supposons que 'df' est votre DataFrame contenant la colonne 'Nombres'\n",
    "\n",
    "# Remplacer les valeurs dans la colonne 'Nombres' aux lignes spécifiques\n",
    "df.loc[2, 'Nombre de personnes à l\\'événément'] = '8000'  # Remplacer la deuxième ligne par '8000'\n",
    "df.loc[10, 'Nombre de personnes à l\\'événément'] = '6700'  # Remplacer la 10ème ligne par '6700'\n",
    "df.loc[14, 'Nombre de personnes à l\\'événément'] = '6000'  # Remplacer la 14ème ligne par '6000'\n",
    "\n",
    "# Fonction pour supprimer le zéro en tête des nombres\n",
    "def remove_leading_zero(number):\n",
    "    if number.startswith('0'):\n",
    "        return number[1:]\n",
    "    return number\n",
    "\n",
    "# Appliquer la fonction à la colonne 'Nombres' pour supprimer les zéros en tête\n",
    "df['Nombre de personnes à l\\'événément'] = df['Nombre de personnes à l\\'événément'].astype(str).apply(remove_leading_zero)\n",
    "\n",
    "display(df)"
   ]
  },
  {
   "cell_type": "markdown",
   "metadata": {},
   "source": [
    "Lire chaque ligne de la colonne 'Stations'"
   ]
  },
  {
   "cell_type": "code",
   "execution_count": 33,
   "metadata": {},
   "outputs": [
    {
     "name": "stdout",
     "output_type": "stream",
     "text": [
      "['Le Stade Tour Eiffel sera desservi par les gares «\\xa0Champ de Mars Tour Eiffel\\xa0» et «\\xa0Pont de l’Alma\\xa0» (RER C), par la station «\\xa0Bir Hakeim\\xa0» (Métro 6), et par la station «\\xa0Alma Marceau\\xa0» (Métro 9)']\n",
      "['L’Arena Champ de Mars sera desservie par la gare «\\xa0Champ de Mars Tour Eiffel\\xa0» (RER C), la station «\\xa0La Motte Piquet Grenelle\\xa0» (Métro 6, Métro 8), et la station «\\xa0Ségur\\xa0» (Métro 10)']\n",
      "['Le Grand Palais sera desservi par la station «\\xa0Franklin D']\n",
      "['Le site des Invalides sera desservi par la gare «\\xa0Invalides\\xa0» (RER C, Métro 8, Métro 13)']\n",
      "['Le site du Pont Alexandre III sera desservi par la gare «\\xa0Invalides\\xa0» (RER C, Métro 8, Métro 13)']\n",
      "['Le site du Trocadéro sera desservi par la station «\\xa0Iéna\\xa0» (Métro 9), la station Trocadéro (Métro 6 et 9) et la gare «\\xa0Pont de l’Alma\\xa0» (RER C)']\n",
      "['Le site de La Concorde sera desservi par les stations «\\xa0Palais Royal – Musée du Louvre\\xa0» (Métro 1, Métro 7), «\\xa0Madeleine\\xa0» (Métro 8, Métro 12, Métro 14), «\\xa0Opéra\\xa0» (Métro 3), «\\xa0Auber\\xa0» (RER A), et «\\xa0Musée d’Orsay\\xa0» (RER C)']\n",
      "['Le Stade Roland Garros sera desservi par les stations «\\xa0Porte de Saint-Cloud\\xa0» (Métro 9), et «\\xa0Porte d’Auteuil\\xa0» (Métro 10)']\n",
      "['L’Arena Paris Sud sera desservie par les stations «\\xa0Porte de Versailles\\xa0» (Métro 12), «\\xa0Balard\\xa0» (Métro 8), «\\xa0Porte de Vanves\\xa0» (Métro 13), et «\\xa0Georges Brassens\\xa0» (Tramway T3a)']\n",
      "['L’Arena Bercy sera desservie par la station «\\xa0Bercy\\xa0» (Métro 6, Métro 14), et par le pôle «\\xa0Gare de Lyon\\xa0» (RER A, RER D, Train R, Métro 1)']\n",
      "['L’Arena Porte de la Chapelle sera desservie par la station «\\xa0Porte de la Chapelle\\xa0» (Métro 12, Tramway T3b)']\n",
      "['La Paris La Défense Arena à Nanterre sera desservie par la gare «\\xa0La Défense – Grande Arche\\xa0» (RER A, Train L, Train U, Métro 1, Tramway T2), et par la gare «\\xa0Nanterre Préfecture\\xa0» (RER A)']\n",
      "['Le Centre Aquatique sera desservi par la gare «\\xa0Stade de France Saint-Denis\\xa0» (RER D), et par la future station «\\xa0Pleyel\\xa0» (Métro 14)']\n",
      "['Le Stade de France sera desservi par les gares «\\xa0Stade de France Saint-Denis\\xa0» (RER D), «\\xa0La Plaine Stade de France\\xa0» (RER B), et «\\xa0Saint-Denis Porte de Paris\\xa0» (Métro 13)']\n",
      "['Le site d’escalade du Bourget sera desservi par la gare «\\xa0Le Bourget\\xa0» (RER B et Tramway T11)']\n",
      "['L’Arena Paris Nord sera desservie par la gare «\\xa0Parc des expositions\\xa0» (RER B)']\n"
     ]
    }
   ],
   "source": [
    "for index, station in df['Stations'].items():\n",
    "    print(station)"
   ]
  },
  {
   "cell_type": "markdown",
   "metadata": {},
   "source": [
    "Réécriture à la main des arrêts à partir du texte du dessus et remplacement par des x les endroits inacessibles par métro "
   ]
  },
  {
   "cell_type": "code",
   "execution_count": 34,
   "metadata": {},
   "outputs": [],
   "source": [
    "arrêts=[['BIR HAKEIM', 'ALMA MARCEAU'],\n",
    "        ['LA MOTTE-PICQUET-GRENELLE', 'LA MOTTE-PICQUET-GRENELLE', 'SEGUR'], \n",
    "        ['FRANKLIN D. ROOSEVELT', 'FRANKLIN D. ROOSEVELT'], \n",
    "        ['INVALIDES'], \n",
    "        ['INVALIDES'],\n",
    "        ['IENA','TROCADERO'], \n",
    "        ['PALAIS-ROYAL','PALAIS-ROYAL','MADELEINE', 'MADELEINE', 'MADELEINE', 'OPERA'],\n",
    "        ['PORTE DE SAINT-CLOUD','PORTE D\\'AUTEUIL'], \n",
    "        ['PORTE DE VERSAILLES','BALARD','PORTE DE VANVES'], \n",
    "        ['BERCY','BERCY','GARE DE LYON'],\n",
    "        ['PORTE DE LA CHAPELLE'],\n",
    "        ['LA DEFENSE'],\n",
    "        ['x'],\n",
    "        ['SAINT-DENIS-PORTE DE PARIS'], \n",
    "        ['x'],\n",
    "        ['x']]\n",
    " \n",
    "df['Arrêts']=arrêts"
   ]
  },
  {
   "cell_type": "markdown",
   "metadata": {},
   "source": [
    "Extraiction des numéros de ligne pour chaque lieu de compétition et remplissage à la main pour Frankin D (pas d'info sur le site)"
   ]
  },
  {
   "cell_type": "code",
   "execution_count": 35,
   "metadata": {},
   "outputs": [],
   "source": [
    "# Fonction pour extraire les nombres après le mot \"Métro\"\n",
    "def extract_numbers(text):\n",
    "    matches = re.findall(r'Métro\\s+(\\d+)', str(text), flags=re.IGNORECASE)\n",
    "    return matches\n",
    "\n",
    "# Appliquer la fonction à la colonne 'Stations' pour créer une nouvelle colonne 'Nombres après Métro'\n",
    "df['Lignes'] = df['Stations'].apply(extract_numbers)\n",
    "\n",
    "# Compléter pour Franklin D\n",
    "df.at[2, 'Lignes'] = [6, 9]"
   ]
  },
  {
   "cell_type": "markdown",
   "metadata": {},
   "source": [
    "Mise au propre du tableau et mise en avant de certaines données utiles "
   ]
  },
  {
   "cell_type": "code",
   "execution_count": 36,
   "metadata": {},
   "outputs": [],
   "source": [
    "# Supprimer les colonnes 'Capacité' et 'Stations'\n",
    "colonnes_a_supprimer = ['Capacité', 'Stations']\n",
    "df = df.drop(colonnes_a_supprimer, axis=1)\n",
    "\n",
    "# Calculer le nombre d'éléments dans chaque vecteur de la ligne 'Lignes'\n",
    "df['Nombre de lignes'] = df['Lignes'].apply(lambda x: len(x) if isinstance(x, list) else None)\n",
    "\n",
    "# Convertir la colonne 'Nombre de personnes à l\\'événément' en type numérique (int ou float)\n",
    "df['Nombre de personnes à l\\'événément'] = pd.to_numeric(df['Nombre de personnes à l\\'événément'], errors='coerce')\n",
    "\n",
    "# Créer la nouvelle colonne en calculant la division\n",
    "df['Nombre de personnes par ligne'] = df['Nombre de personnes à l\\'événément'] / df['Nombre de lignes']\n",
    "\n",
    "# Définir l'option d'affichage pour éviter la notation scientifique\n",
    "pd.set_option('display.float_format', lambda x: '%.2f' % x)\n",
    "\n",
    "nombre_personnes = df.pop('Nombre de personnes par ligne')\n",
    "df.insert(2, 'Nombre de personnes par ligne', nombre_personnes)"
   ]
  },
  {
   "cell_type": "markdown",
   "metadata": {},
   "source": [
    "Suppression des lieux qui ne sont pas accessibles par métro"
   ]
  },
  {
   "cell_type": "code",
   "execution_count": 37,
   "metadata": {},
   "outputs": [
    {
     "data": {
      "text/html": [
       "<div>\n",
       "<style scoped>\n",
       "    .dataframe tbody tr th:only-of-type {\n",
       "        vertical-align: middle;\n",
       "    }\n",
       "\n",
       "    .dataframe tbody tr th {\n",
       "        vertical-align: top;\n",
       "    }\n",
       "\n",
       "    .dataframe thead th {\n",
       "        text-align: right;\n",
       "    }\n",
       "</style>\n",
       "<table border=\"1\" class=\"dataframe\">\n",
       "  <thead>\n",
       "    <tr style=\"text-align: right;\">\n",
       "      <th></th>\n",
       "      <th>Lieu</th>\n",
       "      <th>Nombre de personnes à l'événément</th>\n",
       "      <th>Nombre de personnes par ligne</th>\n",
       "      <th>Arrêts</th>\n",
       "      <th>Lignes</th>\n",
       "      <th>Nombre de lignes</th>\n",
       "    </tr>\n",
       "  </thead>\n",
       "  <tbody>\n",
       "    <tr>\n",
       "      <th>0</th>\n",
       "      <td>stade-tour-eiffel</td>\n",
       "      <td>12860</td>\n",
       "      <td>6430.00</td>\n",
       "      <td>[BIR HAKEIM, ALMA MARCEAU]</td>\n",
       "      <td>[6, 9]</td>\n",
       "      <td>2</td>\n",
       "    </tr>\n",
       "    <tr>\n",
       "      <th>1</th>\n",
       "      <td>arena-champ-de-mars</td>\n",
       "      <td>8356</td>\n",
       "      <td>2785.33</td>\n",
       "      <td>[LA MOTTE-PICQUET-GRENELLE, LA MOTTE-PICQUET-G...</td>\n",
       "      <td>[6, 8, 10]</td>\n",
       "      <td>3</td>\n",
       "    </tr>\n",
       "    <tr>\n",
       "      <th>2</th>\n",
       "      <td>grand-palais</td>\n",
       "      <td>8000</td>\n",
       "      <td>4000.00</td>\n",
       "      <td>[FRANKLIN D. ROOSEVELT, FRANKLIN D. ROOSEVELT]</td>\n",
       "      <td>[6, 9]</td>\n",
       "      <td>2</td>\n",
       "    </tr>\n",
       "    <tr>\n",
       "      <th>3</th>\n",
       "      <td>invalides</td>\n",
       "      <td>8000</td>\n",
       "      <td>4000.00</td>\n",
       "      <td>[INVALIDES]</td>\n",
       "      <td>[8, 13]</td>\n",
       "      <td>2</td>\n",
       "    </tr>\n",
       "    <tr>\n",
       "      <th>4</th>\n",
       "      <td>pont-alexandre-iii</td>\n",
       "      <td>1000</td>\n",
       "      <td>500.00</td>\n",
       "      <td>[INVALIDES]</td>\n",
       "      <td>[8, 13]</td>\n",
       "      <td>2</td>\n",
       "    </tr>\n",
       "    <tr>\n",
       "      <th>5</th>\n",
       "      <td>trocadero</td>\n",
       "      <td>3349</td>\n",
       "      <td>1674.50</td>\n",
       "      <td>[IENA, TROCADERO]</td>\n",
       "      <td>[9, 6]</td>\n",
       "      <td>2</td>\n",
       "    </tr>\n",
       "    <tr>\n",
       "      <th>6</th>\n",
       "      <td>concorde</td>\n",
       "      <td>35000</td>\n",
       "      <td>5833.33</td>\n",
       "      <td>[PALAIS-ROYAL, PALAIS-ROYAL, MADELEINE, MADELE...</td>\n",
       "      <td>[1, 7, 8, 12, 14, 3]</td>\n",
       "      <td>6</td>\n",
       "    </tr>\n",
       "    <tr>\n",
       "      <th>7</th>\n",
       "      <td>stade-roland-garros</td>\n",
       "      <td>14962</td>\n",
       "      <td>7481.00</td>\n",
       "      <td>[PORTE DE SAINT-CLOUD, PORTE D'AUTEUIL]</td>\n",
       "      <td>[9, 10]</td>\n",
       "      <td>2</td>\n",
       "    </tr>\n",
       "    <tr>\n",
       "      <th>8</th>\n",
       "      <td>arena-paris-sud</td>\n",
       "      <td>9000</td>\n",
       "      <td>3000.00</td>\n",
       "      <td>[PORTE DE VERSAILLES, BALARD, PORTE DE VANVES]</td>\n",
       "      <td>[12, 8, 13]</td>\n",
       "      <td>3</td>\n",
       "    </tr>\n",
       "    <tr>\n",
       "      <th>9</th>\n",
       "      <td>arena-bercy</td>\n",
       "      <td>15000</td>\n",
       "      <td>5000.00</td>\n",
       "      <td>[BERCY, BERCY, GARE DE LYON]</td>\n",
       "      <td>[6, 14, 1]</td>\n",
       "      <td>3</td>\n",
       "    </tr>\n",
       "    <tr>\n",
       "      <th>10</th>\n",
       "      <td>arena-la-chapelle</td>\n",
       "      <td>6700</td>\n",
       "      <td>6700.00</td>\n",
       "      <td>[PORTE DE LA CHAPELLE]</td>\n",
       "      <td>[12]</td>\n",
       "      <td>1</td>\n",
       "    </tr>\n",
       "    <tr>\n",
       "      <th>11</th>\n",
       "      <td>paris-la-defense-arena</td>\n",
       "      <td>17000</td>\n",
       "      <td>17000.00</td>\n",
       "      <td>[LA DEFENSE]</td>\n",
       "      <td>[1]</td>\n",
       "      <td>1</td>\n",
       "    </tr>\n",
       "    <tr>\n",
       "      <th>13</th>\n",
       "      <td>stade-de-france</td>\n",
       "      <td>77083</td>\n",
       "      <td>77083.00</td>\n",
       "      <td>[SAINT-DENIS-PORTE DE PARIS]</td>\n",
       "      <td>[13]</td>\n",
       "      <td>1</td>\n",
       "    </tr>\n",
       "  </tbody>\n",
       "</table>\n",
       "</div>"
      ],
      "text/plain": [
       "                      Lieu  Nombre de personnes à l'événément  \\\n",
       "0        stade-tour-eiffel                              12860   \n",
       "1      arena-champ-de-mars                               8356   \n",
       "2             grand-palais                               8000   \n",
       "3                invalides                               8000   \n",
       "4       pont-alexandre-iii                               1000   \n",
       "5                trocadero                               3349   \n",
       "6                 concorde                              35000   \n",
       "7      stade-roland-garros                              14962   \n",
       "8          arena-paris-sud                               9000   \n",
       "9              arena-bercy                              15000   \n",
       "10       arena-la-chapelle                               6700   \n",
       "11  paris-la-defense-arena                              17000   \n",
       "13         stade-de-france                              77083   \n",
       "\n",
       "    Nombre de personnes par ligne  \\\n",
       "0                         6430.00   \n",
       "1                         2785.33   \n",
       "2                         4000.00   \n",
       "3                         4000.00   \n",
       "4                          500.00   \n",
       "5                         1674.50   \n",
       "6                         5833.33   \n",
       "7                         7481.00   \n",
       "8                         3000.00   \n",
       "9                         5000.00   \n",
       "10                        6700.00   \n",
       "11                       17000.00   \n",
       "13                       77083.00   \n",
       "\n",
       "                                               Arrêts                Lignes  \\\n",
       "0                          [BIR HAKEIM, ALMA MARCEAU]                [6, 9]   \n",
       "1   [LA MOTTE-PICQUET-GRENELLE, LA MOTTE-PICQUET-G...            [6, 8, 10]   \n",
       "2      [FRANKLIN D. ROOSEVELT, FRANKLIN D. ROOSEVELT]                [6, 9]   \n",
       "3                                         [INVALIDES]               [8, 13]   \n",
       "4                                         [INVALIDES]               [8, 13]   \n",
       "5                                   [IENA, TROCADERO]                [9, 6]   \n",
       "6   [PALAIS-ROYAL, PALAIS-ROYAL, MADELEINE, MADELE...  [1, 7, 8, 12, 14, 3]   \n",
       "7             [PORTE DE SAINT-CLOUD, PORTE D'AUTEUIL]               [9, 10]   \n",
       "8      [PORTE DE VERSAILLES, BALARD, PORTE DE VANVES]           [12, 8, 13]   \n",
       "9                        [BERCY, BERCY, GARE DE LYON]            [6, 14, 1]   \n",
       "10                             [PORTE DE LA CHAPELLE]                  [12]   \n",
       "11                                       [LA DEFENSE]                   [1]   \n",
       "13                       [SAINT-DENIS-PORTE DE PARIS]                  [13]   \n",
       "\n",
       "    Nombre de lignes  \n",
       "0                  2  \n",
       "1                  3  \n",
       "2                  2  \n",
       "3                  2  \n",
       "4                  2  \n",
       "5                  2  \n",
       "6                  6  \n",
       "7                  2  \n",
       "8                  3  \n",
       "9                  3  \n",
       "10                 1  \n",
       "11                 1  \n",
       "13                 1  "
      ]
     },
     "metadata": {},
     "output_type": "display_data"
    }
   ],
   "source": [
    "# Identifier les indices des lignes contenant les valeurs spécifiques dans la colonne 'lieu'\n",
    "indices_a_supprimer = df[df['Lieu'].isin(['centre-aquatique', 'site-escalade-bourget', 'arena-paris-nord'])].index\n",
    "\n",
    "# Supprimer les lignes correspondantes\n",
    "df = df.drop(indices_a_supprimer)\n",
    "\n",
    "display(df)"
   ]
  },
  {
   "cell_type": "code",
   "execution_count": 38,
   "metadata": {},
   "outputs": [
    {
     "data": {
      "image/png": "[encoded data removed]",
      "text/plain": [
       "<Figure size 800x480 with 1 Axes>"
      ]
     },
     "metadata": {},
     "output_type": "display_data"
    }
   ],
   "source": [
    "import matplotlib.pyplot as plt\n",
    "\n",
    "# Diagramme à barres du nombre de personnes par lieu\n",
    "plt.figure(figsize=(10, 6))\n",
    "plt.bar(df['Lieu'], df['Nombre de personnes à l\\'événément'])\n",
    "plt.xticks(rotation=90)\n",
    "plt.xlabel('Lieu')\n",
    "plt.ylabel('Nombre de personnes à l\\'événément')\n",
    "plt.title('Nombre de personnes à l\\'événément par lieu')\n",
    "plt.tight_layout()\n",
    "plt.show()"
   ]
  },
  {
   "cell_type": "code",
   "execution_count": 51,
   "metadata": {},
   "outputs": [],
   "source": [
    "import pandas as pd\n",
    "\n",
    "# Votre DataFrame existant\n",
    "# Supposons que votre DataFrame s'appelle df et contient les informations que vous avez fournies précédemment.\n",
    "\n",
    "# Créer un DataFrame avec des lignes individuelles pour chaque élément de la liste\n",
    "df_exploded = df.explode('Lignes')\n",
    "\n",
    "# Conversion de la colonne 'Lignes' en type numérique si elle est de type string\n",
    "df_exploded['Lignes'] = pd.to_numeric(df_exploded['Lignes'])\n",
    "\n",
    "# Calcul des statistiques descriptives par numéro de ligne\n",
    "stats_par_ligne = df_exploded.groupby('Lignes').agg({\n",
    "    'Nombre de personnes à l\\'événément': ['mean', 'median', 'min', 'max', 'std'],\n",
    "    'Nombre de lignes': 'count'  # Compter le nombre de lieux par numéro de ligne\n",
    "})\n"
   ]
  },
  {
   "cell_type": "code",
   "execution_count": 50,
   "metadata": {},
   "outputs": [
    {
     "data": {
      "application/vnd.plotly.v1+json": {
       "config": {
        "plotlyServerURL": "https://plot.ly"
       },
       "data": [
        {
         "alignmentgroup": "True",
         "hovertemplate": "Lieu=%{x}<br>Nombre de personnes à l'événément=%{y}<extra></extra>",
         "legendgroup": "",
         "marker": {
          "color": "skyblue",
          "line": {
           "color": "black",
           "width": 1
          },
          "pattern": {
           "shape": ""
          }
         },
         "name": "",
         "offsetgroup": "",
         "opacity": 0.7,
         "orientation": "v",
         "showlegend": false,
         "textposition": "auto",
         "type": "bar",
         "x": [
          "stade-tour-eiffel",
          "arena-champ-de-mars",
          "grand-palais",
          "invalides",
          "pont-alexandre-iii",
          "trocadero",
          "concorde",
          "stade-roland-garros",
          "arena-paris-sud",
          "arena-bercy",
          "arena-la-chapelle",
          "paris-la-defense-arena",
          "stade-de-france"
         ],
         "xaxis": "x",
         "y": [
          12860,
          8356,
          8000,
          8000,
          1000,
          3349,
          35000,
          14962,
          9000,
          15000,
          6700,
          17000,
          77083
         ],
         "yaxis": "y"
        }
       ],
       "layout": {
        "barmode": "relative",
        "legend": {
         "tracegroupgap": 0
        },
        "plot_bgcolor": "whitesmoke",
        "template": {
         "data": {
          "bar": [
           {
            "error_x": {
             "color": "#2a3f5f"
            },
            "error_y": {
             "color": "#2a3f5f"
            },
            "marker": {
             "line": {
              "color": "#E5ECF6",
              "width": 0.5
             },
             "pattern": {
              "fillmode": "overlay",
              "size": 10,
              "solidity": 0.2
             }
            },
            "type": "bar"
           }
          ],
          "barpolar": [
           {
            "marker": {
             "line": {
              "color": "#E5ECF6",
              "width": 0.5
             },
             "pattern": {
              "fillmode": "overlay",
              "size": 10,
              "solidity": 0.2
             }
            },
            "type": "barpolar"
           }
          ],
          "carpet": [
           {
            "aaxis": {
             "endlinecolor": "#2a3f5f",
             "gridcolor": "white",
             "linecolor": "white",
             "minorgridcolor": "white",
             "startlinecolor": "#2a3f5f"
            },
            "baxis": {
             "endlinecolor": "#2a3f5f",
             "gridcolor": "white",
             "linecolor": "white",
             "minorgridcolor": "white",
             "startlinecolor": "#2a3f5f"
            },
            "type": "carpet"
           }
          ],
          "choropleth": [
           {
            "colorbar": {
             "outlinewidth": 0,
             "ticks": ""
            },
            "type": "choropleth"
           }
          ],
          "contour": [
           {
            "colorbar": {
             "outlinewidth": 0,
             "ticks": ""
            },
            "colorscale": [
             [
              0,
              "#0d0887"
             ],
             [
              0.1111111111111111,
              "#46039f"
             ],
             [
              0.2222222222222222,
              "#7201a8"
             ],
             [
              0.3333333333333333,
              "#9c179e"
             ],
             [
              0.4444444444444444,
              "#bd3786"
             ],
             [
              0.5555555555555556,
              "#d8576b"
             ],
             [
              0.6666666666666666,
              "#ed7953"
             ],
             [
              0.7777777777777778,
              "#fb9f3a"
             ],
             [
              0.8888888888888888,
              "#fdca26"
             ],
             [
              1,
              "#f0f921"
             ]
            ],
            "type": "contour"
           }
          ],
          "contourcarpet": [
           {
            "colorbar": {
             "outlinewidth": 0,
             "ticks": ""
            },
            "type": "contourcarpet"
           }
          ],
          "heatmap": [
           {
            "colorbar": {
             "outlinewidth": 0,
             "ticks": ""
            },
            "colorscale": [
             [
              0,
              "#0d0887"
             ],
             [
              0.1111111111111111,
              "#46039f"
             ],
             [
              0.2222222222222222,
              "#7201a8"
             ],
             [
              0.3333333333333333,
              "#9c179e"
             ],
             [
              0.4444444444444444,
              "#bd3786"
             ],
             [
              0.5555555555555556,
              "#d8576b"
             ],
             [
              0.6666666666666666,
              "#ed7953"
             ],
             [
              0.7777777777777778,
              "#fb9f3a"
             ],
             [
              0.8888888888888888,
              "#fdca26"
             ],
             [
              1,
              "#f0f921"
             ]
            ],
            "type": "heatmap"
           }
          ],
          "heatmapgl": [
           {
            "colorbar": {
             "outlinewidth": 0,
             "ticks": ""
            },
            "colorscale": [
             [
              0,
              "#0d0887"
             ],
             [
              0.1111111111111111,
              "#46039f"
             ],
             [
              0.2222222222222222,
              "#7201a8"
             ],
             [
              0.3333333333333333,
              "#9c179e"
             ],
             [
              0.4444444444444444,
              "#bd3786"
             ],
             [
              0.5555555555555556,
              "#d8576b"
             ],
             [
              0.6666666666666666,
              "#ed7953"
             ],
             [
              0.7777777777777778,
              "#fb9f3a"
             ],
             [
              0.8888888888888888,
              "#fdca26"
             ],
             [
              1,
              "#f0f921"
             ]
            ],
            "type": "heatmapgl"
           }
          ],
          "histogram": [
           {
            "marker": {
             "pattern": {
              "fillmode": "overlay",
              "size": 10,
              "solidity": 0.2
             }
            },
            "type": "histogram"
           }
          ],
          "histogram2d": [
           {
            "colorbar": {
             "outlinewidth": 0,
             "ticks": ""
            },
            "colorscale": [
             [
              0,
              "#0d0887"
             ],
             [
              0.1111111111111111,
              "#46039f"
             ],
             [
              0.2222222222222222,
              "#7201a8"
             ],
             [
              0.3333333333333333,
              "#9c179e"
             ],
             [
              0.4444444444444444,
              "#bd3786"
             ],
             [
              0.5555555555555556,
              "#d8576b"
             ],
             [
              0.6666666666666666,
              "#ed7953"
             ],
             [
              0.7777777777777778,
              "#fb9f3a"
             ],
             [
              0.8888888888888888,
              "#fdca26"
             ],
             [
              1,
              "#f0f921"
             ]
            ],
            "type": "histogram2d"
           }
          ],
          "histogram2dcontour": [
           {
            "colorbar": {
             "outlinewidth": 0,
             "ticks": ""
            },
            "colorscale": [
             [
              0,
              "#0d0887"
             ],
             [
              0.1111111111111111,
              "#46039f"
             ],
             [
              0.2222222222222222,
              "#7201a8"
             ],
             [
              0.3333333333333333,
              "#9c179e"
             ],
             [
              0.4444444444444444,
              "#bd3786"
             ],
             [
              0.5555555555555556,
              "#d8576b"
             ],
             [
              0.6666666666666666,
              "#ed7953"
             ],
             [
              0.7777777777777778,
              "#fb9f3a"
             ],
             [
              0.8888888888888888,
              "#fdca26"
             ],
             [
              1,
              "#f0f921"
             ]
            ],
            "type": "histogram2dcontour"
           }
          ],
          "mesh3d": [
           {
            "colorbar": {
             "outlinewidth": 0,
             "ticks": ""
            },
            "type": "mesh3d"
           }
          ],
          "parcoords": [
           {
            "line": {
             "colorbar": {
              "outlinewidth": 0,
              "ticks": ""
             }
            },
            "type": "parcoords"
           }
          ],
          "pie": [
           {
            "automargin": true,
            "type": "pie"
           }
          ],
          "scatter": [
           {
            "fillpattern": {
             "fillmode": "overlay",
             "size": 10,
             "solidity": 0.2
            },
            "type": "scatter"
           }
          ],
          "scatter3d": [
           {
            "line": {
             "colorbar": {
              "outlinewidth": 0,
              "ticks": ""
             }
            },
            "marker": {
             "colorbar": {
              "outlinewidth": 0,
              "ticks": ""
             }
            },
            "type": "scatter3d"
           }
          ],
          "scattercarpet": [
           {
            "marker": {
             "colorbar": {
              "outlinewidth": 0,
              "ticks": ""
             }
            },
            "type": "scattercarpet"
           }
          ],
          "scattergeo": [
           {
            "marker": {
             "colorbar": {
              "outlinewidth": 0,
              "ticks": ""
             }
            },
            "type": "scattergeo"
           }
          ],
          "scattergl": [
           {
            "marker": {
             "colorbar": {
              "outlinewidth": 0,
              "ticks": ""
             }
            },
            "type": "scattergl"
           }
          ],
          "scattermapbox": [
           {
            "marker": {
             "colorbar": {
              "outlinewidth": 0,
              "ticks": ""
             }
            },
            "type": "scattermapbox"
           }
          ],
          "scatterpolar": [
           {
            "marker": {
             "colorbar": {
              "outlinewidth": 0,
              "ticks": ""
             }
            },
            "type": "scatterpolar"
           }
          ],
          "scatterpolargl": [
           {
            "marker": {
             "colorbar": {
              "outlinewidth": 0,
              "ticks": ""
             }
            },
            "type": "scatterpolargl"
           }
          ],
          "scatterternary": [
           {
            "marker": {
             "colorbar": {
              "outlinewidth": 0,
              "ticks": ""
             }
            },
            "type": "scatterternary"
           }
          ],
          "surface": [
           {
            "colorbar": {
             "outlinewidth": 0,
             "ticks": ""
            },
            "colorscale": [
             [
              0,
              "#0d0887"
             ],
             [
              0.1111111111111111,
              "#46039f"
             ],
             [
              0.2222222222222222,
              "#7201a8"
             ],
             [
              0.3333333333333333,
              "#9c179e"
             ],
             [
              0.4444444444444444,
              "#bd3786"
             ],
             [
              0.5555555555555556,
              "#d8576b"
             ],
             [
              0.6666666666666666,
              "#ed7953"
             ],
             [
              0.7777777777777778,
              "#fb9f3a"
             ],
             [
              0.8888888888888888,
              "#fdca26"
             ],
             [
              1,
              "#f0f921"
             ]
            ],
            "type": "surface"
           }
          ],
          "table": [
           {
            "cells": {
             "fill": {
              "color": "#EBF0F8"
             },
             "line": {
              "color": "white"
             }
            },
            "header": {
             "fill": {
              "color": "#C8D4E3"
             },
             "line": {
              "color": "white"
             }
            },
            "type": "table"
           }
          ]
         },
         "layout": {
          "annotationdefaults": {
           "arrowcolor": "#2a3f5f",
           "arrowhead": 0,
           "arrowwidth": 1
          },
          "autotypenumbers": "strict",
          "coloraxis": {
           "colorbar": {
            "outlinewidth": 0,
            "ticks": ""
           }
          },
          "colorscale": {
           "diverging": [
            [
             0,
             "#8e0152"
            ],
            [
             0.1,
             "#c51b7d"
            ],
            [
             0.2,
             "#de77ae"
            ],
            [
             0.3,
             "#f1b6da"
            ],
            [
             0.4,
             "#fde0ef"
            ],
            [
             0.5,
             "#f7f7f7"
            ],
            [
             0.6,
             "#e6f5d0"
            ],
            [
             0.7,
             "#b8e186"
            ],
            [
             0.8,
             "#7fbc41"
            ],
            [
             0.9,
             "#4d9221"
            ],
            [
             1,
             "#276419"
            ]
           ],
           "sequential": [
            [
             0,
             "#0d0887"
            ],
            [
             0.1111111111111111,
             "#46039f"
            ],
            [
             0.2222222222222222,
             "#7201a8"
            ],
            [
             0.3333333333333333,
             "#9c179e"
            ],
            [
             0.4444444444444444,
             "#bd3786"
            ],
            [
             0.5555555555555556,
             "#d8576b"
            ],
            [
             0.6666666666666666,
             "#ed7953"
            ],
            [
             0.7777777777777778,
             "#fb9f3a"
            ],
            [
             0.8888888888888888,
             "#fdca26"
            ],
            [
             1,
             "#f0f921"
            ]
           ],
           "sequentialminus": [
            [
             0,
             "#0d0887"
            ],
            [
             0.1111111111111111,
             "#46039f"
            ],
            [
             0.2222222222222222,
             "#7201a8"
            ],
            [
             0.3333333333333333,
             "#9c179e"
            ],
            [
             0.4444444444444444,
             "#bd3786"
            ],
            [
             0.5555555555555556,
             "#d8576b"
            ],
            [
             0.6666666666666666,
             "#ed7953"
            ],
            [
             0.7777777777777778,
             "#fb9f3a"
            ],
            [
             0.8888888888888888,
             "#fdca26"
            ],
            [
             1,
             "#f0f921"
            ]
           ]
          },
          "colorway": [
           "#636efa",
           "#EF553B",
           "#00cc96",
           "#ab63fa",
           "#FFA15A",
           "#19d3f3",
           "#FF6692",
           "#B6E880",
           "#FF97FF",
           "#FECB52"
          ],
          "font": {
           "color": "#2a3f5f"
          },
          "geo": {
           "bgcolor": "white",
           "lakecolor": "white",
           "landcolor": "#E5ECF6",
           "showlakes": true,
           "showland": true,
           "subunitcolor": "white"
          },
          "hoverlabel": {
           "align": "left"
          },
          "hovermode": "closest",
          "mapbox": {
           "style": "light"
          },
          "paper_bgcolor": "white",
          "plot_bgcolor": "#E5ECF6",
          "polar": {
           "angularaxis": {
            "gridcolor": "white",
            "linecolor": "white",
            "ticks": ""
           },
           "bgcolor": "#E5ECF6",
           "radialaxis": {
            "gridcolor": "white",
            "linecolor": "white",
            "ticks": ""
           }
          },
          "scene": {
           "xaxis": {
            "backgroundcolor": "#E5ECF6",
            "gridcolor": "white",
            "gridwidth": 2,
            "linecolor": "white",
            "showbackground": true,
            "ticks": "",
            "zerolinecolor": "white"
           },
           "yaxis": {
            "backgroundcolor": "#E5ECF6",
            "gridcolor": "white",
            "gridwidth": 2,
            "linecolor": "white",
            "showbackground": true,
            "ticks": "",
            "zerolinecolor": "white"
           },
           "zaxis": {
            "backgroundcolor": "#E5ECF6",
            "gridcolor": "white",
            "gridwidth": 2,
            "linecolor": "white",
            "showbackground": true,
            "ticks": "",
            "zerolinecolor": "white"
           }
          },
          "shapedefaults": {
           "line": {
            "color": "#2a3f5f"
           }
          },
          "ternary": {
           "aaxis": {
            "gridcolor": "white",
            "linecolor": "white",
            "ticks": ""
           },
           "baxis": {
            "gridcolor": "white",
            "linecolor": "white",
            "ticks": ""
           },
           "bgcolor": "#E5ECF6",
           "caxis": {
            "gridcolor": "white",
            "linecolor": "white",
            "ticks": ""
           }
          },
          "title": {
           "x": 0.05
          },
          "xaxis": {
           "automargin": true,
           "gridcolor": "white",
           "linecolor": "white",
           "ticks": "",
           "title": {
            "standoff": 15
           },
           "zerolinecolor": "white",
           "zerolinewidth": 2
          },
          "yaxis": {
           "automargin": true,
           "gridcolor": "white",
           "linecolor": "white",
           "ticks": "",
           "title": {
            "standoff": 15
           },
           "zerolinecolor": "white",
           "zerolinewidth": 2
          }
         }
        },
        "title": {
         "font": {
          "color": "darkblue",
          "family": "Arial",
          "size": 20
         },
         "text": "Nombre de personnes à l'événément par lieu"
        },
        "xaxis": {
         "anchor": "y",
         "domain": [
          0,
          1
         ],
         "title": {
          "font": {
           "color": "black",
           "family": "Arial",
           "size": 14
          },
          "text": "Lieu"
         }
        },
        "yaxis": {
         "anchor": "x",
         "domain": [
          0,
          1
         ],
         "title": {
          "font": {
           "color": "black",
           "family": "Arial",
           "size": 14
          },
          "text": "Nombre de personnes à l'événément"
         }
        }
       }
      },
      "text/html": [
       "<div>                            <div id=\"f30b941e-5ab4-46f2-b36e-2fbf8a481f9c\" class=\"plotly-graph-div\" style=\"height:525px; width:100%;\"></div>            <script type=\"text/javascript\">                require([\"plotly\"], function(Plotly) {                    window.PLOTLYENV=window.PLOTLYENV || {};                                    if (document.getElementById(\"f30b941e-5ab4-46f2-b36e-2fbf8a481f9c\")) {                    Plotly.newPlot(                        \"f30b941e-5ab4-46f2-b36e-2fbf8a481f9c\",                        [{\"alignmentgroup\":\"True\",\"hovertemplate\":\"Lieu=%{x}\\u003cbr\\u003eNombre de personnes \\u00e0 l'\\u00e9v\\u00e9n\\u00e9ment=%{y}\\u003cextra\\u003e\\u003c\\u002fextra\\u003e\",\"legendgroup\":\"\",\"marker\":{\"color\":\"skyblue\",\"pattern\":{\"shape\":\"\"},\"line\":{\"color\":\"black\",\"width\":1}},\"name\":\"\",\"offsetgroup\":\"\",\"orientation\":\"v\",\"showlegend\":false,\"textposition\":\"auto\",\"x\":[\"stade-tour-eiffel\",\"arena-champ-de-mars\",\"grand-palais\",\"invalides\",\"pont-alexandre-iii\",\"trocadero\",\"concorde\",\"stade-roland-garros\",\"arena-paris-sud\",\"arena-bercy\",\"arena-la-chapelle\",\"paris-la-defense-arena\",\"stade-de-france\"],\"xaxis\":\"x\",\"y\":[12860,8356,8000,8000,1000,3349,35000,14962,9000,15000,6700,17000,77083],\"yaxis\":\"y\",\"type\":\"bar\",\"opacity\":0.7}],                        {\"template\":{\"data\":{\"histogram2dcontour\":[{\"type\":\"histogram2dcontour\",\"colorbar\":{\"outlinewidth\":0,\"ticks\":\"\"},\"colorscale\":[[0.0,\"#0d0887\"],[0.1111111111111111,\"#46039f\"],[0.2222222222222222,\"#7201a8\"],[0.3333333333333333,\"#9c179e\"],[0.4444444444444444,\"#bd3786\"],[0.5555555555555556,\"#d8576b\"],[0.6666666666666666,\"#ed7953\"],[0.7777777777777778,\"#fb9f3a\"],[0.8888888888888888,\"#fdca26\"],[1.0,\"#f0f921\"]]}],\"choropleth\":[{\"type\":\"choropleth\",\"colorbar\":{\"outlinewidth\":0,\"ticks\":\"\"}}],\"histogram2d\":[{\"type\":\"histogram2d\",\"colorbar\":{\"outlinewidth\":0,\"ticks\":\"\"},\"colorscale\":[[0.0,\"#0d0887\"],[0.1111111111111111,\"#46039f\"],[0.2222222222222222,\"#7201a8\"],[0.3333333333333333,\"#9c179e\"],[0.4444444444444444,\"#bd3786\"],[0.5555555555555556,\"#d8576b\"],[0.6666666666666666,\"#ed7953\"],[0.7777777777777778,\"#fb9f3a\"],[0.8888888888888888,\"#fdca26\"],[1.0,\"#f0f921\"]]}],\"heatmap\":[{\"type\":\"heatmap\",\"colorbar\":{\"outlinewidth\":0,\"ticks\":\"\"},\"colorscale\":[[0.0,\"#0d0887\"],[0.1111111111111111,\"#46039f\"],[0.2222222222222222,\"#7201a8\"],[0.3333333333333333,\"#9c179e\"],[0.4444444444444444,\"#bd3786\"],[0.5555555555555556,\"#d8576b\"],[0.6666666666666666,\"#ed7953\"],[0.7777777777777778,\"#fb9f3a\"],[0.8888888888888888,\"#fdca26\"],[1.0,\"#f0f921\"]]}],\"heatmapgl\":[{\"type\":\"heatmapgl\",\"colorbar\":{\"outlinewidth\":0,\"ticks\":\"\"},\"colorscale\":[[0.0,\"#0d0887\"],[0.1111111111111111,\"#46039f\"],[0.2222222222222222,\"#7201a8\"],[0.3333333333333333,\"#9c179e\"],[0.4444444444444444,\"#bd3786\"],[0.5555555555555556,\"#d8576b\"],[0.6666666666666666,\"#ed7953\"],[0.7777777777777778,\"#fb9f3a\"],[0.8888888888888888,\"#fdca26\"],[1.0,\"#f0f921\"]]}],\"contourcarpet\":[{\"type\":\"contourcarpet\",\"colorbar\":{\"outlinewidth\":0,\"ticks\":\"\"}}],\"contour\":[{\"type\":\"contour\",\"colorbar\":{\"outlinewidth\":0,\"ticks\":\"\"},\"colorscale\":[[0.0,\"#0d0887\"],[0.1111111111111111,\"#46039f\"],[0.2222222222222222,\"#7201a8\"],[0.3333333333333333,\"#9c179e\"],[0.4444444444444444,\"#bd3786\"],[0.5555555555555556,\"#d8576b\"],[0.6666666666666666,\"#ed7953\"],[0.7777777777777778,\"#fb9f3a\"],[0.8888888888888888,\"#fdca26\"],[1.0,\"#f0f921\"]]}],\"surface\":[{\"type\":\"surface\",\"colorbar\":{\"outlinewidth\":0,\"ticks\":\"\"},\"colorscale\":[[0.0,\"#0d0887\"],[0.1111111111111111,\"#46039f\"],[0.2222222222222222,\"#7201a8\"],[0.3333333333333333,\"#9c179e\"],[0.4444444444444444,\"#bd3786\"],[0.5555555555555556,\"#d8576b\"],[0.6666666666666666,\"#ed7953\"],[0.7777777777777778,\"#fb9f3a\"],[0.8888888888888888,\"#fdca26\"],[1.0,\"#f0f921\"]]}],\"mesh3d\":[{\"type\":\"mesh3d\",\"colorbar\":{\"outlinewidth\":0,\"ticks\":\"\"}}],\"scatter\":[{\"fillpattern\":{\"fillmode\":\"overlay\",\"size\":10,\"solidity\":0.2},\"type\":\"scatter\"}],\"parcoords\":[{\"type\":\"parcoords\",\"line\":{\"colorbar\":{\"outlinewidth\":0,\"ticks\":\"\"}}}],\"scatterpolargl\":[{\"type\":\"scatterpolargl\",\"marker\":{\"colorbar\":{\"outlinewidth\":0,\"ticks\":\"\"}}}],\"bar\":[{\"error_x\":{\"color\":\"#2a3f5f\"},\"error_y\":{\"color\":\"#2a3f5f\"},\"marker\":{\"line\":{\"color\":\"#E5ECF6\",\"width\":0.5},\"pattern\":{\"fillmode\":\"overlay\",\"size\":10,\"solidity\":0.2}},\"type\":\"bar\"}],\"scattergeo\":[{\"type\":\"scattergeo\",\"marker\":{\"colorbar\":{\"outlinewidth\":0,\"ticks\":\"\"}}}],\"scatterpolar\":[{\"type\":\"scatterpolar\",\"marker\":{\"colorbar\":{\"outlinewidth\":0,\"ticks\":\"\"}}}],\"histogram\":[{\"marker\":{\"pattern\":{\"fillmode\":\"overlay\",\"size\":10,\"solidity\":0.2}},\"type\":\"histogram\"}],\"scattergl\":[{\"type\":\"scattergl\",\"marker\":{\"colorbar\":{\"outlinewidth\":0,\"ticks\":\"\"}}}],\"scatter3d\":[{\"type\":\"scatter3d\",\"line\":{\"colorbar\":{\"outlinewidth\":0,\"ticks\":\"\"}},\"marker\":{\"colorbar\":{\"outlinewidth\":0,\"ticks\":\"\"}}}],\"scattermapbox\":[{\"type\":\"scattermapbox\",\"marker\":{\"colorbar\":{\"outlinewidth\":0,\"ticks\":\"\"}}}],\"scatterternary\":[{\"type\":\"scatterternary\",\"marker\":{\"colorbar\":{\"outlinewidth\":0,\"ticks\":\"\"}}}],\"scattercarpet\":[{\"type\":\"scattercarpet\",\"marker\":{\"colorbar\":{\"outlinewidth\":0,\"ticks\":\"\"}}}],\"carpet\":[{\"aaxis\":{\"endlinecolor\":\"#2a3f5f\",\"gridcolor\":\"white\",\"linecolor\":\"white\",\"minorgridcolor\":\"white\",\"startlinecolor\":\"#2a3f5f\"},\"baxis\":{\"endlinecolor\":\"#2a3f5f\",\"gridcolor\":\"white\",\"linecolor\":\"white\",\"minorgridcolor\":\"white\",\"startlinecolor\":\"#2a3f5f\"},\"type\":\"carpet\"}],\"table\":[{\"cells\":{\"fill\":{\"color\":\"#EBF0F8\"},\"line\":{\"color\":\"white\"}},\"header\":{\"fill\":{\"color\":\"#C8D4E3\"},\"line\":{\"color\":\"white\"}},\"type\":\"table\"}],\"barpolar\":[{\"marker\":{\"line\":{\"color\":\"#E5ECF6\",\"width\":0.5},\"pattern\":{\"fillmode\":\"overlay\",\"size\":10,\"solidity\":0.2}},\"type\":\"barpolar\"}],\"pie\":[{\"automargin\":true,\"type\":\"pie\"}]},\"layout\":{\"autotypenumbers\":\"strict\",\"colorway\":[\"#636efa\",\"#EF553B\",\"#00cc96\",\"#ab63fa\",\"#FFA15A\",\"#19d3f3\",\"#FF6692\",\"#B6E880\",\"#FF97FF\",\"#FECB52\"],\"font\":{\"color\":\"#2a3f5f\"},\"hovermode\":\"closest\",\"hoverlabel\":{\"align\":\"left\"},\"paper_bgcolor\":\"white\",\"plot_bgcolor\":\"#E5ECF6\",\"polar\":{\"bgcolor\":\"#E5ECF6\",\"angularaxis\":{\"gridcolor\":\"white\",\"linecolor\":\"white\",\"ticks\":\"\"},\"radialaxis\":{\"gridcolor\":\"white\",\"linecolor\":\"white\",\"ticks\":\"\"}},\"ternary\":{\"bgcolor\":\"#E5ECF6\",\"aaxis\":{\"gridcolor\":\"white\",\"linecolor\":\"white\",\"ticks\":\"\"},\"baxis\":{\"gridcolor\":\"white\",\"linecolor\":\"white\",\"ticks\":\"\"},\"caxis\":{\"gridcolor\":\"white\",\"linecolor\":\"white\",\"ticks\":\"\"}},\"coloraxis\":{\"colorbar\":{\"outlinewidth\":0,\"ticks\":\"\"}},\"colorscale\":{\"sequential\":[[0.0,\"#0d0887\"],[0.1111111111111111,\"#46039f\"],[0.2222222222222222,\"#7201a8\"],[0.3333333333333333,\"#9c179e\"],[0.4444444444444444,\"#bd3786\"],[0.5555555555555556,\"#d8576b\"],[0.6666666666666666,\"#ed7953\"],[0.7777777777777778,\"#fb9f3a\"],[0.8888888888888888,\"#fdca26\"],[1.0,\"#f0f921\"]],\"sequentialminus\":[[0.0,\"#0d0887\"],[0.1111111111111111,\"#46039f\"],[0.2222222222222222,\"#7201a8\"],[0.3333333333333333,\"#9c179e\"],[0.4444444444444444,\"#bd3786\"],[0.5555555555555556,\"#d8576b\"],[0.6666666666666666,\"#ed7953\"],[0.7777777777777778,\"#fb9f3a\"],[0.8888888888888888,\"#fdca26\"],[1.0,\"#f0f921\"]],\"diverging\":[[0,\"#8e0152\"],[0.1,\"#c51b7d\"],[0.2,\"#de77ae\"],[0.3,\"#f1b6da\"],[0.4,\"#fde0ef\"],[0.5,\"#f7f7f7\"],[0.6,\"#e6f5d0\"],[0.7,\"#b8e186\"],[0.8,\"#7fbc41\"],[0.9,\"#4d9221\"],[1,\"#276419\"]]},\"xaxis\":{\"gridcolor\":\"white\",\"linecolor\":\"white\",\"ticks\":\"\",\"title\":{\"standoff\":15},\"zerolinecolor\":\"white\",\"automargin\":true,\"zerolinewidth\":2},\"yaxis\":{\"gridcolor\":\"white\",\"linecolor\":\"white\",\"ticks\":\"\",\"title\":{\"standoff\":15},\"zerolinecolor\":\"white\",\"automargin\":true,\"zerolinewidth\":2},\"scene\":{\"xaxis\":{\"backgroundcolor\":\"#E5ECF6\",\"gridcolor\":\"white\",\"linecolor\":\"white\",\"showbackground\":true,\"ticks\":\"\",\"zerolinecolor\":\"white\",\"gridwidth\":2},\"yaxis\":{\"backgroundcolor\":\"#E5ECF6\",\"gridcolor\":\"white\",\"linecolor\":\"white\",\"showbackground\":true,\"ticks\":\"\",\"zerolinecolor\":\"white\",\"gridwidth\":2},\"zaxis\":{\"backgroundcolor\":\"#E5ECF6\",\"gridcolor\":\"white\",\"linecolor\":\"white\",\"showbackground\":true,\"ticks\":\"\",\"zerolinecolor\":\"white\",\"gridwidth\":2}},\"shapedefaults\":{\"line\":{\"color\":\"#2a3f5f\"}},\"annotationdefaults\":{\"arrowcolor\":\"#2a3f5f\",\"arrowhead\":0,\"arrowwidth\":1},\"geo\":{\"bgcolor\":\"white\",\"landcolor\":\"#E5ECF6\",\"subunitcolor\":\"white\",\"showland\":true,\"showlakes\":true,\"lakecolor\":\"white\"},\"title\":{\"x\":0.05},\"mapbox\":{\"style\":\"light\"}}},\"xaxis\":{\"anchor\":\"y\",\"domain\":[0.0,1.0],\"title\":{\"text\":\"Lieu\",\"font\":{\"size\":14,\"family\":\"Arial\",\"color\":\"black\"}}},\"yaxis\":{\"anchor\":\"x\",\"domain\":[0.0,1.0],\"title\":{\"text\":\"Nombre de personnes \\u00e0 l'\\u00e9v\\u00e9n\\u00e9ment\",\"font\":{\"size\":14,\"family\":\"Arial\",\"color\":\"black\"}}},\"legend\":{\"tracegroupgap\":0},\"title\":{\"text\":\"Nombre de personnes \\u00e0 l'\\u00e9v\\u00e9n\\u00e9ment par lieu\",\"font\":{\"size\":20,\"family\":\"Arial\",\"color\":\"darkblue\"}},\"barmode\":\"relative\",\"plot_bgcolor\":\"whitesmoke\"},                        {\"responsive\": true}                    ).then(function(){\n",
       "                            \n",
       "var gd = document.getElementById('f30b941e-5ab4-46f2-b36e-2fbf8a481f9c');\n",
       "var x = new MutationObserver(function (mutations, observer) {{\n",
       "        var display = window.getComputedStyle(gd).display;\n",
       "        if (!display || display === 'none') {{\n",
       "            console.log([gd, 'removed!']);\n",
       "            Plotly.purge(gd);\n",
       "            observer.disconnect();\n",
       "        }}\n",
       "}});\n",
       "\n",
       "// Listen for the removal of the full notebook cells\n",
       "var notebookContainer = gd.closest('#notebook-container');\n",
       "if (notebookContainer) {{\n",
       "    x.observe(notebookContainer, {childList: true});\n",
       "}}\n",
       "\n",
       "// Listen for the clearing of the current output cell\n",
       "var outputEl = gd.closest('.output');\n",
       "if (outputEl) {{\n",
       "    x.observe(outputEl, {childList: true});\n",
       "}}\n",
       "\n",
       "                        })                };                });            </script>        </div>"
      ]
     },
     "metadata": {},
     "output_type": "display_data"
    }
   ],
   "source": [
    "# Création du graphique à barres avec Plotly Express\n",
    "fig = px.bar(df, x='Lieu', y='Nombre de personnes à l\\'événément', title='Nombre de personnes à l\\'événément par lieu')\n",
    "\n",
    "# Personnalisation des paramètres esthétiques\n",
    "fig.update_traces(marker_color='skyblue', marker_line_color='black', marker_line_width=1, opacity=0.7)\n",
    "fig.update_layout(title_font=dict(size=20, family='Arial', color='darkblue'), \n",
    "                  xaxis=dict(title='Lieu', title_font=dict(size=14, family='Arial', color='black')),\n",
    "                  yaxis=dict(title='Nombre de personnes à l\\'événément', title_font=dict(size=14, family='Arial', color='black')),\n",
    "                  plot_bgcolor='whitesmoke')\n",
    "\n",
    "fig.show()\n"
   ]
  },
  {
   "cell_type": "code",
   "execution_count": 52,
   "metadata": {},
   "outputs": [
    {
     "data": {
      "application/vnd.plotly.v1+json": {
       "config": {
        "plotlyServerURL": "https://plot.ly"
       },
       "data": [
        {
         "alignmentgroup": "True",
         "hovertemplate": "Numéro de ligne=%{x}<br>Nombre total de personnes=%{y}<extra></extra>",
         "legendgroup": "",
         "marker": {
          "color": "salmon",
          "line": {
           "color": "black",
           "width": 1
          },
          "pattern": {
           "shape": ""
          }
         },
         "name": "",
         "offsetgroup": "",
         "opacity": 0.7,
         "orientation": "v",
         "showlegend": false,
         "textposition": "auto",
         "type": "bar",
         "x": [
          1,
          3,
          6,
          7,
          8,
          9,
          10,
          12,
          13,
          14
         ],
         "xaxis": "x",
         "y": [
          67000,
          35000,
          47565,
          35000,
          61356,
          39171,
          23318,
          50700,
          95083,
          50000
         ],
         "yaxis": "y"
        }
       ],
       "layout": {
        "barmode": "relative",
        "legend": {
         "tracegroupgap": 0
        },
        "plot_bgcolor": "whitesmoke",
        "template": {
         "data": {
          "bar": [
           {
            "error_x": {
             "color": "#2a3f5f"
            },
            "error_y": {
             "color": "#2a3f5f"
            },
            "marker": {
             "line": {
              "color": "#E5ECF6",
              "width": 0.5
             },
             "pattern": {
              "fillmode": "overlay",
              "size": 10,
              "solidity": 0.2
             }
            },
            "type": "bar"
           }
          ],
          "barpolar": [
           {
            "marker": {
             "line": {
              "color": "#E5ECF6",
              "width": 0.5
             },
             "pattern": {
              "fillmode": "overlay",
              "size": 10,
              "solidity": 0.2
             }
            },
            "type": "barpolar"
           }
          ],
          "carpet": [
           {
            "aaxis": {
             "endlinecolor": "#2a3f5f",
             "gridcolor": "white",
             "linecolor": "white",
             "minorgridcolor": "white",
             "startlinecolor": "#2a3f5f"
            },
            "baxis": {
             "endlinecolor": "#2a3f5f",
             "gridcolor": "white",
             "linecolor": "white",
             "minorgridcolor": "white",
             "startlinecolor": "#2a3f5f"
            },
            "type": "carpet"
           }
          ],
          "choropleth": [
           {
            "colorbar": {
             "outlinewidth": 0,
             "ticks": ""
            },
            "type": "choropleth"
           }
          ],
          "contour": [
           {
            "colorbar": {
             "outlinewidth": 0,
             "ticks": ""
            },
            "colorscale": [
             [
              0,
              "#0d0887"
             ],
             [
              0.1111111111111111,
              "#46039f"
             ],
             [
              0.2222222222222222,
              "#7201a8"
             ],
             [
              0.3333333333333333,
              "#9c179e"
             ],
             [
              0.4444444444444444,
              "#bd3786"
             ],
             [
              0.5555555555555556,
              "#d8576b"
             ],
             [
              0.6666666666666666,
              "#ed7953"
             ],
             [
              0.7777777777777778,
              "#fb9f3a"
             ],
             [
              0.8888888888888888,
              "#fdca26"
             ],
             [
              1,
              "#f0f921"
             ]
            ],
            "type": "contour"
           }
          ],
          "contourcarpet": [
           {
            "colorbar": {
             "outlinewidth": 0,
             "ticks": ""
            },
            "type": "contourcarpet"
           }
          ],
          "heatmap": [
           {
            "colorbar": {
             "outlinewidth": 0,
             "ticks": ""
            },
            "colorscale": [
             [
              0,
              "#0d0887"
             ],
             [
              0.1111111111111111,
              "#46039f"
             ],
             [
              0.2222222222222222,
              "#7201a8"
             ],
             [
              0.3333333333333333,
              "#9c179e"
             ],
             [
              0.4444444444444444,
              "#bd3786"
             ],
             [
              0.5555555555555556,
              "#d8576b"
             ],
             [
              0.6666666666666666,
              "#ed7953"
             ],
             [
              0.7777777777777778,
              "#fb9f3a"
             ],
             [
              0.8888888888888888,
              "#fdca26"
             ],
             [
              1,
              "#f0f921"
             ]
            ],
            "type": "heatmap"
           }
          ],
          "heatmapgl": [
           {
            "colorbar": {
             "outlinewidth": 0,
             "ticks": ""
            },
            "colorscale": [
             [
              0,
              "#0d0887"
             ],
             [
              0.1111111111111111,
              "#46039f"
             ],
             [
              0.2222222222222222,
              "#7201a8"
             ],
             [
              0.3333333333333333,
              "#9c179e"
             ],
             [
              0.4444444444444444,
              "#bd3786"
             ],
             [
              0.5555555555555556,
              "#d8576b"
             ],
             [
              0.6666666666666666,
              "#ed7953"
             ],
             [
              0.7777777777777778,
              "#fb9f3a"
             ],
             [
              0.8888888888888888,
              "#fdca26"
             ],
             [
              1,
              "#f0f921"
             ]
            ],
            "type": "heatmapgl"
           }
          ],
          "histogram": [
           {
            "marker": {
             "pattern": {
              "fillmode": "overlay",
              "size": 10,
              "solidity": 0.2
             }
            },
            "type": "histogram"
           }
          ],
          "histogram2d": [
           {
            "colorbar": {
             "outlinewidth": 0,
             "ticks": ""
            },
            "colorscale": [
             [
              0,
              "#0d0887"
             ],
             [
              0.1111111111111111,
              "#46039f"
             ],
             [
              0.2222222222222222,
              "#7201a8"
             ],
             [
              0.3333333333333333,
              "#9c179e"
             ],
             [
              0.4444444444444444,
              "#bd3786"
             ],
             [
              0.5555555555555556,
              "#d8576b"
             ],
             [
              0.6666666666666666,
              "#ed7953"
             ],
             [
              0.7777777777777778,
              "#fb9f3a"
             ],
             [
              0.8888888888888888,
              "#fdca26"
             ],
             [
              1,
              "#f0f921"
             ]
            ],
            "type": "histogram2d"
           }
          ],
          "histogram2dcontour": [
           {
            "colorbar": {
             "outlinewidth": 0,
             "ticks": ""
            },
            "colorscale": [
             [
              0,
              "#0d0887"
             ],
             [
              0.1111111111111111,
              "#46039f"
             ],
             [
              0.2222222222222222,
              "#7201a8"
             ],
             [
              0.3333333333333333,
              "#9c179e"
             ],
             [
              0.4444444444444444,
              "#bd3786"
             ],
             [
              0.5555555555555556,
              "#d8576b"
             ],
             [
              0.6666666666666666,
              "#ed7953"
             ],
             [
              0.7777777777777778,
              "#fb9f3a"
             ],
             [
              0.8888888888888888,
              "#fdca26"
             ],
             [
              1,
              "#f0f921"
             ]
            ],
            "type": "histogram2dcontour"
           }
          ],
          "mesh3d": [
           {
            "colorbar": {
             "outlinewidth": 0,
             "ticks": ""
            },
            "type": "mesh3d"
           }
          ],
          "parcoords": [
           {
            "line": {
             "colorbar": {
              "outlinewidth": 0,
              "ticks": ""
             }
            },
            "type": "parcoords"
           }
          ],
          "pie": [
           {
            "automargin": true,
            "type": "pie"
           }
          ],
          "scatter": [
           {
            "fillpattern": {
             "fillmode": "overlay",
             "size": 10,
             "solidity": 0.2
            },
            "type": "scatter"
           }
          ],
          "scatter3d": [
           {
            "line": {
             "colorbar": {
              "outlinewidth": 0,
              "ticks": ""
             }
            },
            "marker": {
             "colorbar": {
              "outlinewidth": 0,
              "ticks": ""
             }
            },
            "type": "scatter3d"
           }
          ],
          "scattercarpet": [
           {
            "marker": {
             "colorbar": {
              "outlinewidth": 0,
              "ticks": ""
             }
            },
            "type": "scattercarpet"
           }
          ],
          "scattergeo": [
           {
            "marker": {
             "colorbar": {
              "outlinewidth": 0,
              "ticks": ""
             }
            },
            "type": "scattergeo"
           }
          ],
          "scattergl": [
           {
            "marker": {
             "colorbar": {
              "outlinewidth": 0,
              "ticks": ""
             }
            },
            "type": "scattergl"
           }
          ],
          "scattermapbox": [
           {
            "marker": {
             "colorbar": {
              "outlinewidth": 0,
              "ticks": ""
             }
            },
            "type": "scattermapbox"
           }
          ],
          "scatterpolar": [
           {
            "marker": {
             "colorbar": {
              "outlinewidth": 0,
              "ticks": ""
             }
            },
            "type": "scatterpolar"
           }
          ],
          "scatterpolargl": [
           {
            "marker": {
             "colorbar": {
              "outlinewidth": 0,
              "ticks": ""
             }
            },
            "type": "scatterpolargl"
           }
          ],
          "scatterternary": [
           {
            "marker": {
             "colorbar": {
              "outlinewidth": 0,
              "ticks": ""
             }
            },
            "type": "scatterternary"
           }
          ],
          "surface": [
           {
            "colorbar": {
             "outlinewidth": 0,
             "ticks": ""
            },
            "colorscale": [
             [
              0,
              "#0d0887"
             ],
             [
              0.1111111111111111,
              "#46039f"
             ],
             [
              0.2222222222222222,
              "#7201a8"
             ],
             [
              0.3333333333333333,
              "#9c179e"
             ],
             [
              0.4444444444444444,
              "#bd3786"
             ],
             [
              0.5555555555555556,
              "#d8576b"
             ],
             [
              0.6666666666666666,
              "#ed7953"
             ],
             [
              0.7777777777777778,
              "#fb9f3a"
             ],
             [
              0.8888888888888888,
              "#fdca26"
             ],
             [
              1,
              "#f0f921"
             ]
            ],
            "type": "surface"
           }
          ],
          "table": [
           {
            "cells": {
             "fill": {
              "color": "#EBF0F8"
             },
             "line": {
              "color": "white"
             }
            },
            "header": {
             "fill": {
              "color": "#C8D4E3"
             },
             "line": {
              "color": "white"
             }
            },
            "type": "table"
           }
          ]
         },
         "layout": {
          "annotationdefaults": {
           "arrowcolor": "#2a3f5f",
           "arrowhead": 0,
           "arrowwidth": 1
          },
          "autotypenumbers": "strict",
          "coloraxis": {
           "colorbar": {
            "outlinewidth": 0,
            "ticks": ""
           }
          },
          "colorscale": {
           "diverging": [
            [
             0,
             "#8e0152"
            ],
            [
             0.1,
             "#c51b7d"
            ],
            [
             0.2,
             "#de77ae"
            ],
            [
             0.3,
             "#f1b6da"
            ],
            [
             0.4,
             "#fde0ef"
            ],
            [
             0.5,
             "#f7f7f7"
            ],
            [
             0.6,
             "#e6f5d0"
            ],
            [
             0.7,
             "#b8e186"
            ],
            [
             0.8,
             "#7fbc41"
            ],
            [
             0.9,
             "#4d9221"
            ],
            [
             1,
             "#276419"
            ]
           ],
           "sequential": [
            [
             0,
             "#0d0887"
            ],
            [
             0.1111111111111111,
             "#46039f"
            ],
            [
             0.2222222222222222,
             "#7201a8"
            ],
            [
             0.3333333333333333,
             "#9c179e"
            ],
            [
             0.4444444444444444,
             "#bd3786"
            ],
            [
             0.5555555555555556,
             "#d8576b"
            ],
            [
             0.6666666666666666,
             "#ed7953"
            ],
            [
             0.7777777777777778,
             "#fb9f3a"
            ],
            [
             0.8888888888888888,
             "#fdca26"
            ],
            [
             1,
             "#f0f921"
            ]
           ],
           "sequentialminus": [
            [
             0,
             "#0d0887"
            ],
            [
             0.1111111111111111,
             "#46039f"
            ],
            [
             0.2222222222222222,
             "#7201a8"
            ],
            [
             0.3333333333333333,
             "#9c179e"
            ],
            [
             0.4444444444444444,
             "#bd3786"
            ],
            [
             0.5555555555555556,
             "#d8576b"
            ],
            [
             0.6666666666666666,
             "#ed7953"
            ],
            [
             0.7777777777777778,
             "#fb9f3a"
            ],
            [
             0.8888888888888888,
             "#fdca26"
            ],
            [
             1,
             "#f0f921"
            ]
           ]
          },
          "colorway": [
           "#636efa",
           "#EF553B",
           "#00cc96",
           "#ab63fa",
           "#FFA15A",
           "#19d3f3",
           "#FF6692",
           "#B6E880",
           "#FF97FF",
           "#FECB52"
          ],
          "font": {
           "color": "#2a3f5f"
          },
          "geo": {
           "bgcolor": "white",
           "lakecolor": "white",
           "landcolor": "#E5ECF6",
           "showlakes": true,
           "showland": true,
           "subunitcolor": "white"
          },
          "hoverlabel": {
           "align": "left"
          },
          "hovermode": "closest",
          "mapbox": {
           "style": "light"
          },
          "paper_bgcolor": "white",
          "plot_bgcolor": "#E5ECF6",
          "polar": {
           "angularaxis": {
            "gridcolor": "white",
            "linecolor": "white",
            "ticks": ""
           },
           "bgcolor": "#E5ECF6",
           "radialaxis": {
            "gridcolor": "white",
            "linecolor": "white",
            "ticks": ""
           }
          },
          "scene": {
           "xaxis": {
            "backgroundcolor": "#E5ECF6",
            "gridcolor": "white",
            "gridwidth": 2,
            "linecolor": "white",
            "showbackground": true,
            "ticks": "",
            "zerolinecolor": "white"
           },
           "yaxis": {
            "backgroundcolor": "#E5ECF6",
            "gridcolor": "white",
            "gridwidth": 2,
            "linecolor": "white",
            "showbackground": true,
            "ticks": "",
            "zerolinecolor": "white"
           },
           "zaxis": {
            "backgroundcolor": "#E5ECF6",
            "gridcolor": "white",
            "gridwidth": 2,
            "linecolor": "white",
            "showbackground": true,
            "ticks": "",
            "zerolinecolor": "white"
           }
          },
          "shapedefaults": {
           "line": {
            "color": "#2a3f5f"
           }
          },
          "ternary": {
           "aaxis": {
            "gridcolor": "white",
            "linecolor": "white",
            "ticks": ""
           },
           "baxis": {
            "gridcolor": "white",
            "linecolor": "white",
            "ticks": ""
           },
           "bgcolor": "#E5ECF6",
           "caxis": {
            "gridcolor": "white",
            "linecolor": "white",
            "ticks": ""
           }
          },
          "title": {
           "x": 0.05
          },
          "xaxis": {
           "automargin": true,
           "gridcolor": "white",
           "linecolor": "white",
           "ticks": "",
           "title": {
            "standoff": 15
           },
           "zerolinecolor": "white",
           "zerolinewidth": 2
          },
          "yaxis": {
           "automargin": true,
           "gridcolor": "white",
           "linecolor": "white",
           "ticks": "",
           "title": {
            "standoff": 15
           },
           "zerolinecolor": "white",
           "zerolinewidth": 2
          }
         }
        },
        "title": {
         "font": {
          "color": "darkblue",
          "family": "Arial",
          "size": 20
         },
         "text": "Nombre total de personnes par ligne"
        },
        "xaxis": {
         "anchor": "y",
         "domain": [
          0,
          1
         ],
         "title": {
          "font": {
           "color": "black",
           "family": "Arial",
           "size": 14
          },
          "text": "Numéro de ligne"
         }
        },
        "yaxis": {
         "anchor": "x",
         "domain": [
          0,
          1
         ],
         "title": {
          "font": {
           "color": "black",
           "family": "Arial",
           "size": 14
          },
          "text": "Nombre total de personnes"
         }
        }
       }
      },
      "text/html": [
       "<div>                            <div id=\"e76855b4-340d-41eb-8f7a-486dd3de9f50\" class=\"plotly-graph-div\" style=\"height:525px; width:100%;\"></div>            <script type=\"text/javascript\">                require([\"plotly\"], function(Plotly) {                    window.PLOTLYENV=window.PLOTLYENV || {};                                    if (document.getElementById(\"e76855b4-340d-41eb-8f7a-486dd3de9f50\")) {                    Plotly.newPlot(                        \"e76855b4-340d-41eb-8f7a-486dd3de9f50\",                        [{\"alignmentgroup\":\"True\",\"hovertemplate\":\"Num\\u00e9ro de ligne=%{x}\\u003cbr\\u003eNombre total de personnes=%{y}\\u003cextra\\u003e\\u003c\\u002fextra\\u003e\",\"legendgroup\":\"\",\"marker\":{\"color\":\"salmon\",\"pattern\":{\"shape\":\"\"},\"line\":{\"color\":\"black\",\"width\":1}},\"name\":\"\",\"offsetgroup\":\"\",\"orientation\":\"v\",\"showlegend\":false,\"textposition\":\"auto\",\"x\":[1,3,6,7,8,9,10,12,13,14],\"xaxis\":\"x\",\"y\":[67000,35000,47565,35000,61356,39171,23318,50700,95083,50000],\"yaxis\":\"y\",\"type\":\"bar\",\"opacity\":0.7}],                        {\"template\":{\"data\":{\"histogram2dcontour\":[{\"type\":\"histogram2dcontour\",\"colorbar\":{\"outlinewidth\":0,\"ticks\":\"\"},\"colorscale\":[[0.0,\"#0d0887\"],[0.1111111111111111,\"#46039f\"],[0.2222222222222222,\"#7201a8\"],[0.3333333333333333,\"#9c179e\"],[0.4444444444444444,\"#bd3786\"],[0.5555555555555556,\"#d8576b\"],[0.6666666666666666,\"#ed7953\"],[0.7777777777777778,\"#fb9f3a\"],[0.8888888888888888,\"#fdca26\"],[1.0,\"#f0f921\"]]}],\"choropleth\":[{\"type\":\"choropleth\",\"colorbar\":{\"outlinewidth\":0,\"ticks\":\"\"}}],\"histogram2d\":[{\"type\":\"histogram2d\",\"colorbar\":{\"outlinewidth\":0,\"ticks\":\"\"},\"colorscale\":[[0.0,\"#0d0887\"],[0.1111111111111111,\"#46039f\"],[0.2222222222222222,\"#7201a8\"],[0.3333333333333333,\"#9c179e\"],[0.4444444444444444,\"#bd3786\"],[0.5555555555555556,\"#d8576b\"],[0.6666666666666666,\"#ed7953\"],[0.7777777777777778,\"#fb9f3a\"],[0.8888888888888888,\"#fdca26\"],[1.0,\"#f0f921\"]]}],\"heatmap\":[{\"type\":\"heatmap\",\"colorbar\":{\"outlinewidth\":0,\"ticks\":\"\"},\"colorscale\":[[0.0,\"#0d0887\"],[0.1111111111111111,\"#46039f\"],[0.2222222222222222,\"#7201a8\"],[0.3333333333333333,\"#9c179e\"],[0.4444444444444444,\"#bd3786\"],[0.5555555555555556,\"#d8576b\"],[0.6666666666666666,\"#ed7953\"],[0.7777777777777778,\"#fb9f3a\"],[0.8888888888888888,\"#fdca26\"],[1.0,\"#f0f921\"]]}],\"heatmapgl\":[{\"type\":\"heatmapgl\",\"colorbar\":{\"outlinewidth\":0,\"ticks\":\"\"},\"colorscale\":[[0.0,\"#0d0887\"],[0.1111111111111111,\"#46039f\"],[0.2222222222222222,\"#7201a8\"],[0.3333333333333333,\"#9c179e\"],[0.4444444444444444,\"#bd3786\"],[0.5555555555555556,\"#d8576b\"],[0.6666666666666666,\"#ed7953\"],[0.7777777777777778,\"#fb9f3a\"],[0.8888888888888888,\"#fdca26\"],[1.0,\"#f0f921\"]]}],\"contourcarpet\":[{\"type\":\"contourcarpet\",\"colorbar\":{\"outlinewidth\":0,\"ticks\":\"\"}}],\"contour\":[{\"type\":\"contour\",\"colorbar\":{\"outlinewidth\":0,\"ticks\":\"\"},\"colorscale\":[[0.0,\"#0d0887\"],[0.1111111111111111,\"#46039f\"],[0.2222222222222222,\"#7201a8\"],[0.3333333333333333,\"#9c179e\"],[0.4444444444444444,\"#bd3786\"],[0.5555555555555556,\"#d8576b\"],[0.6666666666666666,\"#ed7953\"],[0.7777777777777778,\"#fb9f3a\"],[0.8888888888888888,\"#fdca26\"],[1.0,\"#f0f921\"]]}],\"surface\":[{\"type\":\"surface\",\"colorbar\":{\"outlinewidth\":0,\"ticks\":\"\"},\"colorscale\":[[0.0,\"#0d0887\"],[0.1111111111111111,\"#46039f\"],[0.2222222222222222,\"#7201a8\"],[0.3333333333333333,\"#9c179e\"],[0.4444444444444444,\"#bd3786\"],[0.5555555555555556,\"#d8576b\"],[0.6666666666666666,\"#ed7953\"],[0.7777777777777778,\"#fb9f3a\"],[0.8888888888888888,\"#fdca26\"],[1.0,\"#f0f921\"]]}],\"mesh3d\":[{\"type\":\"mesh3d\",\"colorbar\":{\"outlinewidth\":0,\"ticks\":\"\"}}],\"scatter\":[{\"fillpattern\":{\"fillmode\":\"overlay\",\"size\":10,\"solidity\":0.2},\"type\":\"scatter\"}],\"parcoords\":[{\"type\":\"parcoords\",\"line\":{\"colorbar\":{\"outlinewidth\":0,\"ticks\":\"\"}}}],\"scatterpolargl\":[{\"type\":\"scatterpolargl\",\"marker\":{\"colorbar\":{\"outlinewidth\":0,\"ticks\":\"\"}}}],\"bar\":[{\"error_x\":{\"color\":\"#2a3f5f\"},\"error_y\":{\"color\":\"#2a3f5f\"},\"marker\":{\"line\":{\"color\":\"#E5ECF6\",\"width\":0.5},\"pattern\":{\"fillmode\":\"overlay\",\"size\":10,\"solidity\":0.2}},\"type\":\"bar\"}],\"scattergeo\":[{\"type\":\"scattergeo\",\"marker\":{\"colorbar\":{\"outlinewidth\":0,\"ticks\":\"\"}}}],\"scatterpolar\":[{\"type\":\"scatterpolar\",\"marker\":{\"colorbar\":{\"outlinewidth\":0,\"ticks\":\"\"}}}],\"histogram\":[{\"marker\":{\"pattern\":{\"fillmode\":\"overlay\",\"size\":10,\"solidity\":0.2}},\"type\":\"histogram\"}],\"scattergl\":[{\"type\":\"scattergl\",\"marker\":{\"colorbar\":{\"outlinewidth\":0,\"ticks\":\"\"}}}],\"scatter3d\":[{\"type\":\"scatter3d\",\"line\":{\"colorbar\":{\"outlinewidth\":0,\"ticks\":\"\"}},\"marker\":{\"colorbar\":{\"outlinewidth\":0,\"ticks\":\"\"}}}],\"scattermapbox\":[{\"type\":\"scattermapbox\",\"marker\":{\"colorbar\":{\"outlinewidth\":0,\"ticks\":\"\"}}}],\"scatterternary\":[{\"type\":\"scatterternary\",\"marker\":{\"colorbar\":{\"outlinewidth\":0,\"ticks\":\"\"}}}],\"scattercarpet\":[{\"type\":\"scattercarpet\",\"marker\":{\"colorbar\":{\"outlinewidth\":0,\"ticks\":\"\"}}}],\"carpet\":[{\"aaxis\":{\"endlinecolor\":\"#2a3f5f\",\"gridcolor\":\"white\",\"linecolor\":\"white\",\"minorgridcolor\":\"white\",\"startlinecolor\":\"#2a3f5f\"},\"baxis\":{\"endlinecolor\":\"#2a3f5f\",\"gridcolor\":\"white\",\"linecolor\":\"white\",\"minorgridcolor\":\"white\",\"startlinecolor\":\"#2a3f5f\"},\"type\":\"carpet\"}],\"table\":[{\"cells\":{\"fill\":{\"color\":\"#EBF0F8\"},\"line\":{\"color\":\"white\"}},\"header\":{\"fill\":{\"color\":\"#C8D4E3\"},\"line\":{\"color\":\"white\"}},\"type\":\"table\"}],\"barpolar\":[{\"marker\":{\"line\":{\"color\":\"#E5ECF6\",\"width\":0.5},\"pattern\":{\"fillmode\":\"overlay\",\"size\":10,\"solidity\":0.2}},\"type\":\"barpolar\"}],\"pie\":[{\"automargin\":true,\"type\":\"pie\"}]},\"layout\":{\"autotypenumbers\":\"strict\",\"colorway\":[\"#636efa\",\"#EF553B\",\"#00cc96\",\"#ab63fa\",\"#FFA15A\",\"#19d3f3\",\"#FF6692\",\"#B6E880\",\"#FF97FF\",\"#FECB52\"],\"font\":{\"color\":\"#2a3f5f\"},\"hovermode\":\"closest\",\"hoverlabel\":{\"align\":\"left\"},\"paper_bgcolor\":\"white\",\"plot_bgcolor\":\"#E5ECF6\",\"polar\":{\"bgcolor\":\"#E5ECF6\",\"angularaxis\":{\"gridcolor\":\"white\",\"linecolor\":\"white\",\"ticks\":\"\"},\"radialaxis\":{\"gridcolor\":\"white\",\"linecolor\":\"white\",\"ticks\":\"\"}},\"ternary\":{\"bgcolor\":\"#E5ECF6\",\"aaxis\":{\"gridcolor\":\"white\",\"linecolor\":\"white\",\"ticks\":\"\"},\"baxis\":{\"gridcolor\":\"white\",\"linecolor\":\"white\",\"ticks\":\"\"},\"caxis\":{\"gridcolor\":\"white\",\"linecolor\":\"white\",\"ticks\":\"\"}},\"coloraxis\":{\"colorbar\":{\"outlinewidth\":0,\"ticks\":\"\"}},\"colorscale\":{\"sequential\":[[0.0,\"#0d0887\"],[0.1111111111111111,\"#46039f\"],[0.2222222222222222,\"#7201a8\"],[0.3333333333333333,\"#9c179e\"],[0.4444444444444444,\"#bd3786\"],[0.5555555555555556,\"#d8576b\"],[0.6666666666666666,\"#ed7953\"],[0.7777777777777778,\"#fb9f3a\"],[0.8888888888888888,\"#fdca26\"],[1.0,\"#f0f921\"]],\"sequentialminus\":[[0.0,\"#0d0887\"],[0.1111111111111111,\"#46039f\"],[0.2222222222222222,\"#7201a8\"],[0.3333333333333333,\"#9c179e\"],[0.4444444444444444,\"#bd3786\"],[0.5555555555555556,\"#d8576b\"],[0.6666666666666666,\"#ed7953\"],[0.7777777777777778,\"#fb9f3a\"],[0.8888888888888888,\"#fdca26\"],[1.0,\"#f0f921\"]],\"diverging\":[[0,\"#8e0152\"],[0.1,\"#c51b7d\"],[0.2,\"#de77ae\"],[0.3,\"#f1b6da\"],[0.4,\"#fde0ef\"],[0.5,\"#f7f7f7\"],[0.6,\"#e6f5d0\"],[0.7,\"#b8e186\"],[0.8,\"#7fbc41\"],[0.9,\"#4d9221\"],[1,\"#276419\"]]},\"xaxis\":{\"gridcolor\":\"white\",\"linecolor\":\"white\",\"ticks\":\"\",\"title\":{\"standoff\":15},\"zerolinecolor\":\"white\",\"automargin\":true,\"zerolinewidth\":2},\"yaxis\":{\"gridcolor\":\"white\",\"linecolor\":\"white\",\"ticks\":\"\",\"title\":{\"standoff\":15},\"zerolinecolor\":\"white\",\"automargin\":true,\"zerolinewidth\":2},\"scene\":{\"xaxis\":{\"backgroundcolor\":\"#E5ECF6\",\"gridcolor\":\"white\",\"linecolor\":\"white\",\"showbackground\":true,\"ticks\":\"\",\"zerolinecolor\":\"white\",\"gridwidth\":2},\"yaxis\":{\"backgroundcolor\":\"#E5ECF6\",\"gridcolor\":\"white\",\"linecolor\":\"white\",\"showbackground\":true,\"ticks\":\"\",\"zerolinecolor\":\"white\",\"gridwidth\":2},\"zaxis\":{\"backgroundcolor\":\"#E5ECF6\",\"gridcolor\":\"white\",\"linecolor\":\"white\",\"showbackground\":true,\"ticks\":\"\",\"zerolinecolor\":\"white\",\"gridwidth\":2}},\"shapedefaults\":{\"line\":{\"color\":\"#2a3f5f\"}},\"annotationdefaults\":{\"arrowcolor\":\"#2a3f5f\",\"arrowhead\":0,\"arrowwidth\":1},\"geo\":{\"bgcolor\":\"white\",\"landcolor\":\"#E5ECF6\",\"subunitcolor\":\"white\",\"showland\":true,\"showlakes\":true,\"lakecolor\":\"white\"},\"title\":{\"x\":0.05},\"mapbox\":{\"style\":\"light\"}}},\"xaxis\":{\"anchor\":\"y\",\"domain\":[0.0,1.0],\"title\":{\"text\":\"Num\\u00e9ro de ligne\",\"font\":{\"size\":14,\"family\":\"Arial\",\"color\":\"black\"}}},\"yaxis\":{\"anchor\":\"x\",\"domain\":[0.0,1.0],\"title\":{\"text\":\"Nombre total de personnes\",\"font\":{\"size\":14,\"family\":\"Arial\",\"color\":\"black\"}}},\"legend\":{\"tracegroupgap\":0},\"title\":{\"text\":\"Nombre total de personnes par ligne\",\"font\":{\"size\":20,\"family\":\"Arial\",\"color\":\"darkblue\"}},\"barmode\":\"relative\",\"plot_bgcolor\":\"whitesmoke\"},                        {\"responsive\": true}                    ).then(function(){\n",
       "                            \n",
       "var gd = document.getElementById('e76855b4-340d-41eb-8f7a-486dd3de9f50');\n",
       "var x = new MutationObserver(function (mutations, observer) {{\n",
       "        var display = window.getComputedStyle(gd).display;\n",
       "        if (!display || display === 'none') {{\n",
       "            console.log([gd, 'removed!']);\n",
       "            Plotly.purge(gd);\n",
       "            observer.disconnect();\n",
       "        }}\n",
       "}});\n",
       "\n",
       "// Listen for the removal of the full notebook cells\n",
       "var notebookContainer = gd.closest('#notebook-container');\n",
       "if (notebookContainer) {{\n",
       "    x.observe(notebookContainer, {childList: true});\n",
       "}}\n",
       "\n",
       "// Listen for the clearing of the current output cell\n",
       "var outputEl = gd.closest('.output');\n",
       "if (outputEl) {{\n",
       "    x.observe(outputEl, {childList: true});\n",
       "}}\n",
       "\n",
       "                        })                };                });            </script>        </div>"
      ]
     },
     "metadata": {},
     "output_type": "display_data"
    }
   ],
   "source": [
    "# Regroupement par ligne et somme du nombre de personnes sur chaque ligne\n",
    "grouped_by_line = df.explode('Lignes').groupby('Lignes')['Nombre de personnes à l\\'événément'].sum().reset_index()\n",
    "\n",
    "# Création du graphique à barres pour le nombre de personnes par ligne avec Plotly Express\n",
    "fig = px.bar(grouped_by_line, x='Lignes', y='Nombre de personnes à l\\'événément', \n",
    "             title='Nombre total de personnes par ligne',\n",
    "             labels={'Lignes': 'Numéro de ligne', 'Nombre de personnes à l\\'événément': 'Nombre total de personnes'})\n",
    "fig.update_xaxes(title_font=dict(size=14, family='Arial', color='black'))\n",
    "fig.update_yaxes(title_font=dict(size=14, family='Arial', color='black'))\n",
    "fig.update_traces(marker_color='salmon', marker_line_color='black', marker_line_width=1, opacity=0.7)\n",
    "fig.update_layout(title_font=dict(size=20, family='Arial', color='darkblue'), plot_bgcolor='whitesmoke')\n",
    "\n",
    "fig.show()"
   ]
  },
  {
   "cell_type": "code",
   "execution_count": 40,
   "metadata": {},
   "outputs": [
    {
     "name": "stdout",
     "output_type": "stream",
     "text": [
      "['Solarize_Light2', '_classic_test_patch', '_mpl-gallery', '_mpl-gallery-nogrid', 'bmh', 'classic', 'dark_background', 'fast', 'fivethirtyeight', 'ggplot', 'grayscale', 'seaborn-v0_8', 'seaborn-v0_8-bright', 'seaborn-v0_8-colorblind', 'seaborn-v0_8-dark', 'seaborn-v0_8-dark-palette', 'seaborn-v0_8-darkgrid', 'seaborn-v0_8-deep', 'seaborn-v0_8-muted', 'seaborn-v0_8-notebook', 'seaborn-v0_8-paper', 'seaborn-v0_8-pastel', 'seaborn-v0_8-poster', 'seaborn-v0_8-talk', 'seaborn-v0_8-ticks', 'seaborn-v0_8-white', 'seaborn-v0_8-whitegrid', 'tableau-colorblind10']\n"
     ]
    }
   ],
   "source": [
    "import matplotlib.pyplot as plt\n",
    "\n",
    "# Afficher les styles disponibles dans Matplotlib\n",
    "print(plt.style.available)\n"
   ]
  }
 ],
 "metadata": {
  "kernelspec": {
   "display_name": "base",
   "language": "python",
   "name": "python3"
  },
  "language_info": {
   "codemirror_mode": {
    "name": "ipython",
    "version": 3
   },
   "file_extension": ".py",
   "mimetype": "text/x-python",
   "name": "python",
   "nbconvert_exporter": "python",
   "pygments_lexer": "ipython3",
   "version": "3.10.13"
  }
 },
 "nbformat": 4,
 "nbformat_minor": 2
}
