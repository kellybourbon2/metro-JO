{
 "cells": [
  {
   "cell_type": "code",
   "execution_count": null,
   "id": "1774ee86",
   "metadata": {},
   "outputs": [],
   "source": [
    "#en considérant que 10% de la rame sort à chaque station (donc 90% restent) et ceux qui sortent ne restent pas sur le quai mais quittent la station\n",
    "#en considérant aussi que toutes les stations ouvrent à 5h (personne sur les quais avant)\n",
    "\n",
    "#Initalisation\n",
    "affluence(5,0)= ...\n",
    "\n",
    "#recurence selon la station (s) sur la ligne (la première station est itérée en 0)\n",
    "affluence(t,s+0.01)= 9/10*affluence(t,s) + affluence(t,s+0.01) + entrants(t,s) \n",
    "#recurrence selon le temps (t)\n",
    "affluence(t+1,s)= affluence(t,s)+ entrants(t,s)-capacité_métro_ligne(s)\n",
    "\n",
    "\n"
   ]
  }
 ],
 "metadata": {
  "kernelspec": {
   "display_name": "Python 3 (ipykernel)",
   "language": "python",
   "name": "python3"
  },
  "language_info": {
   "codemirror_mode": {
    "name": "ipython",
    "version": 3
   },
   "file_extension": ".py",
   "mimetype": "text/x-python",
   "name": "python",
   "nbconvert_exporter": "python",
   "pygments_lexer": "ipython3",
   "version": "3.9.13"
  }
 },
 "nbformat": 4,
 "nbformat_minor": 5
}
